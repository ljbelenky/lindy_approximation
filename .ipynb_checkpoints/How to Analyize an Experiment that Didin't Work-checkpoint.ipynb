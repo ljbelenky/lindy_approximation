{
 "cells": [
  {
   "cell_type": "markdown",
   "id": "4cb964c1",
   "metadata": {},
   "source": [
    "# How to Analyze an Experiment that Didn't Work\n",
    "\n",
    "## Motivation:\n",
    "\n",
    "We want to be able to answer questions such as:\n",
    "\n",
    "* How many times can I use this tool before it breaks?\n",
    "* When are people most likely to cash in a gift card they got for Christmas?\n",
    "* How many of our products will have a repair in the 2-year warranty window?\n",
    "\n",
    "* Which members are likely to have surgery within 6-18 months?\n",
    "\n",
    "| Member | Time to Surgery | Label |\n",
    "| --- | --- | --- |\n",
    "| Al | 5 months, 29 Days | False |\n",
    "| Betty | 6 months, 1 Day | True |\n",
    "| Charlie | 17 months 29 Days | True |\n",
    "|Debroah | 18 months 1 Day | False |\n",
    "\n",
    "* Al and Betty have very similar outcomes but are markeed as completely opposite.\n",
    "* Betty and Charlie differ by almost a year, but are considered to have identical outcomes\n",
    "* Charle and Deborah have very similar outcomes, but are marked as complete opposites\n",
    "* Al and Deborah are the most different of all, yet have the same label"
   ]
  },
  {
   "cell_type": "markdown",
   "id": "bd1170b4",
   "metadata": {},
   "source": [
    "## Approach:\n",
    "\n",
    "Assume that the event happening is a *Bernoulli* process with fixed probability.* \n",
    "\n",
    "Model the experiemnt as sequential, terminal Bernoulli trials, divided into a sequence of days, or attempts.\n",
    "\n"
   ]
  },
  {
   "cell_type": "code",
   "execution_count": 1,
   "id": "bea16570",
   "metadata": {},
   "outputs": [],
   "source": [
    "import pandas as pd\n",
    "import numpy as np\n",
    "import matplotlib.pyplot as plt\n",
    "from scipy.stats import bernoulli, geom"
   ]
  },
  {
   "cell_type": "code",
   "execution_count": 15,
   "id": "91c0bf95",
   "metadata": {},
   "outputs": [
    {
     "data": {
      "text/plain": [
       "array([  20. , 1104.1])"
      ]
     },
     "execution_count": 15,
     "metadata": {},
     "output_type": "execute_result"
    }
   ],
   "source": [
    "np.percentile(geom(p=1/365).rvs(10000), (5,95))"
   ]
  },
  {
   "cell_type": "code",
   "execution_count": null,
   "id": "0061abc2",
   "metadata": {},
   "outputs": [],
   "source": []
  }
 ],
 "metadata": {
  "kernelspec": {
   "display_name": "Python 3 (ipykernel)",
   "language": "python",
   "name": "python3"
  },
  "language_info": {
   "codemirror_mode": {
    "name": "ipython",
    "version": 3
   },
   "file_extension": ".py",
   "mimetype": "text/x-python",
   "name": "python",
   "nbconvert_exporter": "python",
   "pygments_lexer": "ipython3",
   "version": "3.9.7"
  }
 },
 "nbformat": 4,
 "nbformat_minor": 5
}
