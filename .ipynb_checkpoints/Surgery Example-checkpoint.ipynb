{
 "cells": [
  {
   "cell_type": "code",
   "execution_count": null,
   "id": "da15469c",
   "metadata": {},
   "outputs": [],
   "source": [
    "import pandas as pd\n",
    "import numpy as np\n",
    "import matplotlib.pyplot as plt\n",
    "from scipy.stats import geom\n",
    "from sklearn.linear_model import LinearRegression as LR\n",
    "from sklearn.linear_model import LogisticRegression as LogR\n",
    "from sklearn.tree import DecisionTreeRegressor as DT\n",
    "np.random.seed(10)"
   ]
  },
  {
   "cell_type": "markdown",
   "id": "612b04fe",
   "metadata": {},
   "source": [
    "# Problem Statement\n",
    "\n",
    "### We want to predict when people might have surgery\n",
    "\n",
    "## Challenges\n",
    "\n"
   ]
  },
  {
   "cell_type": "markdown",
   "id": "324a2b9c",
   "metadata": {},
   "source": [
    "### Suppose the probabiltiy ($p$) of an event occurring on a given day is not a fixed value, but instead is a variable the depends on one or more risk factors.\n",
    "\n",
    "We have a population of people aged 25-75, where probability of getting surgery increases with age according to $\\large p = \\frac {1}{1+e^{(-a-b\\cdot \\text {age})}}$\n",
    "\n",
    "Where $a$ is the intercept of the log-odds (e.g. baseline risk) and $b$ is the hazard associated with each unit increase of age."
   ]
  },
  {
   "cell_type": "code",
   "execution_count": null,
   "id": "4fe615af",
   "metadata": {},
   "outputs": [],
   "source": [
    "n = 5000\n",
    "df = pd.DataFrame()\n",
    "df['age'] = np.random.randint(25, 76, size=n)"
   ]
  },
  {
   "cell_type": "code",
   "execution_count": null,
   "id": "8e0b1e3d",
   "metadata": {},
   "outputs": [],
   "source": [
    "df"
   ]
  },
  {
   "cell_type": "code",
   "execution_count": null,
   "id": "783eb362",
   "metadata": {},
   "outputs": [],
   "source": [
    "a=-10.5\n",
    "b=0.05\n",
    "timeout = 365*3"
   ]
  },
  {
   "cell_type": "code",
   "execution_count": null,
   "id": "1eafb778",
   "metadata": {},
   "outputs": [],
   "source": [
    "prob_values = 1/(1+np.exp(-a-b*df['age']))"
   ]
  },
  {
   "cell_type": "code",
   "execution_count": null,
   "id": "803860ce",
   "metadata": {},
   "outputs": [],
   "source": [
    "plt.scatter(df['age'],1/(365*prob_values))\n",
    "plt.xlabel('Age')\n",
    "plt.ylabel('Years until surgery');"
   ]
  },
  {
   "cell_type": "markdown",
   "id": "78aab074",
   "metadata": {},
   "source": [
    "### We would like to observe these people until they get surgery, but in some cases, that might be over 150 years.\n",
    "\n",
    "We have a cut-off at 3 years."
   ]
  },
  {
   "cell_type": "code",
   "execution_count": null,
   "id": "a11a3edc",
   "metadata": {},
   "outputs": [],
   "source": [
    "days = geom(prob_values).rvs()\n",
    "df['observation'] = np.where(days <= timeout, days, np.nan)\n",
    "df"
   ]
  },
  {
   "cell_type": "code",
   "execution_count": null,
   "id": "ec5ecb1a",
   "metadata": {},
   "outputs": [],
   "source": [
    "(df['observation'].isna()).mean()"
   ]
  },
  {
   "cell_type": "code",
   "execution_count": null,
   "id": "b8e57492",
   "metadata": {},
   "outputs": [],
   "source": [
    "days.max()/365"
   ]
  },
  {
   "cell_type": "code",
   "execution_count": null,
   "id": "824158cf",
   "metadata": {},
   "outputs": [],
   "source": [
    "plt.scatter(df['age'],days/365, alpha=.1)\n",
    "plt.axhline(timeout/365, color='red')\n",
    "plt.xlabel('Age')\n",
    "plt.ylabel('Years to Surgery');"
   ]
  },
  {
   "cell_type": "code",
   "execution_count": null,
   "id": "b1829617",
   "metadata": {},
   "outputs": [],
   "source": [
    "plt.scatter(df['age'], df['observation'], alpha = .1)\n",
    "plt.xlabel('age')\n",
    "plt.ylabel('Days to Surgery');"
   ]
  },
  {
   "cell_type": "code",
   "execution_count": null,
   "id": "36d5b5aa",
   "metadata": {},
   "outputs": [],
   "source": [
    "S = LogR().fit(df[['age']],df['observation'].isna()).predict_proba(df[['age']])[:,0]\n",
    "plt.scatter(df['age'], S)\n",
    "plt.xlabel('Age')\n",
    "plt.ylabel('Observed Surgeries')\n",
    "plt.title('Surgery Observations by Age');"
   ]
  },
  {
   "cell_type": "markdown",
   "id": "b55fc7fd",
   "metadata": {},
   "source": [
    "$$\\text {Imputed Days to Surgery} = timeout + \\frac {1}{1-\\left (1-S(age)\\right )^{\\left(\\frac {1}{timeout}\\right)}}$$"
   ]
  },
  {
   "cell_type": "code",
   "execution_count": null,
   "id": "d16c47a3",
   "metadata": {},
   "outputs": [],
   "source": [
    "df['imputed_days'] = np.where(df['observation'].isna(), timeout + (1/(1-(1-S)**(1/timeout))), df['observation'])\n",
    "df"
   ]
  },
  {
   "cell_type": "code",
   "execution_count": null,
   "id": "e82c8210",
   "metadata": {},
   "outputs": [],
   "source": [
    "plt.scatter(df['age'], df['imputed_days'], alpha = .05);"
   ]
  },
  {
   "cell_type": "code",
   "execution_count": null,
   "id": "f6604a85",
   "metadata": {},
   "outputs": [],
   "source": [
    "df['probability'] = 1/DT().fit(df[['age']], df['imputed_days']).predict(df[['age']])\n",
    "df"
   ]
  },
  {
   "cell_type": "code",
   "execution_count": null,
   "id": "2d0bd643",
   "metadata": {},
   "outputs": [],
   "source": [
    "plt.scatter(df['age'],1/prob_values, label = 'Unobserved true values');\n",
    "plt.scatter(df['age'], 1/df['probability'], label = 'Estimated days')\n",
    "plt.scatter(df['age'], df['imputed_days'], alpha = .05, label = 'Observed & Imputed Values')\n",
    "plt.legend()"
   ]
  },
  {
   "cell_type": "code",
   "execution_count": null,
   "id": "e94ad624",
   "metadata": {},
   "outputs": [],
   "source": [
    "log_odds = np.log(df['probability']/(1-df['probability']))\n",
    "log_odds"
   ]
  },
  {
   "cell_type": "code",
   "execution_count": null,
   "id": "f5349f46",
   "metadata": {},
   "outputs": [],
   "source": [
    "lr = LR().fit(df[['age']], log_odds)"
   ]
  },
  {
   "cell_type": "code",
   "execution_count": null,
   "id": "b78a906a",
   "metadata": {},
   "outputs": [],
   "source": [
    "plt.scatter(df['age'], log_odds, s=10)\n",
    "plt.plot(df['age'], df['age']*b+a, color = 'red')\n",
    "plt.plot(df['age'], lr.predict(df[['age']]), color = 'green');"
   ]
  },
  {
   "cell_type": "code",
   "execution_count": null,
   "id": "87220af8",
   "metadata": {},
   "outputs": [],
   "source": [
    "lr.intercept_, a"
   ]
  },
  {
   "cell_type": "code",
   "execution_count": null,
   "id": "3094e16c",
   "metadata": {},
   "outputs": [],
   "source": [
    "lr.coef_, b"
   ]
  },
  {
   "cell_type": "markdown",
   "id": "9cb3df52",
   "metadata": {},
   "source": [
    "# Results\n",
    "\n",
    "### What is the probability that a member will have surgery in 6-18 months?"
   ]
  },
  {
   "cell_type": "code",
   "execution_count": null,
   "id": "e0f88447",
   "metadata": {},
   "outputs": [],
   "source": [
    "df['target']= df['probability'].apply(lambda p:geom(p).cdf(18*30)-geom(p).cdf(6*30))\n",
    "df"
   ]
  },
  {
   "cell_type": "code",
   "execution_count": null,
   "id": "ce69714b",
   "metadata": {},
   "outputs": [],
   "source": [
    "plt.scatter(df['age'], df['target'])\n",
    "ages = np.linspace(20, 80)\n",
    "plt.plot(ages, np.exp(LR().fit(np.log(df[['age']]),\n",
    "                                       np.log(df['target'])\n",
    "                                      )\n",
    "                              .predict(np.log(ages.reshape(-1,1)))),\n",
    "                            color = 'red');\n"
   ]
  },
  {
   "cell_type": "code",
   "execution_count": null,
   "id": "ef0584f6",
   "metadata": {},
   "outputs": [],
   "source": []
  },
  {
   "cell_type": "markdown",
   "id": "b0a318ac",
   "metadata": {},
   "source": [
    "# What if we want to predict outside of our observation window?\n",
    "\n",
    "#### How many people in this population would have surgery within 3-5 years?"
   ]
  },
  {
   "cell_type": "code",
   "execution_count": null,
   "id": "132cb533",
   "metadata": {},
   "outputs": [],
   "source": [
    "((days>(3*365))&(days<(5*365))*1).sum()"
   ]
  },
  {
   "cell_type": "markdown",
   "id": "06bcf1f4",
   "metadata": {},
   "source": [
    "#### How many were *observed* to have surgery in 3-5 years?"
   ]
  },
  {
   "cell_type": "code",
   "execution_count": null,
   "id": "13c72978",
   "metadata": {},
   "outputs": [],
   "source": [
    "((df['observation']>(3*365))&(df['observation']<(5*365))*1).sum()"
   ]
  },
  {
   "cell_type": "markdown",
   "id": "b1b6e6c6",
   "metadata": {},
   "source": [
    "#### How many people do we *predict* will have surgery in 3-5 years?"
   ]
  },
  {
   "cell_type": "code",
   "execution_count": null,
   "id": "d20b066a",
   "metadata": {},
   "outputs": [],
   "source": [
    "df['probability'].apply(lambda p:geom(p).cdf(5*365)-geom(p).cdf(3*365)).sum()"
   ]
  },
  {
   "cell_type": "markdown",
   "id": "da414036",
   "metadata": {},
   "source": [
    "# Multi-variate Example"
   ]
  },
  {
   "cell_type": "code",
   "execution_count": null,
   "id": "d5411bb9",
   "metadata": {},
   "outputs": [],
   "source": [
    "features = 10\n",
    "df = pd.DataFrame(data = np.random.random(size = (20000, features)))\n",
    "w = np.random.random(features)-.5"
   ]
  },
  {
   "cell_type": "code",
   "execution_count": null,
   "id": "fb2a2627",
   "metadata": {},
   "outputs": [],
   "source": [
    "intercept = -6"
   ]
  },
  {
   "cell_type": "code",
   "execution_count": null,
   "id": "74571218",
   "metadata": {},
   "outputs": [],
   "source": [
    "w"
   ]
  },
  {
   "cell_type": "code",
   "execution_count": null,
   "id": "8f482ce6",
   "metadata": {},
   "outputs": [],
   "source": [
    "df['p'] = 1/(1+np.exp(-intercept-df.apply(lambda x:x.dot(w),axis=1)))"
   ]
  },
  {
   "cell_type": "code",
   "execution_count": null,
   "id": "7522eece",
   "metadata": {},
   "outputs": [],
   "source": [
    "df"
   ]
  },
  {
   "cell_type": "code",
   "execution_count": null,
   "id": "bb61ed4f",
   "metadata": {},
   "outputs": [],
   "source": [
    "plt.hist(df['p']);"
   ]
  },
  {
   "cell_type": "code",
   "execution_count": null,
   "id": "185f8fd1",
   "metadata": {},
   "outputs": [],
   "source": [
    "df['N'] = geom(df['p']).rvs()\n",
    "df"
   ]
  },
  {
   "cell_type": "code",
   "execution_count": null,
   "id": "5e085978",
   "metadata": {},
   "outputs": [],
   "source": [
    "timeout = np.percentile(df['N'], 55)\n",
    "timeout"
   ]
  },
  {
   "cell_type": "code",
   "execution_count": null,
   "id": "26f23981",
   "metadata": {},
   "outputs": [],
   "source": [
    "plt.scatter(df[0], df['N'], alpha=.1)\n",
    "plt.axhline(timeout, color='red')\n",
    "plt.xlabel('Risk Factor 0')\n",
    "plt.ylabel('Days to Surgery (Observed and Unobserved)');"
   ]
  },
  {
   "cell_type": "code",
   "execution_count": null,
   "id": "51119b54",
   "metadata": {},
   "outputs": [],
   "source": [
    "df['observation'] = np.where(df['N']<=timeout, df['N'], np.nan)"
   ]
  },
  {
   "cell_type": "code",
   "execution_count": null,
   "id": "cb243a05",
   "metadata": {},
   "outputs": [],
   "source": [
    "plt.scatter(df[0], df['observation'], alpha = .02)\n",
    "plt.xlabel('Risk Factor 0')\n",
    "plt.ylabel('Days to Surgery (Observed Only)');"
   ]
  },
  {
   "cell_type": "code",
   "execution_count": null,
   "id": "ecfd9658",
   "metadata": {},
   "outputs": [],
   "source": [
    "df['S'] = np.where(df['observation'].isna(),\n",
    "                   LogR().fit(df.iloc[:,:features],df['observation'].isna())\\\n",
    ".predict_proba(df.iloc[:,:features])[:,0],\n",
    "                   np.nan)\n",
    "df"
   ]
  },
  {
   "cell_type": "code",
   "execution_count": null,
   "id": "95daf27e",
   "metadata": {},
   "outputs": [],
   "source": [
    "df['Λ'] = timeout + 1/(1-(1-df['S'])**(1/timeout))\n",
    "df"
   ]
  },
  {
   "cell_type": "code",
   "execution_count": null,
   "id": "f210cd4f",
   "metadata": {},
   "outputs": [],
   "source": [
    "df['x'] = np.where(df['observation'].isna(), df['Λ'], df['observation'])\n",
    "df"
   ]
  },
  {
   "cell_type": "code",
   "execution_count": null,
   "id": "b14b3516",
   "metadata": {},
   "outputs": [],
   "source": [
    "from sklearn.ensemble import RandomForestRegressor as RFC\n",
    "from sklearn.neighbors import KNeighborsRegressor as KNN"
   ]
  },
  {
   "cell_type": "code",
   "execution_count": null,
   "id": "d85c1654",
   "metadata": {},
   "outputs": [],
   "source": [
    "df['x_pred'] = KNN(20).fit(df.iloc[:,:features],\n",
    "                        df['x']).predict(df.iloc[:,:features])"
   ]
  },
  {
   "cell_type": "code",
   "execution_count": null,
   "id": "7b26e23a",
   "metadata": {},
   "outputs": [],
   "source": [
    "df['log_odds'] = LR().fit(df.iloc[:,:features],\n",
    "np.log((1/df['x_pred'])/(1-(1/df['x_pred'])))).predict(df.iloc[:,:features])\n",
    "df"
   ]
  },
  {
   "cell_type": "code",
   "execution_count": null,
   "id": "08e58672",
   "metadata": {},
   "outputs": [],
   "source": [
    "plt.scatter(df['p'], 1/(1+1/np.exp(df['log_odds'])), alpha=.25)\n",
    "plt.xticks(rotation=45)\n",
    "\n",
    "plt.plot([df['p'].min(), df['p'].max()],[df['p'].min(), df['p'].max()],  color = 'red')\n",
    "\n",
    "plt.xlabel('Ideal Probability')\n",
    "plt.ylabel('Estimated Probability');"
   ]
  },
  {
   "cell_type": "markdown",
   "id": "a54e1c53",
   "metadata": {},
   "source": [
    "## Evaluation of Risk Factors\n",
    "\n",
    "We can evaluate how much each feature contributes to a person's risk from the observed data by fitting an equation between the features and the log odds."
   ]
  },
  {
   "cell_type": "code",
   "execution_count": null,
   "id": "36a58eab",
   "metadata": {},
   "outputs": [],
   "source": [
    "lr = LR().fit(df.iloc[:,:features], df['log_odds'])"
   ]
  },
  {
   "cell_type": "markdown",
   "id": "9a58af7c",
   "metadata": {},
   "source": [
    "We can compare these empirical values to the values used to create the dataset:"
   ]
  },
  {
   "cell_type": "code",
   "execution_count": null,
   "id": "5c529fb3",
   "metadata": {},
   "outputs": [],
   "source": [
    "lr.intercept_, intercept"
   ]
  },
  {
   "cell_type": "code",
   "execution_count": null,
   "id": "18376c6e",
   "metadata": {},
   "outputs": [],
   "source": [
    "lr.coef_"
   ]
  },
  {
   "cell_type": "code",
   "execution_count": null,
   "id": "cd583aa5",
   "metadata": {},
   "outputs": [],
   "source": [
    "w"
   ]
  },
  {
   "cell_type": "code",
   "execution_count": null,
   "id": "efe2c1c4",
   "metadata": {},
   "outputs": [],
   "source": [
    "plt.scatter(w, lr.coef_)\n",
    "plt.plot([w.min(), w.max()], [w.min(),w.max()], color = 'red')\n",
    "plt.xlabel('Actual Hazard Coeficients')\n",
    "plt.ylabel('Measured Hazard Coeficients');"
   ]
  },
  {
   "cell_type": "code",
   "execution_count": null,
   "id": "acd19a84",
   "metadata": {},
   "outputs": [],
   "source": []
  },
  {
   "cell_type": "code",
   "execution_count": null,
   "id": "d29275c0",
   "metadata": {},
   "outputs": [],
   "source": []
  }
 ],
 "metadata": {
  "kernelspec": {
   "display_name": "Python 3 (ipykernel)",
   "language": "python",
   "name": "python3"
  },
  "language_info": {
   "codemirror_mode": {
    "name": "ipython",
    "version": 3
   },
   "file_extension": ".py",
   "mimetype": "text/x-python",
   "name": "python",
   "nbconvert_exporter": "python",
   "pygments_lexer": "ipython3",
   "version": "3.9.7"
  }
 },
 "nbformat": 4,
 "nbformat_minor": 5
}
