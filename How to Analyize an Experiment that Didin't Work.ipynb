{
 "cells": [
  {
   "cell_type": "markdown",
   "id": "4cb964c1",
   "metadata": {},
   "source": [
    "# How to Analyze an Experiment that Didn't Work\n",
    "\n",
    "## Motivation:\n",
    "\n",
    "We want to be able to answer questions such as:\n",
    "\n",
    "* How many times can I use this tool before it breaks?\n",
    "* When are people most likely to cash in a gift card they got for Christmas?\n",
    "* How many of our products will have a repair in the 2-year warranty window?\n",
    "\n",
    "* Which members are likely to have surgery within 6-18 months?\n",
    "\n",
    "| Member | Time to Surgery | Label |\n",
    "| --- | --- | --- |\n",
    "| Al | 5 months, 29 Days | False |\n",
    "| Betty | 6 months, 1 Day | True |\n",
    "| Charlie | 17 months 29 Days | True |\n",
    "|Debroah | 18 months 1 Day | False |\n",
    "\n",
    "* Al and Betty have very similar outcomes but are marked as completely opposite.\n",
    "* Betty and Charlie differ by almost a year, but are considered to have identical outcomes\n",
    "* Charle and Deborah have very similar outcomes, but are marked as complete opposites\n",
    "* Al and Deborah are the most different of all, yet have the same label"
   ]
  },
  {
   "cell_type": "markdown",
   "id": "bd1170b4",
   "metadata": {},
   "source": [
    "## Approach:\n",
    "\n",
    "We are trying to predict when an event is going to happen. We start by assuming that it is a simple random event with a fixed probability of happening in any time interval or attempt.\n",
    "\n",
    "We can model this as a die with an unknown number of sides. \n",
    "![image of dice with many sides](dice.png)\n",
    "Our event happens when we roll a 1. If we roll anything else, the event does not happen.\n",
    "\n",
    "We want to know how many times we should expect to roll it before we get a one.\n",
    "\n",
    "This is a *Bernoulli* process with an unknown but constant probability *p* of success on each roll.\n",
    "\n",
    "The probability of success on each roll is $$p = \\frac{1}{\\text{number of sides}}$$"
   ]
  },
  {
   "cell_type": "markdown",
   "id": "d3555e1a",
   "metadata": {},
   "source": [
    "So if we have a 40-sided die, the probability of rolling a one each time we roll it is \n",
    "$$p = \\frac{1}{40} = 0.025$$\n",
    "\n",
    "The probability of *not* getting a one is $$q = 1-p$$\n",
    "\n",
    "Generally, we're going to need to roll it a bunch of times until we get a one.\n",
    "The probability of rolling it *n* times in a row without getting a one is:\n",
    "\n",
    "$$P(\\text{not getting a one in n attempts}) = q^n$$\n",
    "\n",
    "And the probability of getting a one on our $n^{th}$ attempt is:\n",
    "\n",
    "$$q^{n-1}\\cdot p$$\n",
    "or\n",
    "$$(1-p)^{n-1}\\cdot p$$\n",
    "\n",
    "This is the geometric distribution.\n",
    "\n",
    "The Expecetation value of the geometric distribution is $1/p$ or, the average number of attempts needed to roll a 1."
   ]
  },
  {
   "cell_type": "markdown",
   "id": "54a45886",
   "metadata": {},
   "source": [
    "So, if we want to know how many sides our die has (or how probable our event is) all we have to do is roll the die until we get a one. The number of rolls indicates the number of sides.\n",
    "\n",
    "Unfortunately, there's a pretty wide variation in how many rolls it is likely to take to roll a one."
   ]
  },
  {
   "cell_type": "code",
   "execution_count": 1,
   "id": "bea16570",
   "metadata": {},
   "outputs": [],
   "source": [
    "import pandas as pd\n",
    "import numpy as np\n",
    "import matplotlib.pyplot as plt\n",
    "from scipy.stats import bernoulli, geom"
   ]
  },
  {
   "cell_type": "markdown",
   "id": "5cd9dcfb",
   "metadata": {},
   "source": [
    "Here we have an event that happens on average once per year, or equivalently, a die with 365 sides.\n",
    "\n",
    "The 90th percentile confidence interval, (the range of \"normal\" outcomes) can vary widely:"
   ]
  },
  {
   "cell_type": "code",
   "execution_count": 2,
   "id": "91c0bf95",
   "metadata": {},
   "outputs": [
    {
     "data": {
      "text/plain": [
       "array([  20.  , 1088.05])"
      ]
     },
     "execution_count": 2,
     "metadata": {},
     "output_type": "execute_result"
    }
   ],
   "source": [
    "np.percentile(geom(p:=1/365).rvs(10000), (5,95))"
   ]
  },
  {
   "cell_type": "markdown",
   "id": "ccd9487a",
   "metadata": {},
   "source": [
    "Rolling this die once isn't going to work.\n",
    "So, to improve our estimate of the number of sides, we repeat this experiment many times and take the average:"
   ]
  },
  {
   "cell_type": "code",
   "execution_count": 3,
   "id": "e4141958",
   "metadata": {},
   "outputs": [
    {
     "data": {
      "text/plain": [
       "[(10.0, 493.9),\n",
       " (100.0, 331.75),\n",
       " (1000.0, 370.958),\n",
       " (10000.0, 366.0118),\n",
       " (100000.0, 365.98071)]"
      ]
     },
     "execution_count": 3,
     "metadata": {},
     "output_type": "execute_result"
    }
   ],
   "source": [
    "[(i,geom(p).rvs(int(i)).mean()) for i in np.logspace(1,5,5)]"
   ]
  },
  {
   "cell_type": "code",
   "execution_count": 31,
   "id": "3b5cff4e",
   "metadata": {},
   "outputs": [
    {
     "data": {
      "text/plain": [
       "array([359.36354 , 370.905925])"
      ]
     },
     "execution_count": 31,
     "metadata": {},
     "output_type": "execute_result"
    }
   ],
   "source": [
    "np.percentile([geom(p).rvs(10000).mean() for _ in range(500)], (5, 95))"
   ]
  },
  {
   "cell_type": "code",
   "execution_count": 32,
   "id": "4bd50161",
   "metadata": {},
   "outputs": [
    {
     "data": {
      "text/plain": [
       "array([363.2049495, 367.0718565])"
      ]
     },
     "execution_count": 32,
     "metadata": {},
     "output_type": "execute_result"
    }
   ],
   "source": [
    "np.percentile([geom(p).rvs(100000).mean() for _ in range(500)], (5, 95))"
   ]
  },
  {
   "cell_type": "markdown",
   "id": "6f6346cc",
   "metadata": {},
   "source": [
    "#### This is the very best way to get a good estimate of the probability of the event.\n",
    "\n",
    "The problem is it can take a lot of time and resources.\n",
    "\n",
    "To get this estimate, we had to roll the die 36 million times."
   ]
  },
  {
   "cell_type": "code",
   "execution_count": 6,
   "id": "b15ecb3d",
   "metadata": {},
   "outputs": [
    {
     "data": {
      "text/plain": [
       "36661894"
      ]
     },
     "execution_count": 6,
     "metadata": {},
     "output_type": "execute_result"
    }
   ],
   "source": [
    "geom(p).rvs(100000).sum()"
   ]
  },
  {
   "cell_type": "code",
   "execution_count": 7,
   "id": "62f25da3",
   "metadata": {},
   "outputs": [
    {
     "data": {
      "text/plain": [
       "4311"
      ]
     },
     "execution_count": 7,
     "metadata": {},
     "output_type": "execute_result"
    }
   ],
   "source": [
    "geom(p).rvs(100000).max()"
   ]
  },
  {
   "cell_type": "markdown",
   "id": "28484c45",
   "metadata": {},
   "source": [
    "## How can we get the same quality of estimate with many fewer rolls?\n",
    "\n",
    "## What if we are constrained in how many rolls we can attempt?\n",
    "\n",
    "### Suppose we have a 40-sided die, but we are limited to only rolling each die 30 times.\n",
    "\n",
    "#### This means a lot of our trials will end without ever rolling a one. "
   ]
  },
  {
   "cell_type": "code",
   "execution_count": 8,
   "id": "04a42c8e",
   "metadata": {},
   "outputs": [
    {
     "data": {
      "text/plain": [
       "array([30., 22., 13., 16., nan,  8.,  8., nan, nan, 12., nan,  2., 24.,\n",
       "        2., nan, nan, 20., nan, nan, nan, 29.,  4., nan, 23., nan, nan,\n",
       "       nan,  5.,  3., nan, nan, nan,  5., 10., nan, 14., 23., nan, nan,\n",
       "       17., nan, 12., nan, nan, 17.,  1.,  4., 10., nan, nan,  2., 21.,\n",
       "        7., 12.,  6.,  3., 20., 10., nan,  3., 10.,  3., 18., nan, nan,\n",
       "       15.,  5., 16., nan, 12., nan, 29., 18., nan,  6., nan, 14., 13.,\n",
       "        8.,  4.,  1.,  7., nan, nan, nan, nan, nan, 27., nan, nan, nan,\n",
       "       21., 11., 17., 27., 20., 14.,  9., nan, nan, nan, 12., nan, nan,\n",
       "        3., nan, 18.,  4., nan,  7., nan, 23.,  6., 18., nan, nan, 14.,\n",
       "       17., nan,  5., 10., nan, nan, nan, nan, nan,  4., nan,  4., nan,\n",
       "       nan, nan, nan, nan,  9., 10.,  6., 24., nan, nan, nan, 15.,  9.,\n",
       "       nan, nan, nan,  9.,  7., nan,  9., nan,  5., 23., 23., 29., nan,\n",
       "       nan, 18., nan,  9., nan, 27., nan, 29., nan, nan, 12., nan,  7.,\n",
       "       nan, 11., nan, nan, 11.,  5., nan, nan, 22.,  1.,  2., 20., 12.,\n",
       "       nan, nan, nan, nan, nan, 15., nan,  8., nan, 23.,  4., 25.,  6.,\n",
       "       18.,  7., nan, 24., 18., nan, 21., nan, nan,  1., nan,  8.,  4.,\n",
       "       12.,  1., nan,  3.,  2.,  9., 15., nan,  4.,  6., nan, 11., nan,\n",
       "       nan,  4.,  7., nan, nan, nan, 30.,  4.,  5., nan, nan,  5., nan,\n",
       "       nan, 10., 29., nan, 28., nan, 30., 15., 19.,  4., nan, nan, 14.,\n",
       "       nan, 10., nan, 25., 22., nan, nan, nan,  6., nan, 14.,  5., 30.,\n",
       "       nan,  5., 22., 23.,  3., 17., nan, nan, 25., nan, nan, nan, nan,\n",
       "       27., 20.,  2., nan, nan, nan, nan, nan, 20., 27., 15., nan, 19.,\n",
       "       nan,  6., nan, nan, nan,  4., nan, nan, 12., 27., nan, 29., nan,\n",
       "       nan, nan,  3., 19., nan, nan, 11., nan, nan, 12., nan, nan,  2.,\n",
       "       13., nan, 22., nan, 10., nan, nan, nan, 16.,  4., 24., nan, nan,\n",
       "       nan, 14., nan, nan,  3., nan, 24., 19., nan, 21., 10., 10., 10.,\n",
       "       nan, nan, 16., nan, nan, 16., nan, 17., 30., 22., 11., nan, nan,\n",
       "       22., nan,  1., 15., 20.,  1.,  6., nan, nan, 10., nan, 23., nan,\n",
       "       14., 30., 15., nan, 16., 28., nan, nan, 21., 23., 26., nan,  6.,\n",
       "       12., 24., 23.,  2.,  3., 22., 29., 17., 15.,  9., 22., 14., nan,\n",
       "       nan, 18., nan, nan,  5., 25., nan,  3., 17., 11., 23., nan, nan,\n",
       "       nan, nan, nan, nan,  7.,  8.,  5., nan, 19.,  4., 29., nan, 26.,\n",
       "        4., nan, nan, nan,  3.,  1., nan, nan, nan,  3., 14.,  6., 23.,\n",
       "       nan, nan, nan,  4., nan, 12., 11., 19., 29., nan, nan, 11.,  5.,\n",
       "       nan, 10., nan, 23., nan,  5., nan, nan, nan, nan, 10., 17., 11.,\n",
       "       nan, 19., 16.,  1., nan, nan,  1., 20., 16., 14., 18.,  7., 21.,\n",
       "       nan, 13., nan,  3., nan, nan,  6., 12., nan,  2., nan, nan, 18.,\n",
       "       28., 12., nan,  6., nan,  8., 23., 10., nan, 13., nan, nan, 28.,\n",
       "       14., 18., nan, nan,  6., 15.,  2., 13.,  4., nan, 18., nan, nan,\n",
       "        1., 23., nan, nan, 22., nan,  6., nan, nan,  6.,  2.,  3.,  5.,\n",
       "        4., 23., 27., 18., nan,  1., nan, 20., 28., nan,  7.,  8., 18.,\n",
       "       19., nan, nan, nan, nan, nan, 23.,  6., nan, nan,  7., nan, nan,\n",
       "       nan, nan, nan, nan, 13., nan, nan, 21.,  7., nan,  8., 21., 26.,\n",
       "        9., nan,  6., nan, 21., nan,  5.,  2.,  6., nan, 13.,  1., 29.,\n",
       "       nan, nan, nan,  4., nan, nan,  1., 10., 28.,  8., nan, nan, 18.,\n",
       "       nan, nan, nan,  6.,  1.,  4., nan, nan, 18.,  2., 16., nan,  1.,\n",
       "       nan, nan, nan, 26.,  1., 18., nan,  5.,  1., nan, nan,  3.,  9.,\n",
       "        2., nan, nan,  8., 13., nan,  2., 25., nan, 22.,  5.,  4., nan,\n",
       "       nan, nan, nan, nan, nan, nan, 11., nan,  3., nan, nan, nan, 17.,\n",
       "       19., nan, nan, nan,  3., nan,  2., nan, nan, 23., nan,  1., 16.,\n",
       "       nan, nan,  5.,  4., 19., 16., 11., 17., 13.,  8., 13., nan, nan,\n",
       "       nan,  5., nan, 20., 11., nan, 10., 29.,  5., nan,  9., nan, 12.,\n",
       "        8., 26., nan, 25., nan, nan,  2., 27.,  5.,  1., nan,  1., nan,\n",
       "       nan,  2., nan, nan, nan, nan, nan, 10.,  1.,  9., 10., 30., nan,\n",
       "        2., nan, 22., nan,  1., nan, nan, nan, nan,  5., nan, 26., nan,\n",
       "        9.,  9.,  6., 10., nan, 25., nan, 28., nan, 13., nan, nan, 19.,\n",
       "       nan,  9., nan, nan, nan, 28., 28., nan,  7., nan, nan, 17., 18.,\n",
       "       nan, nan, nan, nan, nan, nan,  1., 16., nan, 19., 14., nan, 19.,\n",
       "       nan, nan, nan, nan, nan, nan, nan, nan, 16.,  8., 27., nan, 23.,\n",
       "        1., 16., nan, nan, nan, 20., nan, 12., nan, 12., nan, nan, 10.,\n",
       "       26., nan, nan,  3., nan,  6., nan, nan,  5., 15., nan, nan, 15.,\n",
       "        5.,  9., 30., 11., nan, nan, nan, nan,  7., nan, 22.,  5.,  1.,\n",
       "        5., nan, nan, nan, nan, 11., nan, 27., nan, 10., 13.,  8., nan,\n",
       "       nan,  1., 29., 12.,  4., 17., nan, 21., nan, nan,  1., 29., 18.,\n",
       "        9., nan, 18., nan, 19., 19., nan, nan,  4., 16., nan, 20., 10.,\n",
       "       nan, nan, nan, 12., nan, nan, nan, 15., 27., 11., nan, 12., nan,\n",
       "       nan, nan, 18., nan, nan, nan, 23., 16., 28., 27.,  2., 13., 10.,\n",
       "       nan, 20., nan, nan, nan, 12., 15.,  8., 10., nan,  7., nan, 13.,\n",
       "       13.,  4., nan, nan, 12., nan,  3., 19., nan, nan,  7., nan, 21.,\n",
       "        1., 10., nan, nan, nan, 30., 12., 10., 18.,  9., 13., nan, nan,\n",
       "       nan, 11., nan, nan, nan,  9., nan, 12., nan, nan, nan, nan, nan,\n",
       "       25.,  8., 20., nan, 30., nan,  7., 27., 25., nan, 23., 12., 23.,\n",
       "        2., 21., 13., nan, 21., nan,  7., nan, 12.,  7., nan,  7., nan,\n",
       "       nan, 10., nan, nan, nan, 17., 21., 19., 18., nan, nan,  3., nan,\n",
       "       18., nan,  2., nan, 22., 20., 16., 16.,  6., nan, nan, nan, nan,\n",
       "       nan, nan, nan, nan, nan, nan, nan, nan, 29., 17., nan, nan, nan,\n",
       "       nan, nan, 10., 17., 25.,  1., nan, nan,  2., 25.,  4., nan])"
      ]
     },
     "execution_count": 8,
     "metadata": {},
     "output_type": "execute_result"
    }
   ],
   "source": [
    "n = 40\n",
    "k = 30\n",
    "rolls = geom(1/n).rvs(1000)\n",
    "observations = np.where(rolls<=k, rolls, np.nan)\n",
    "observations"
   ]
  },
  {
   "cell_type": "code",
   "execution_count": 9,
   "id": "01901bbe",
   "metadata": {},
   "outputs": [
    {
     "data": {
      "text/plain": [
       "20973.0"
      ]
     },
     "execution_count": 9,
     "metadata": {},
     "output_type": "execute_result"
    }
   ],
   "source": [
    "np.nansum(observations) + k*np.isnan(observations).sum()"
   ]
  },
  {
   "cell_type": "markdown",
   "id": "04575623",
   "metadata": {},
   "source": [
    "## How should we record these results?\n",
    "\n",
    "* Ignore them. If we never observed a result, we can't use that trial\n",
    "* Assume they would have produced a one on the next roll $t=k+1$\n",
    "* Assume they would produce a one at $t=\\infty$\n",
    "* Fill in missing values with the mean of observed values\n",
    "* Assume success at $t=2k$\n",
    "* Something else"
   ]
  },
  {
   "cell_type": "code",
   "execution_count": 10,
   "id": "547917ba",
   "metadata": {},
   "outputs": [
    {
     "data": {
      "image/png": "[encoded data removed]",
      "text/plain": [
       "<Figure size 432x288 with 1 Axes>"
      ]
     },
     "metadata": {
      "needs_background": "light"
     },
     "output_type": "display_data"
    }
   ],
   "source": [
    "y,x,_= plt.hist(rolls:=geom(1/40).rvs(10000), bins=100, density=True)\n",
    "plt.xlabel('Number of rolls until success')\n",
    "plt.ylabel('Trials');"
   ]
  },
  {
   "cell_type": "markdown",
   "id": "be7b5302",
   "metadata": {},
   "source": [
    "### What we want to do is replace all of the values on the right side of the line with a single value at the average of the orange region."
   ]
  },
  {
   "cell_type": "code",
   "execution_count": 11,
   "id": "8083187c",
   "metadata": {},
   "outputs": [
    {
     "data": {
      "image/png": "[encoded data removed]",
      "text/plain": [
       "<Figure size 432x288 with 1 Axes>"
      ]
     },
     "metadata": {
      "needs_background": "light"
     },
     "output_type": "display_data"
    }
   ],
   "source": [
    "x = x[:(len(y))]\n",
    "plt.bar(x[x<=k],y[x<=k], width=x[1]-x[0])\n",
    "plt.bar(x[x>k],y[x>k], width=x[1]-x[0])\n",
    "plt.axvline(k, color = 'red');"
   ]
  },
  {
   "cell_type": "code",
   "execution_count": 12,
   "id": "a3952e81",
   "metadata": {},
   "outputs": [
    {
     "data": {
      "image/png": "[encoded data removed]",
      "text/plain": [
       "<Figure size 432x288 with 1 Axes>"
      ]
     },
     "metadata": {
      "needs_background": "light"
     },
     "output_type": "display_data"
    }
   ],
   "source": [
    "plt.bar(x[x<=k],y[x<=k], width=x[1]-x[0])\n",
    "plt.axvline(k, color = 'red')\n",
    "plt.xlim((0,x.max()))\n",
    "plt.scatter(k + 1/(1-((rolls>=k).mean())**(1/k)), .005, s=200, marker = 'X', color='black');"
   ]
  },
  {
   "cell_type": "markdown",
   "id": "829c37e7",
   "metadata": {},
   "source": [
    "## Memorylessness:\n",
    "\n",
    "#### No matter how long you have been waiting, you can expect to keep waiting\n",
    "\n",
    "When you first start rolling a die, you can expect to get a one in $N$ rolls.\n",
    "\n",
    "If you have already rolled it 10 times, you can expect to get a one in $N$ *more* rolls.\n",
    "\n",
    "If you have already rolled it $k$ times, your can expect to roll a one at $t=k+N$\n",
    "\n",
    "Unfortunately, we don't know $N$. That's what we're trying to figure out.\n",
    "\n",
    "We can get an estimate of $N$ from the cumulative distribution function of the geometric distribution:\n",
    "\n",
    "$$\\text {cdf}(k) = 1-(1-p)^k$$\n",
    "\n",
    "\n",
    "Where $k$ is the threshold or timeout value.\n",
    "$cdf(k)$ is the number of trials that result in success at or before $k$ rolls.\n",
    "And, of course, $p=\\frac{1}{N}$.\n",
    "\n",
    "Rearrange:\n",
    "$$\\hat N = \\frac{1}{1-(1-\\text{cdf}(k))^{\\frac{1}{k}}}$$\n"
   ]
  },
  {
   "cell_type": "markdown",
   "id": "bae8320a",
   "metadata": {},
   "source": [
    "## Procedure:\n",
    "\n",
    "1. Roll the die until either you get a 1 or reach the timeout limit\n",
    "2. If you get a 1, record the actual number of rolls\n",
    "3. If you don't get a 1, record a temporary variable (Λ)\n",
    "4. When you are done with all the trials, calculate how many ended in success: (*cdf(k)*)\n",
    "5. Calculate $\\hat N$ from the equation above.\n",
    "6. Replace all Λ with $Λ = k + \\hat N$\n",
    "7. Take the average of all values, observed and imputed, $\\bar x$\n",
    "8. The probability is: $\\hat p = \\frac {1}{\\bar x}$"
   ]
  },
  {
   "cell_type": "code",
   "execution_count": 13,
   "id": "67424182",
   "metadata": {},
   "outputs": [
    {
     "data": {
      "text/plain": [
       "array([30., 22., 13., 16., nan,  8.,  8., nan, nan, 12., nan,  2., 24.,\n",
       "        2., nan, nan, 20., nan, nan, nan, 29.,  4., nan, 23., nan, nan,\n",
       "       nan,  5.,  3., nan, nan, nan,  5., 10., nan, 14., 23., nan, nan,\n",
       "       17., nan, 12., nan, nan, 17.,  1.,  4., 10., nan, nan,  2., 21.,\n",
       "        7., 12.,  6.,  3., 20., 10., nan,  3., 10.,  3., 18., nan, nan,\n",
       "       15.,  5., 16., nan, 12., nan, 29., 18., nan,  6., nan, 14., 13.,\n",
       "        8.,  4.,  1.,  7., nan, nan, nan, nan, nan, 27., nan, nan, nan,\n",
       "       21., 11., 17., 27., 20., 14.,  9., nan, nan, nan, 12., nan, nan,\n",
       "        3., nan, 18.,  4., nan,  7., nan, 23.,  6., 18., nan, nan, 14.,\n",
       "       17., nan,  5., 10., nan, nan, nan, nan, nan,  4., nan,  4., nan,\n",
       "       nan, nan, nan, nan,  9., 10.,  6., 24., nan, nan, nan, 15.,  9.,\n",
       "       nan, nan, nan,  9.,  7., nan,  9., nan,  5., 23., 23., 29., nan,\n",
       "       nan, 18., nan,  9., nan, 27., nan, 29., nan, nan, 12., nan,  7.,\n",
       "       nan, 11., nan, nan, 11.,  5., nan, nan, 22.,  1.,  2., 20., 12.,\n",
       "       nan, nan, nan, nan, nan, 15., nan,  8., nan, 23.,  4., 25.,  6.,\n",
       "       18.,  7., nan, 24., 18., nan, 21., nan, nan,  1., nan,  8.,  4.,\n",
       "       12.,  1., nan,  3.,  2.,  9., 15., nan,  4.,  6., nan, 11., nan,\n",
       "       nan,  4.,  7., nan, nan, nan, 30.,  4.,  5., nan, nan,  5., nan,\n",
       "       nan, 10., 29., nan, 28., nan, 30., 15., 19.,  4., nan, nan, 14.,\n",
       "       nan, 10., nan, 25., 22., nan, nan, nan,  6., nan, 14.,  5., 30.,\n",
       "       nan,  5., 22., 23.,  3., 17., nan, nan, 25., nan, nan, nan, nan,\n",
       "       27., 20.,  2., nan, nan, nan, nan, nan, 20., 27., 15., nan, 19.,\n",
       "       nan,  6., nan, nan, nan,  4., nan, nan, 12., 27., nan, 29., nan,\n",
       "       nan, nan,  3., 19., nan, nan, 11., nan, nan, 12., nan, nan,  2.,\n",
       "       13., nan, 22., nan, 10., nan, nan, nan, 16.,  4., 24., nan, nan,\n",
       "       nan, 14., nan, nan,  3., nan, 24., 19., nan, 21., 10., 10., 10.,\n",
       "       nan, nan, 16., nan, nan, 16., nan, 17., 30., 22., 11., nan, nan,\n",
       "       22., nan,  1., 15., 20.,  1.,  6., nan, nan, 10., nan, 23., nan,\n",
       "       14., 30., 15., nan, 16., 28., nan, nan, 21., 23., 26., nan,  6.,\n",
       "       12., 24., 23.,  2.,  3., 22., 29., 17., 15.,  9., 22., 14., nan,\n",
       "       nan, 18., nan, nan,  5., 25., nan,  3., 17., 11., 23., nan, nan,\n",
       "       nan, nan, nan, nan,  7.,  8.,  5., nan, 19.,  4., 29., nan, 26.,\n",
       "        4., nan, nan, nan,  3.,  1., nan, nan, nan,  3., 14.,  6., 23.,\n",
       "       nan, nan, nan,  4., nan, 12., 11., 19., 29., nan, nan, 11.,  5.,\n",
       "       nan, 10., nan, 23., nan,  5., nan, nan, nan, nan, 10., 17., 11.,\n",
       "       nan, 19., 16.,  1., nan, nan,  1., 20., 16., 14., 18.,  7., 21.,\n",
       "       nan, 13., nan,  3., nan, nan,  6., 12., nan,  2., nan, nan, 18.,\n",
       "       28., 12., nan,  6., nan,  8., 23., 10., nan, 13., nan, nan, 28.,\n",
       "       14., 18., nan, nan,  6., 15.,  2., 13.,  4., nan, 18., nan, nan,\n",
       "        1., 23., nan, nan, 22., nan,  6., nan, nan,  6.,  2.,  3.,  5.,\n",
       "        4., 23., 27., 18., nan,  1., nan, 20., 28., nan,  7.,  8., 18.,\n",
       "       19., nan, nan, nan, nan, nan, 23.,  6., nan, nan,  7., nan, nan,\n",
       "       nan, nan, nan, nan, 13., nan, nan, 21.,  7., nan,  8., 21., 26.,\n",
       "        9., nan,  6., nan, 21., nan,  5.,  2.,  6., nan, 13.,  1., 29.,\n",
       "       nan, nan, nan,  4., nan, nan,  1., 10., 28.,  8., nan, nan, 18.,\n",
       "       nan, nan, nan,  6.,  1.,  4., nan, nan, 18.,  2., 16., nan,  1.,\n",
       "       nan, nan, nan, 26.,  1., 18., nan,  5.,  1., nan, nan,  3.,  9.,\n",
       "        2., nan, nan,  8., 13., nan,  2., 25., nan, 22.,  5.,  4., nan,\n",
       "       nan, nan, nan, nan, nan, nan, 11., nan,  3., nan, nan, nan, 17.,\n",
       "       19., nan, nan, nan,  3., nan,  2., nan, nan, 23., nan,  1., 16.,\n",
       "       nan, nan,  5.,  4., 19., 16., 11., 17., 13.,  8., 13., nan, nan,\n",
       "       nan,  5., nan, 20., 11., nan, 10., 29.,  5., nan,  9., nan, 12.,\n",
       "        8., 26., nan, 25., nan, nan,  2., 27.,  5.,  1., nan,  1., nan,\n",
       "       nan,  2., nan, nan, nan, nan, nan, 10.,  1.,  9., 10., 30., nan,\n",
       "        2., nan, 22., nan,  1., nan, nan, nan, nan,  5., nan, 26., nan,\n",
       "        9.,  9.,  6., 10., nan, 25., nan, 28., nan, 13., nan, nan, 19.,\n",
       "       nan,  9., nan, nan, nan, 28., 28., nan,  7., nan, nan, 17., 18.,\n",
       "       nan, nan, nan, nan, nan, nan,  1., 16., nan, 19., 14., nan, 19.,\n",
       "       nan, nan, nan, nan, nan, nan, nan, nan, 16.,  8., 27., nan, 23.,\n",
       "        1., 16., nan, nan, nan, 20., nan, 12., nan, 12., nan, nan, 10.,\n",
       "       26., nan, nan,  3., nan,  6., nan, nan,  5., 15., nan, nan, 15.,\n",
       "        5.,  9., 30., 11., nan, nan, nan, nan,  7., nan, 22.,  5.,  1.,\n",
       "        5., nan, nan, nan, nan, 11., nan, 27., nan, 10., 13.,  8., nan,\n",
       "       nan,  1., 29., 12.,  4., 17., nan, 21., nan, nan,  1., 29., 18.,\n",
       "        9., nan, 18., nan, 19., 19., nan, nan,  4., 16., nan, 20., 10.,\n",
       "       nan, nan, nan, 12., nan, nan, nan, 15., 27., 11., nan, 12., nan,\n",
       "       nan, nan, 18., nan, nan, nan, 23., 16., 28., 27.,  2., 13., 10.,\n",
       "       nan, 20., nan, nan, nan, 12., 15.,  8., 10., nan,  7., nan, 13.,\n",
       "       13.,  4., nan, nan, 12., nan,  3., 19., nan, nan,  7., nan, 21.,\n",
       "        1., 10., nan, nan, nan, 30., 12., 10., 18.,  9., 13., nan, nan,\n",
       "       nan, 11., nan, nan, nan,  9., nan, 12., nan, nan, nan, nan, nan,\n",
       "       25.,  8., 20., nan, 30., nan,  7., 27., 25., nan, 23., 12., 23.,\n",
       "        2., 21., 13., nan, 21., nan,  7., nan, 12.,  7., nan,  7., nan,\n",
       "       nan, 10., nan, nan, nan, 17., 21., 19., 18., nan, nan,  3., nan,\n",
       "       18., nan,  2., nan, 22., 20., 16., 16.,  6., nan, nan, nan, nan,\n",
       "       nan, nan, nan, nan, nan, nan, nan, nan, 29., 17., nan, nan, nan,\n",
       "       nan, nan, 10., 17., 25.,  1., nan, nan,  2., 25.,  4., nan])"
      ]
     },
     "execution_count": 13,
     "metadata": {},
     "output_type": "execute_result"
    }
   ],
   "source": [
    "observations"
   ]
  },
  {
   "cell_type": "code",
   "execution_count": 14,
   "id": "01185eb6",
   "metadata": {},
   "outputs": [
    {
     "data": {
      "text/plain": [
       "0.536"
      ]
     },
     "execution_count": 14,
     "metadata": {},
     "output_type": "execute_result"
    }
   ],
   "source": [
    "cdf = 1- np.isnan(observations).mean()\n",
    "cdf"
   ]
  },
  {
   "cell_type": "code",
   "execution_count": 15,
   "id": "6f497b39",
   "metadata": {},
   "outputs": [
    {
     "data": {
      "text/plain": [
       "39.571209235112825"
      ]
     },
     "execution_count": 15,
     "metadata": {},
     "output_type": "execute_result"
    }
   ],
   "source": [
    "N = 1/(1-(1-cdf)**(1/k))\n",
    "N"
   ]
  },
  {
   "cell_type": "code",
   "execution_count": 16,
   "id": "d0bf511e",
   "metadata": {},
   "outputs": [
    {
     "data": {
      "text/plain": [
       "69.57120923511283"
      ]
     },
     "execution_count": 16,
     "metadata": {},
     "output_type": "execute_result"
    }
   ],
   "source": [
    "Λ = k + N\n",
    "Λ"
   ]
  },
  {
   "cell_type": "code",
   "execution_count": 17,
   "id": "fccf9ff7",
   "metadata": {},
   "outputs": [
    {
     "data": {
      "text/plain": [
       "array([30.        , 22.        , 13.        , 16.        , 69.57120924,\n",
       "        8.        ,  8.        , 69.57120924, 69.57120924, 12.        ,\n",
       "       69.57120924,  2.        , 24.        ,  2.        , 69.57120924,\n",
       "       69.57120924, 20.        , 69.57120924, 69.57120924, 69.57120924,\n",
       "       29.        ,  4.        , 69.57120924, 23.        , 69.57120924,\n",
       "       69.57120924, 69.57120924,  5.        ,  3.        , 69.57120924,\n",
       "       69.57120924, 69.57120924,  5.        , 10.        , 69.57120924,\n",
       "       14.        , 23.        , 69.57120924, 69.57120924, 17.        ,\n",
       "       69.57120924, 12.        , 69.57120924, 69.57120924, 17.        ,\n",
       "        1.        ,  4.        , 10.        , 69.57120924, 69.57120924,\n",
       "        2.        , 21.        ,  7.        , 12.        ,  6.        ,\n",
       "        3.        , 20.        , 10.        , 69.57120924,  3.        ,\n",
       "       10.        ,  3.        , 18.        , 69.57120924, 69.57120924,\n",
       "       15.        ,  5.        , 16.        , 69.57120924, 12.        ,\n",
       "       69.57120924, 29.        , 18.        , 69.57120924,  6.        ,\n",
       "       69.57120924, 14.        , 13.        ,  8.        ,  4.        ,\n",
       "        1.        ,  7.        , 69.57120924, 69.57120924, 69.57120924,\n",
       "       69.57120924, 69.57120924, 27.        , 69.57120924, 69.57120924,\n",
       "       69.57120924, 21.        , 11.        , 17.        , 27.        ,\n",
       "       20.        , 14.        ,  9.        , 69.57120924, 69.57120924,\n",
       "       69.57120924, 12.        , 69.57120924, 69.57120924,  3.        ,\n",
       "       69.57120924, 18.        ,  4.        , 69.57120924,  7.        ,\n",
       "       69.57120924, 23.        ,  6.        , 18.        , 69.57120924,\n",
       "       69.57120924, 14.        , 17.        , 69.57120924,  5.        ,\n",
       "       10.        , 69.57120924, 69.57120924, 69.57120924, 69.57120924,\n",
       "       69.57120924,  4.        , 69.57120924,  4.        , 69.57120924,\n",
       "       69.57120924, 69.57120924, 69.57120924, 69.57120924,  9.        ,\n",
       "       10.        ,  6.        , 24.        , 69.57120924, 69.57120924,\n",
       "       69.57120924, 15.        ,  9.        , 69.57120924, 69.57120924,\n",
       "       69.57120924,  9.        ,  7.        , 69.57120924,  9.        ,\n",
       "       69.57120924,  5.        , 23.        , 23.        , 29.        ,\n",
       "       69.57120924, 69.57120924, 18.        , 69.57120924,  9.        ,\n",
       "       69.57120924, 27.        , 69.57120924, 29.        , 69.57120924,\n",
       "       69.57120924, 12.        , 69.57120924,  7.        , 69.57120924,\n",
       "       11.        , 69.57120924, 69.57120924, 11.        ,  5.        ,\n",
       "       69.57120924, 69.57120924, 22.        ,  1.        ,  2.        ,\n",
       "       20.        , 12.        , 69.57120924, 69.57120924, 69.57120924,\n",
       "       69.57120924, 69.57120924, 15.        , 69.57120924,  8.        ,\n",
       "       69.57120924, 23.        ,  4.        , 25.        ,  6.        ,\n",
       "       18.        ,  7.        , 69.57120924, 24.        , 18.        ,\n",
       "       69.57120924, 21.        , 69.57120924, 69.57120924,  1.        ,\n",
       "       69.57120924,  8.        ,  4.        , 12.        ,  1.        ,\n",
       "       69.57120924,  3.        ,  2.        ,  9.        , 15.        ,\n",
       "       69.57120924,  4.        ,  6.        , 69.57120924, 11.        ,\n",
       "       69.57120924, 69.57120924,  4.        ,  7.        , 69.57120924,\n",
       "       69.57120924, 69.57120924, 30.        ,  4.        ,  5.        ,\n",
       "       69.57120924, 69.57120924,  5.        , 69.57120924, 69.57120924,\n",
       "       10.        , 29.        , 69.57120924, 28.        , 69.57120924,\n",
       "       30.        , 15.        , 19.        ,  4.        , 69.57120924,\n",
       "       69.57120924, 14.        , 69.57120924, 10.        , 69.57120924,\n",
       "       25.        , 22.        , 69.57120924, 69.57120924, 69.57120924,\n",
       "        6.        , 69.57120924, 14.        ,  5.        , 30.        ,\n",
       "       69.57120924,  5.        , 22.        , 23.        ,  3.        ,\n",
       "       17.        , 69.57120924, 69.57120924, 25.        , 69.57120924,\n",
       "       69.57120924, 69.57120924, 69.57120924, 27.        , 20.        ,\n",
       "        2.        , 69.57120924, 69.57120924, 69.57120924, 69.57120924,\n",
       "       69.57120924, 20.        , 27.        , 15.        , 69.57120924,\n",
       "       19.        , 69.57120924,  6.        , 69.57120924, 69.57120924,\n",
       "       69.57120924,  4.        , 69.57120924, 69.57120924, 12.        ,\n",
       "       27.        , 69.57120924, 29.        , 69.57120924, 69.57120924,\n",
       "       69.57120924,  3.        , 19.        , 69.57120924, 69.57120924,\n",
       "       11.        , 69.57120924, 69.57120924, 12.        , 69.57120924,\n",
       "       69.57120924,  2.        , 13.        , 69.57120924, 22.        ,\n",
       "       69.57120924, 10.        , 69.57120924, 69.57120924, 69.57120924,\n",
       "       16.        ,  4.        , 24.        , 69.57120924, 69.57120924,\n",
       "       69.57120924, 14.        , 69.57120924, 69.57120924,  3.        ,\n",
       "       69.57120924, 24.        , 19.        , 69.57120924, 21.        ,\n",
       "       10.        , 10.        , 10.        , 69.57120924, 69.57120924,\n",
       "       16.        , 69.57120924, 69.57120924, 16.        , 69.57120924,\n",
       "       17.        , 30.        , 22.        , 11.        , 69.57120924,\n",
       "       69.57120924, 22.        , 69.57120924,  1.        , 15.        ,\n",
       "       20.        ,  1.        ,  6.        , 69.57120924, 69.57120924,\n",
       "       10.        , 69.57120924, 23.        , 69.57120924, 14.        ,\n",
       "       30.        , 15.        , 69.57120924, 16.        , 28.        ,\n",
       "       69.57120924, 69.57120924, 21.        , 23.        , 26.        ,\n",
       "       69.57120924,  6.        , 12.        , 24.        , 23.        ,\n",
       "        2.        ,  3.        , 22.        , 29.        , 17.        ,\n",
       "       15.        ,  9.        , 22.        , 14.        , 69.57120924,\n",
       "       69.57120924, 18.        , 69.57120924, 69.57120924,  5.        ,\n",
       "       25.        , 69.57120924,  3.        , 17.        , 11.        ,\n",
       "       23.        , 69.57120924, 69.57120924, 69.57120924, 69.57120924,\n",
       "       69.57120924, 69.57120924,  7.        ,  8.        ,  5.        ,\n",
       "       69.57120924, 19.        ,  4.        , 29.        , 69.57120924,\n",
       "       26.        ,  4.        , 69.57120924, 69.57120924, 69.57120924,\n",
       "        3.        ,  1.        , 69.57120924, 69.57120924, 69.57120924,\n",
       "        3.        , 14.        ,  6.        , 23.        , 69.57120924,\n",
       "       69.57120924, 69.57120924,  4.        , 69.57120924, 12.        ,\n",
       "       11.        , 19.        , 29.        , 69.57120924, 69.57120924,\n",
       "       11.        ,  5.        , 69.57120924, 10.        , 69.57120924,\n",
       "       23.        , 69.57120924,  5.        , 69.57120924, 69.57120924,\n",
       "       69.57120924, 69.57120924, 10.        , 17.        , 11.        ,\n",
       "       69.57120924, 19.        , 16.        ,  1.        , 69.57120924,\n",
       "       69.57120924,  1.        , 20.        , 16.        , 14.        ,\n",
       "       18.        ,  7.        , 21.        , 69.57120924, 13.        ,\n",
       "       69.57120924,  3.        , 69.57120924, 69.57120924,  6.        ,\n",
       "       12.        , 69.57120924,  2.        , 69.57120924, 69.57120924,\n",
       "       18.        , 28.        , 12.        , 69.57120924,  6.        ,\n",
       "       69.57120924,  8.        , 23.        , 10.        , 69.57120924,\n",
       "       13.        , 69.57120924, 69.57120924, 28.        , 14.        ,\n",
       "       18.        , 69.57120924, 69.57120924,  6.        , 15.        ,\n",
       "        2.        , 13.        ,  4.        , 69.57120924, 18.        ,\n",
       "       69.57120924, 69.57120924,  1.        , 23.        , 69.57120924,\n",
       "       69.57120924, 22.        , 69.57120924,  6.        , 69.57120924,\n",
       "       69.57120924,  6.        ,  2.        ,  3.        ,  5.        ,\n",
       "        4.        , 23.        , 27.        , 18.        , 69.57120924,\n",
       "        1.        , 69.57120924, 20.        , 28.        , 69.57120924,\n",
       "        7.        ,  8.        , 18.        , 19.        , 69.57120924,\n",
       "       69.57120924, 69.57120924, 69.57120924, 69.57120924, 23.        ,\n",
       "        6.        , 69.57120924, 69.57120924,  7.        , 69.57120924,\n",
       "       69.57120924, 69.57120924, 69.57120924, 69.57120924, 69.57120924,\n",
       "       13.        , 69.57120924, 69.57120924, 21.        ,  7.        ,\n",
       "       69.57120924,  8.        , 21.        , 26.        ,  9.        ,\n",
       "       69.57120924,  6.        , 69.57120924, 21.        , 69.57120924,\n",
       "        5.        ,  2.        ,  6.        , 69.57120924, 13.        ,\n",
       "        1.        , 29.        , 69.57120924, 69.57120924, 69.57120924,\n",
       "        4.        , 69.57120924, 69.57120924,  1.        , 10.        ,\n",
       "       28.        ,  8.        , 69.57120924, 69.57120924, 18.        ,\n",
       "       69.57120924, 69.57120924, 69.57120924,  6.        ,  1.        ,\n",
       "        4.        , 69.57120924, 69.57120924, 18.        ,  2.        ,\n",
       "       16.        , 69.57120924,  1.        , 69.57120924, 69.57120924,\n",
       "       69.57120924, 26.        ,  1.        , 18.        , 69.57120924,\n",
       "        5.        ,  1.        , 69.57120924, 69.57120924,  3.        ,\n",
       "        9.        ,  2.        , 69.57120924, 69.57120924,  8.        ,\n",
       "       13.        , 69.57120924,  2.        , 25.        , 69.57120924,\n",
       "       22.        ,  5.        ,  4.        , 69.57120924, 69.57120924,\n",
       "       69.57120924, 69.57120924, 69.57120924, 69.57120924, 69.57120924,\n",
       "       11.        , 69.57120924,  3.        , 69.57120924, 69.57120924,\n",
       "       69.57120924, 17.        , 19.        , 69.57120924, 69.57120924,\n",
       "       69.57120924,  3.        , 69.57120924,  2.        , 69.57120924,\n",
       "       69.57120924, 23.        , 69.57120924,  1.        , 16.        ,\n",
       "       69.57120924, 69.57120924,  5.        ,  4.        , 19.        ,\n",
       "       16.        , 11.        , 17.        , 13.        ,  8.        ,\n",
       "       13.        , 69.57120924, 69.57120924, 69.57120924,  5.        ,\n",
       "       69.57120924, 20.        , 11.        , 69.57120924, 10.        ,\n",
       "       29.        ,  5.        , 69.57120924,  9.        , 69.57120924,\n",
       "       12.        ,  8.        , 26.        , 69.57120924, 25.        ,\n",
       "       69.57120924, 69.57120924,  2.        , 27.        ,  5.        ,\n",
       "        1.        , 69.57120924,  1.        , 69.57120924, 69.57120924,\n",
       "        2.        , 69.57120924, 69.57120924, 69.57120924, 69.57120924,\n",
       "       69.57120924, 10.        ,  1.        ,  9.        , 10.        ,\n",
       "       30.        , 69.57120924,  2.        , 69.57120924, 22.        ,\n",
       "       69.57120924,  1.        , 69.57120924, 69.57120924, 69.57120924,\n",
       "       69.57120924,  5.        , 69.57120924, 26.        , 69.57120924,\n",
       "        9.        ,  9.        ,  6.        , 10.        , 69.57120924,\n",
       "       25.        , 69.57120924, 28.        , 69.57120924, 13.        ,\n",
       "       69.57120924, 69.57120924, 19.        , 69.57120924,  9.        ,\n",
       "       69.57120924, 69.57120924, 69.57120924, 28.        , 28.        ,\n",
       "       69.57120924,  7.        , 69.57120924, 69.57120924, 17.        ,\n",
       "       18.        , 69.57120924, 69.57120924, 69.57120924, 69.57120924,\n",
       "       69.57120924, 69.57120924,  1.        , 16.        , 69.57120924,\n",
       "       19.        , 14.        , 69.57120924, 19.        , 69.57120924,\n",
       "       69.57120924, 69.57120924, 69.57120924, 69.57120924, 69.57120924,\n",
       "       69.57120924, 69.57120924, 16.        ,  8.        , 27.        ,\n",
       "       69.57120924, 23.        ,  1.        , 16.        , 69.57120924,\n",
       "       69.57120924, 69.57120924, 20.        , 69.57120924, 12.        ,\n",
       "       69.57120924, 12.        , 69.57120924, 69.57120924, 10.        ,\n",
       "       26.        , 69.57120924, 69.57120924,  3.        , 69.57120924,\n",
       "        6.        , 69.57120924, 69.57120924,  5.        , 15.        ,\n",
       "       69.57120924, 69.57120924, 15.        ,  5.        ,  9.        ,\n",
       "       30.        , 11.        , 69.57120924, 69.57120924, 69.57120924,\n",
       "       69.57120924,  7.        , 69.57120924, 22.        ,  5.        ,\n",
       "        1.        ,  5.        , 69.57120924, 69.57120924, 69.57120924,\n",
       "       69.57120924, 11.        , 69.57120924, 27.        , 69.57120924,\n",
       "       10.        , 13.        ,  8.        , 69.57120924, 69.57120924,\n",
       "        1.        , 29.        , 12.        ,  4.        , 17.        ,\n",
       "       69.57120924, 21.        , 69.57120924, 69.57120924,  1.        ,\n",
       "       29.        , 18.        ,  9.        , 69.57120924, 18.        ,\n",
       "       69.57120924, 19.        , 19.        , 69.57120924, 69.57120924,\n",
       "        4.        , 16.        , 69.57120924, 20.        , 10.        ,\n",
       "       69.57120924, 69.57120924, 69.57120924, 12.        , 69.57120924,\n",
       "       69.57120924, 69.57120924, 15.        , 27.        , 11.        ,\n",
       "       69.57120924, 12.        , 69.57120924, 69.57120924, 69.57120924,\n",
       "       18.        , 69.57120924, 69.57120924, 69.57120924, 23.        ,\n",
       "       16.        , 28.        , 27.        ,  2.        , 13.        ,\n",
       "       10.        , 69.57120924, 20.        , 69.57120924, 69.57120924,\n",
       "       69.57120924, 12.        , 15.        ,  8.        , 10.        ,\n",
       "       69.57120924,  7.        , 69.57120924, 13.        , 13.        ,\n",
       "        4.        , 69.57120924, 69.57120924, 12.        , 69.57120924,\n",
       "        3.        , 19.        , 69.57120924, 69.57120924,  7.        ,\n",
       "       69.57120924, 21.        ,  1.        , 10.        , 69.57120924,\n",
       "       69.57120924, 69.57120924, 30.        , 12.        , 10.        ,\n",
       "       18.        ,  9.        , 13.        , 69.57120924, 69.57120924,\n",
       "       69.57120924, 11.        , 69.57120924, 69.57120924, 69.57120924,\n",
       "        9.        , 69.57120924, 12.        , 69.57120924, 69.57120924,\n",
       "       69.57120924, 69.57120924, 69.57120924, 25.        ,  8.        ,\n",
       "       20.        , 69.57120924, 30.        , 69.57120924,  7.        ,\n",
       "       27.        , 25.        , 69.57120924, 23.        , 12.        ,\n",
       "       23.        ,  2.        , 21.        , 13.        , 69.57120924,\n",
       "       21.        , 69.57120924,  7.        , 69.57120924, 12.        ,\n",
       "        7.        , 69.57120924,  7.        , 69.57120924, 69.57120924,\n",
       "       10.        , 69.57120924, 69.57120924, 69.57120924, 17.        ,\n",
       "       21.        , 19.        , 18.        , 69.57120924, 69.57120924,\n",
       "        3.        , 69.57120924, 18.        , 69.57120924,  2.        ,\n",
       "       69.57120924, 22.        , 20.        , 16.        , 16.        ,\n",
       "        6.        , 69.57120924, 69.57120924, 69.57120924, 69.57120924,\n",
       "       69.57120924, 69.57120924, 69.57120924, 69.57120924, 69.57120924,\n",
       "       69.57120924, 69.57120924, 69.57120924, 29.        , 17.        ,\n",
       "       69.57120924, 69.57120924, 69.57120924, 69.57120924, 69.57120924,\n",
       "       10.        , 17.        , 25.        ,  1.        , 69.57120924,\n",
       "       69.57120924,  2.        , 25.        ,  4.        , 69.57120924])"
      ]
     },
     "execution_count": 17,
     "metadata": {},
     "output_type": "execute_result"
    }
   ],
   "source": [
    "x = np.where(np.isnan(observations), Λ, observations)\n",
    "x"
   ]
  },
  {
   "cell_type": "code",
   "execution_count": 18,
   "id": "def28599",
   "metadata": {},
   "outputs": [
    {
     "data": {
      "image/png": "[encoded data removed]",
      "text/plain": [
       "<Figure size 432x288 with 1 Axes>"
      ]
     },
     "metadata": {
      "needs_background": "light"
     },
     "output_type": "display_data"
    }
   ],
   "source": [
    "plt.hist(x);"
   ]
  },
  {
   "cell_type": "markdown",
   "id": "2330a422",
   "metadata": {},
   "source": [
    "# Conclusion:\n",
    "\n",
    "Now that we have filled in all the NaN values in the data set, we can just take the mean of all observations (real and approximated) and that will give us the best estimate of $\\hat N = \\frac {1}{\\hat p}$"
   ]
  },
  {
   "cell_type": "code",
   "execution_count": 19,
   "id": "e0f69abb",
   "metadata": {},
   "outputs": [
    {
     "data": {
      "text/plain": [
       "(39.33404108509236, 40)"
      ]
     },
     "execution_count": 19,
     "metadata": {},
     "output_type": "execute_result"
    }
   ],
   "source": [
    "x.mean(), n"
   ]
  },
  {
   "cell_type": "markdown",
   "id": "2acdadd8",
   "metadata": {},
   "source": [
    "# Part 2\n",
    "\n",
    "What if the timeout value ($k$) is not the same for each observation?"
   ]
  },
  {
   "cell_type": "code",
   "execution_count": 20,
   "id": "20fa1c8c",
   "metadata": {},
   "outputs": [
    {
     "data": {
      "text/html": [
       "<div>\n",
       "<style scoped>\n",
       "    .dataframe tbody tr th:only-of-type {\n",
       "        vertical-align: middle;\n",
       "    }\n",
       "\n",
       "    .dataframe tbody tr th {\n",
       "        vertical-align: top;\n",
       "    }\n",
       "\n",
       "    .dataframe thead th {\n",
       "        text-align: right;\n",
       "    }\n",
       "</style>\n",
       "<table border=\"1\" class=\"dataframe\">\n",
       "  <thead>\n",
       "    <tr style=\"text-align: right;\">\n",
       "      <th></th>\n",
       "      <th>observation</th>\n",
       "      <th>timeout</th>\n",
       "      <th>success</th>\n",
       "    </tr>\n",
       "  </thead>\n",
       "  <tbody>\n",
       "    <tr>\n",
       "      <th>0</th>\n",
       "      <td>NaN</td>\n",
       "      <td>22</td>\n",
       "      <td>False</td>\n",
       "    </tr>\n",
       "    <tr>\n",
       "      <th>1</th>\n",
       "      <td>14.0</td>\n",
       "      <td>14</td>\n",
       "      <td>True</td>\n",
       "    </tr>\n",
       "    <tr>\n",
       "      <th>2</th>\n",
       "      <td>23.0</td>\n",
       "      <td>23</td>\n",
       "      <td>True</td>\n",
       "    </tr>\n",
       "    <tr>\n",
       "      <th>3</th>\n",
       "      <td>39.0</td>\n",
       "      <td>39</td>\n",
       "      <td>True</td>\n",
       "    </tr>\n",
       "    <tr>\n",
       "      <th>4</th>\n",
       "      <td>NaN</td>\n",
       "      <td>43</td>\n",
       "      <td>False</td>\n",
       "    </tr>\n",
       "    <tr>\n",
       "      <th>...</th>\n",
       "      <td>...</td>\n",
       "      <td>...</td>\n",
       "      <td>...</td>\n",
       "    </tr>\n",
       "    <tr>\n",
       "      <th>995</th>\n",
       "      <td>11.0</td>\n",
       "      <td>11</td>\n",
       "      <td>True</td>\n",
       "    </tr>\n",
       "    <tr>\n",
       "      <th>996</th>\n",
       "      <td>9.0</td>\n",
       "      <td>9</td>\n",
       "      <td>True</td>\n",
       "    </tr>\n",
       "    <tr>\n",
       "      <th>997</th>\n",
       "      <td>NaN</td>\n",
       "      <td>57</td>\n",
       "      <td>False</td>\n",
       "    </tr>\n",
       "    <tr>\n",
       "      <th>998</th>\n",
       "      <td>NaN</td>\n",
       "      <td>46</td>\n",
       "      <td>False</td>\n",
       "    </tr>\n",
       "    <tr>\n",
       "      <th>999</th>\n",
       "      <td>NaN</td>\n",
       "      <td>31</td>\n",
       "      <td>False</td>\n",
       "    </tr>\n",
       "  </tbody>\n",
       "</table>\n",
       "<p>1000 rows × 3 columns</p>\n",
       "</div>"
      ],
      "text/plain": [
       "     observation  timeout  success\n",
       "0            NaN       22    False\n",
       "1           14.0       14     True\n",
       "2           23.0       23     True\n",
       "3           39.0       39     True\n",
       "4            NaN       43    False\n",
       "..           ...      ...      ...\n",
       "995         11.0       11     True\n",
       "996          9.0        9     True\n",
       "997          NaN       57    False\n",
       "998          NaN       46    False\n",
       "999          NaN       31    False\n",
       "\n",
       "[1000 rows x 3 columns]"
      ]
     },
     "execution_count": 20,
     "metadata": {},
     "output_type": "execute_result"
    }
   ],
   "source": [
    "n_samples = 1000\n",
    "df = pd.DataFrame()\n",
    "ks = np.random.randint(15, 60, n_samples)\n",
    "ds = geom(1/n).rvs(n_samples)\n",
    "df['observation'] = np.where(ds<=ks, ds, np.nan)\n",
    "df['timeout'] = np.where(ds<ks, ds, ks)\n",
    "df['success'] = ~df['observation'].isna()\n",
    "df"
   ]
  },
  {
   "cell_type": "code",
   "execution_count": 21,
   "id": "695e9979",
   "metadata": {},
   "outputs": [
    {
     "data": {
      "image/png": "[encoded data removed]",
      "text/plain": [
       "<Figure size 432x288 with 1 Axes>"
      ]
     },
     "metadata": {
      "needs_background": "light"
     },
     "output_type": "display_data"
    }
   ],
   "source": [
    "plt.hist(df['observation']);"
   ]
  },
  {
   "cell_type": "code",
   "execution_count": 22,
   "id": "3c503c56",
   "metadata": {},
   "outputs": [
    {
     "data": {
      "image/png": "[encoded data removed]",
      "text/plain": [
       "<Figure size 432x288 with 1 Axes>"
      ]
     },
     "metadata": {
      "needs_background": "light"
     },
     "output_type": "display_data"
    }
   ],
   "source": [
    "plt.hist(df['timeout']);"
   ]
  },
  {
   "cell_type": "code",
   "execution_count": 23,
   "id": "a7ac2844",
   "metadata": {},
   "outputs": [
    {
     "data": {
      "text/html": [
       "<div>\n",
       "<style scoped>\n",
       "    .dataframe tbody tr th:only-of-type {\n",
       "        vertical-align: middle;\n",
       "    }\n",
       "\n",
       "    .dataframe tbody tr th {\n",
       "        vertical-align: top;\n",
       "    }\n",
       "\n",
       "    .dataframe thead th {\n",
       "        text-align: right;\n",
       "    }\n",
       "</style>\n",
       "<table border=\"1\" class=\"dataframe\">\n",
       "  <thead>\n",
       "    <tr style=\"text-align: right;\">\n",
       "      <th></th>\n",
       "      <th>observation</th>\n",
       "      <th>timeout</th>\n",
       "      <th>success</th>\n",
       "    </tr>\n",
       "  </thead>\n",
       "  <tbody>\n",
       "    <tr>\n",
       "      <th>0</th>\n",
       "      <td>NaN</td>\n",
       "      <td>22</td>\n",
       "      <td>False</td>\n",
       "    </tr>\n",
       "    <tr>\n",
       "      <th>1</th>\n",
       "      <td>14.0</td>\n",
       "      <td>14</td>\n",
       "      <td>True</td>\n",
       "    </tr>\n",
       "    <tr>\n",
       "      <th>2</th>\n",
       "      <td>23.0</td>\n",
       "      <td>23</td>\n",
       "      <td>True</td>\n",
       "    </tr>\n",
       "    <tr>\n",
       "      <th>3</th>\n",
       "      <td>39.0</td>\n",
       "      <td>39</td>\n",
       "      <td>True</td>\n",
       "    </tr>\n",
       "    <tr>\n",
       "      <th>4</th>\n",
       "      <td>NaN</td>\n",
       "      <td>43</td>\n",
       "      <td>False</td>\n",
       "    </tr>\n",
       "    <tr>\n",
       "      <th>...</th>\n",
       "      <td>...</td>\n",
       "      <td>...</td>\n",
       "      <td>...</td>\n",
       "    </tr>\n",
       "    <tr>\n",
       "      <th>995</th>\n",
       "      <td>11.0</td>\n",
       "      <td>11</td>\n",
       "      <td>True</td>\n",
       "    </tr>\n",
       "    <tr>\n",
       "      <th>996</th>\n",
       "      <td>9.0</td>\n",
       "      <td>9</td>\n",
       "      <td>True</td>\n",
       "    </tr>\n",
       "    <tr>\n",
       "      <th>997</th>\n",
       "      <td>NaN</td>\n",
       "      <td>57</td>\n",
       "      <td>False</td>\n",
       "    </tr>\n",
       "    <tr>\n",
       "      <th>998</th>\n",
       "      <td>NaN</td>\n",
       "      <td>46</td>\n",
       "      <td>False</td>\n",
       "    </tr>\n",
       "    <tr>\n",
       "      <th>999</th>\n",
       "      <td>NaN</td>\n",
       "      <td>31</td>\n",
       "      <td>False</td>\n",
       "    </tr>\n",
       "  </tbody>\n",
       "</table>\n",
       "<p>1000 rows × 3 columns</p>\n",
       "</div>"
      ],
      "text/plain": [
       "     observation  timeout  success\n",
       "0            NaN       22    False\n",
       "1           14.0       14     True\n",
       "2           23.0       23     True\n",
       "3           39.0       39     True\n",
       "4            NaN       43    False\n",
       "..           ...      ...      ...\n",
       "995         11.0       11     True\n",
       "996          9.0        9     True\n",
       "997          NaN       57    False\n",
       "998          NaN       46    False\n",
       "999          NaN       31    False\n",
       "\n",
       "[1000 rows x 3 columns]"
      ]
     },
     "execution_count": 23,
     "metadata": {},
     "output_type": "execute_result"
    }
   ],
   "source": [
    "df"
   ]
  },
  {
   "cell_type": "code",
   "execution_count": 24,
   "id": "79275f98",
   "metadata": {},
   "outputs": [],
   "source": [
    "success_profile = {k:df[df['timeout']<=k]['success'].sum()/n_samples for k in df['timeout'].unique()}"
   ]
  },
  {
   "cell_type": "code",
   "execution_count": 25,
   "id": "2abfc7af",
   "metadata": {},
   "outputs": [
    {
     "data": {
      "image/png": "[encoded data removed]",
      "text/plain": [
       "<Figure size 432x288 with 1 Axes>"
      ]
     },
     "metadata": {
      "needs_background": "light"
     },
     "output_type": "display_data"
    }
   ],
   "source": [
    "plt.scatter(success_profile.keys(), success_profile.values());"
   ]
  },
  {
   "cell_type": "code",
   "execution_count": 26,
   "id": "1cfe23b7",
   "metadata": {},
   "outputs": [],
   "source": [
    "S = pd.DataFrame(index = success_profile.keys(), \n",
    "                 data = success_profile.values(), columns=['S'])\n",
    "S.index.name='timeout'\n",
    "df = df.set_index('timeout').join(S).reset_index()#.rename({'index':'timeout'})\n",
    "df['S'] = np.where(df['observation'].isna(), df['S'], np.nan)"
   ]
  },
  {
   "cell_type": "code",
   "execution_count": 27,
   "id": "5e76ff6b",
   "metadata": {},
   "outputs": [
    {
     "data": {
      "text/html": [
       "<div>\n",
       "<style scoped>\n",
       "    .dataframe tbody tr th:only-of-type {\n",
       "        vertical-align: middle;\n",
       "    }\n",
       "\n",
       "    .dataframe tbody tr th {\n",
       "        vertical-align: top;\n",
       "    }\n",
       "\n",
       "    .dataframe thead th {\n",
       "        text-align: right;\n",
       "    }\n",
       "</style>\n",
       "<table border=\"1\" class=\"dataframe\">\n",
       "  <thead>\n",
       "    <tr style=\"text-align: right;\">\n",
       "      <th></th>\n",
       "      <th>timeout</th>\n",
       "      <th>observation</th>\n",
       "      <th>success</th>\n",
       "      <th>S</th>\n",
       "      <th>Λ</th>\n",
       "    </tr>\n",
       "  </thead>\n",
       "  <tbody>\n",
       "    <tr>\n",
       "      <th>0</th>\n",
       "      <td>1</td>\n",
       "      <td>1.0</td>\n",
       "      <td>True</td>\n",
       "      <td>NaN</td>\n",
       "      <td>NaN</td>\n",
       "    </tr>\n",
       "    <tr>\n",
       "      <th>1</th>\n",
       "      <td>1</td>\n",
       "      <td>1.0</td>\n",
       "      <td>True</td>\n",
       "      <td>NaN</td>\n",
       "      <td>NaN</td>\n",
       "    </tr>\n",
       "    <tr>\n",
       "      <th>2</th>\n",
       "      <td>1</td>\n",
       "      <td>1.0</td>\n",
       "      <td>True</td>\n",
       "      <td>NaN</td>\n",
       "      <td>NaN</td>\n",
       "    </tr>\n",
       "    <tr>\n",
       "      <th>3</th>\n",
       "      <td>1</td>\n",
       "      <td>1.0</td>\n",
       "      <td>True</td>\n",
       "      <td>NaN</td>\n",
       "      <td>NaN</td>\n",
       "    </tr>\n",
       "    <tr>\n",
       "      <th>4</th>\n",
       "      <td>1</td>\n",
       "      <td>1.0</td>\n",
       "      <td>True</td>\n",
       "      <td>NaN</td>\n",
       "      <td>NaN</td>\n",
       "    </tr>\n",
       "    <tr>\n",
       "      <th>...</th>\n",
       "      <td>...</td>\n",
       "      <td>...</td>\n",
       "      <td>...</td>\n",
       "      <td>...</td>\n",
       "      <td>...</td>\n",
       "    </tr>\n",
       "    <tr>\n",
       "      <th>995</th>\n",
       "      <td>59</td>\n",
       "      <td>NaN</td>\n",
       "      <td>False</td>\n",
       "      <td>0.581</td>\n",
       "      <td>127.326336</td>\n",
       "    </tr>\n",
       "    <tr>\n",
       "      <th>996</th>\n",
       "      <td>59</td>\n",
       "      <td>NaN</td>\n",
       "      <td>False</td>\n",
       "      <td>0.581</td>\n",
       "      <td>127.326336</td>\n",
       "    </tr>\n",
       "    <tr>\n",
       "      <th>997</th>\n",
       "      <td>59</td>\n",
       "      <td>NaN</td>\n",
       "      <td>False</td>\n",
       "      <td>0.581</td>\n",
       "      <td>127.326336</td>\n",
       "    </tr>\n",
       "    <tr>\n",
       "      <th>998</th>\n",
       "      <td>59</td>\n",
       "      <td>NaN</td>\n",
       "      <td>False</td>\n",
       "      <td>0.581</td>\n",
       "      <td>127.326336</td>\n",
       "    </tr>\n",
       "    <tr>\n",
       "      <th>999</th>\n",
       "      <td>59</td>\n",
       "      <td>NaN</td>\n",
       "      <td>False</td>\n",
       "      <td>0.581</td>\n",
       "      <td>127.326336</td>\n",
       "    </tr>\n",
       "  </tbody>\n",
       "</table>\n",
       "<p>1000 rows × 5 columns</p>\n",
       "</div>"
      ],
      "text/plain": [
       "     timeout  observation  success      S           Λ\n",
       "0          1          1.0     True    NaN         NaN\n",
       "1          1          1.0     True    NaN         NaN\n",
       "2          1          1.0     True    NaN         NaN\n",
       "3          1          1.0     True    NaN         NaN\n",
       "4          1          1.0     True    NaN         NaN\n",
       "..       ...          ...      ...    ...         ...\n",
       "995       59          NaN    False  0.581  127.326336\n",
       "996       59          NaN    False  0.581  127.326336\n",
       "997       59          NaN    False  0.581  127.326336\n",
       "998       59          NaN    False  0.581  127.326336\n",
       "999       59          NaN    False  0.581  127.326336\n",
       "\n",
       "[1000 rows x 5 columns]"
      ]
     },
     "execution_count": 27,
     "metadata": {},
     "output_type": "execute_result"
    }
   ],
   "source": [
    "df['Λ'] =df['timeout'] + 1/(1-(1-df['S'])**(1/df['timeout']))\n",
    "df"
   ]
  },
  {
   "cell_type": "code",
   "execution_count": 28,
   "id": "2fa7c2ba",
   "metadata": {},
   "outputs": [
    {
     "data": {
      "text/html": [
       "<div>\n",
       "<style scoped>\n",
       "    .dataframe tbody tr th:only-of-type {\n",
       "        vertical-align: middle;\n",
       "    }\n",
       "\n",
       "    .dataframe tbody tr th {\n",
       "        vertical-align: top;\n",
       "    }\n",
       "\n",
       "    .dataframe thead th {\n",
       "        text-align: right;\n",
       "    }\n",
       "</style>\n",
       "<table border=\"1\" class=\"dataframe\">\n",
       "  <thead>\n",
       "    <tr style=\"text-align: right;\">\n",
       "      <th></th>\n",
       "      <th>timeout</th>\n",
       "      <th>observation</th>\n",
       "      <th>success</th>\n",
       "      <th>S</th>\n",
       "      <th>Λ</th>\n",
       "      <th>x</th>\n",
       "    </tr>\n",
       "  </thead>\n",
       "  <tbody>\n",
       "    <tr>\n",
       "      <th>0</th>\n",
       "      <td>1</td>\n",
       "      <td>1.0</td>\n",
       "      <td>True</td>\n",
       "      <td>NaN</td>\n",
       "      <td>NaN</td>\n",
       "      <td>1.000000</td>\n",
       "    </tr>\n",
       "    <tr>\n",
       "      <th>1</th>\n",
       "      <td>1</td>\n",
       "      <td>1.0</td>\n",
       "      <td>True</td>\n",
       "      <td>NaN</td>\n",
       "      <td>NaN</td>\n",
       "      <td>1.000000</td>\n",
       "    </tr>\n",
       "    <tr>\n",
       "      <th>2</th>\n",
       "      <td>1</td>\n",
       "      <td>1.0</td>\n",
       "      <td>True</td>\n",
       "      <td>NaN</td>\n",
       "      <td>NaN</td>\n",
       "      <td>1.000000</td>\n",
       "    </tr>\n",
       "    <tr>\n",
       "      <th>3</th>\n",
       "      <td>1</td>\n",
       "      <td>1.0</td>\n",
       "      <td>True</td>\n",
       "      <td>NaN</td>\n",
       "      <td>NaN</td>\n",
       "      <td>1.000000</td>\n",
       "    </tr>\n",
       "    <tr>\n",
       "      <th>4</th>\n",
       "      <td>1</td>\n",
       "      <td>1.0</td>\n",
       "      <td>True</td>\n",
       "      <td>NaN</td>\n",
       "      <td>NaN</td>\n",
       "      <td>1.000000</td>\n",
       "    </tr>\n",
       "    <tr>\n",
       "      <th>...</th>\n",
       "      <td>...</td>\n",
       "      <td>...</td>\n",
       "      <td>...</td>\n",
       "      <td>...</td>\n",
       "      <td>...</td>\n",
       "      <td>...</td>\n",
       "    </tr>\n",
       "    <tr>\n",
       "      <th>995</th>\n",
       "      <td>59</td>\n",
       "      <td>NaN</td>\n",
       "      <td>False</td>\n",
       "      <td>0.581</td>\n",
       "      <td>127.326336</td>\n",
       "      <td>127.326336</td>\n",
       "    </tr>\n",
       "    <tr>\n",
       "      <th>996</th>\n",
       "      <td>59</td>\n",
       "      <td>NaN</td>\n",
       "      <td>False</td>\n",
       "      <td>0.581</td>\n",
       "      <td>127.326336</td>\n",
       "      <td>127.326336</td>\n",
       "    </tr>\n",
       "    <tr>\n",
       "      <th>997</th>\n",
       "      <td>59</td>\n",
       "      <td>NaN</td>\n",
       "      <td>False</td>\n",
       "      <td>0.581</td>\n",
       "      <td>127.326336</td>\n",
       "      <td>127.326336</td>\n",
       "    </tr>\n",
       "    <tr>\n",
       "      <th>998</th>\n",
       "      <td>59</td>\n",
       "      <td>NaN</td>\n",
       "      <td>False</td>\n",
       "      <td>0.581</td>\n",
       "      <td>127.326336</td>\n",
       "      <td>127.326336</td>\n",
       "    </tr>\n",
       "    <tr>\n",
       "      <th>999</th>\n",
       "      <td>59</td>\n",
       "      <td>NaN</td>\n",
       "      <td>False</td>\n",
       "      <td>0.581</td>\n",
       "      <td>127.326336</td>\n",
       "      <td>127.326336</td>\n",
       "    </tr>\n",
       "  </tbody>\n",
       "</table>\n",
       "<p>1000 rows × 6 columns</p>\n",
       "</div>"
      ],
      "text/plain": [
       "     timeout  observation  success      S           Λ           x\n",
       "0          1          1.0     True    NaN         NaN    1.000000\n",
       "1          1          1.0     True    NaN         NaN    1.000000\n",
       "2          1          1.0     True    NaN         NaN    1.000000\n",
       "3          1          1.0     True    NaN         NaN    1.000000\n",
       "4          1          1.0     True    NaN         NaN    1.000000\n",
       "..       ...          ...      ...    ...         ...         ...\n",
       "995       59          NaN    False  0.581  127.326336  127.326336\n",
       "996       59          NaN    False  0.581  127.326336  127.326336\n",
       "997       59          NaN    False  0.581  127.326336  127.326336\n",
       "998       59          NaN    False  0.581  127.326336  127.326336\n",
       "999       59          NaN    False  0.581  127.326336  127.326336\n",
       "\n",
       "[1000 rows x 6 columns]"
      ]
     },
     "execution_count": 28,
     "metadata": {},
     "output_type": "execute_result"
    }
   ],
   "source": [
    "df['x'] = np.where(df['success'], df['observation'], df['Λ'])\n",
    "df"
   ]
  },
  {
   "cell_type": "code",
   "execution_count": 29,
   "id": "ef0949e0",
   "metadata": {},
   "outputs": [
    {
     "data": {
      "text/plain": [
       "43.928188973182856"
      ]
     },
     "execution_count": 29,
     "metadata": {},
     "output_type": "execute_result"
    }
   ],
   "source": [
    "df['x'].mean()"
   ]
  },
  {
   "cell_type": "code",
   "execution_count": 30,
   "id": "bef84229",
   "metadata": {},
   "outputs": [
    {
     "data": {
      "image/png": "[encoded data removed]",
      "text/plain": [
       "<Figure size 432x288 with 1 Axes>"
      ]
     },
     "metadata": {
      "needs_background": "light"
     },
     "output_type": "display_data"
    }
   ],
   "source": [
    "plt.scatter(df['timeout'],df['x']);"
   ]
  },
  {
   "cell_type": "code",
   "execution_count": null,
   "id": "4367d519",
   "metadata": {},
   "outputs": [],
   "source": []
  }
 ],
 "metadata": {
  "kernelspec": {
   "display_name": "Python 3 (ipykernel)",
   "language": "python",
   "name": "python3"
  },
  "language_info": {
   "codemirror_mode": {
    "name": "ipython",
    "version": 3
   },
   "file_extension": ".py",
   "mimetype": "text/x-python",
   "name": "python",
   "nbconvert_exporter": "python",
   "pygments_lexer": "ipython3",
   "version": "3.9.7"
  }
 },
 "nbformat": 4,
 "nbformat_minor": 5
}
