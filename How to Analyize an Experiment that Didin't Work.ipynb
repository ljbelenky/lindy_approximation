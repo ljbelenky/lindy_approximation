{
 "cells": [
  {
   "cell_type": "markdown",
   "id": "4cb964c1",
   "metadata": {},
   "source": [
    "# How to Analyze an Experiment that Didn't Work\n",
    "\n",
    "## Motivation:\n",
    "\n",
    "We want to be able to answer questions such as:\n",
    "\n",
    "* How many times can I use this tool before it breaks?\n",
    "* When are people most likely to cash in a gift card they got for Christmas?\n",
    "* How many of our products will have a repair in the 2-year warranty window?\n",
    "\n",
    "* Which members are likely to have surgery within 6-18 months?\n",
    "\n",
    "| Member | Time to Surgery | Label |\n",
    "| --- | --- | --- |\n",
    "| Al | 5 months, 29 Days | False |\n",
    "| Betty | 6 months, 1 Day | True |\n",
    "| Charlie | 17 months 29 Days | True |\n",
    "|Debroah | 18 months 1 Day | False |\n",
    "\n",
    "* Al and Betty have very similar outcomes but are markeed as completely opposite.\n",
    "* Betty and Charlie differ by almost a year, but are considered to have identical outcomes\n",
    "* Charle and Deborah have very similar outcomes, but are marked as complete opposites\n",
    "* Al and Deborah are the most different of all, yet have the same label"
   ]
  },
  {
   "cell_type": "markdown",
   "id": "bd1170b4",
   "metadata": {},
   "source": [
    "## Approach:\n",
    "\n",
    "We are trying to predict when an event is going to happen. We start by assuming that it is a simple random event with a fixed probability of happening in any time interval or attempt.\n",
    "\n",
    "We can model this as a die with an unknown number of sides. \n",
    "![image of dice with many sides](dice.png)\n",
    "Our event happens when we roll a 1. If we roll anything else, the event does not happen.\n",
    "\n",
    "We want to know how many times we should expect to roll it before we get a one.\n",
    "\n",
    "This is a *Bernoulli* process with an unknown but constant probability *p* of success on each roll.\n",
    "\n",
    "The probability of success on each roll is $$p = \\frac{1}{\\text{number of sides}}$$"
   ]
  },
  {
   "cell_type": "markdown",
   "id": "d3555e1a",
   "metadata": {},
   "source": [
    "So if we have a 40-sided die, the probability of rolling a one each time we roll it is \n",
    "$$p = \\frac{1}{40} = 0.025$$\n",
    "\n",
    "The probability of *not* getting a one is $$q = 1-p$$\n",
    "\n",
    "Generally, we're going to need to roll it a bunch of times until we get a one.\n",
    "The probability of rolling it *n* times in a row without getting a one is:\n",
    "\n",
    "$$P(\\text{not getting a one in n attempts}) = q^n$$\n",
    "\n",
    "And the probability of getting a one on our $n^{th}$ attempt is:\n",
    "\n",
    "$$q^{n-1}\\cdot p$$\n",
    "or\n",
    "$$(1-p)^{n-1}\\cdot p$$\n",
    "\n",
    "This is the geometric distribution.\n",
    "\n",
    "The Expecetation value of the geometric distribution is $1/p$ or, the average number of attempts needed to roll a 1."
   ]
  },
  {
   "cell_type": "markdown",
   "id": "54a45886",
   "metadata": {},
   "source": [
    "So, if we want to know how many sides our die has (or how probable our event is) all we have to do is roll the die until we get a one. The number of rolls indicates the number of sides.\n",
    "\n",
    "Unfortunately, there's a pretty wide variation in how many rolls it is likely to take to roll a one."
   ]
  },
  {
   "cell_type": "code",
   "execution_count": 1,
   "id": "bea16570",
   "metadata": {},
   "outputs": [],
   "source": [
    "import pandas as pd\n",
    "import numpy as np\n",
    "import matplotlib.pyplot as plt\n",
    "from scipy.stats import bernoulli, geom"
   ]
  },
  {
   "cell_type": "markdown",
   "id": "5cd9dcfb",
   "metadata": {},
   "source": [
    "Here we have an event that happens on average once per year, or equivalently, a die with 365 sides.\n",
    "\n",
    "The 90th percentile confidence interval, (the range of \"normal\" outcomes) can vary widely:"
   ]
  },
  {
   "cell_type": "code",
   "execution_count": 2,
   "id": "91c0bf95",
   "metadata": {},
   "outputs": [
    {
     "data": {
      "text/plain": [
       "array([  18., 1087.])"
      ]
     },
     "execution_count": 2,
     "metadata": {},
     "output_type": "execute_result"
    }
   ],
   "source": [
    "np.percentile(geom(p:=1/365).rvs(10000), (5,95))"
   ]
  },
  {
   "cell_type": "markdown",
   "id": "ccd9487a",
   "metadata": {},
   "source": [
    "Rolling this die once isn't going to work.\n",
    "So, to improve our estimate of the number of sides, we repeat this experiment many times and take the average:"
   ]
  },
  {
   "cell_type": "code",
   "execution_count": 3,
   "id": "e4141958",
   "metadata": {},
   "outputs": [
    {
     "data": {
      "text/plain": [
       "[(10.0, 502.8),\n",
       " (100.0, 318.77),\n",
       " (1000.0, 359.259),\n",
       " (10000.0, 362.2065),\n",
       " (100000.0, 364.22303)]"
      ]
     },
     "execution_count": 3,
     "metadata": {},
     "output_type": "execute_result"
    }
   ],
   "source": [
    "[(i,geom(p).rvs(int(i)).mean()) for i in np.logspace(1,5,5)]"
   ]
  },
  {
   "cell_type": "code",
   "execution_count": 4,
   "id": "3b5cff4e",
   "metadata": {},
   "outputs": [
    {
     "data": {
      "text/plain": [
       "array([358.62571, 369.52307])"
      ]
     },
     "execution_count": 4,
     "metadata": {},
     "output_type": "execute_result"
    }
   ],
   "source": [
    "np.percentile([geom(p).rvs(10000).mean() for _ in range(500)], (5, 90))"
   ]
  },
  {
   "cell_type": "code",
   "execution_count": 5,
   "id": "4bd50161",
   "metadata": {},
   "outputs": [
    {
     "data": {
      "text/plain": [
       "array([363.023681, 366.56878 ])"
      ]
     },
     "execution_count": 5,
     "metadata": {},
     "output_type": "execute_result"
    }
   ],
   "source": [
    "np.percentile([geom(p).rvs(100000).mean() for _ in range(500)], (5, 90))"
   ]
  },
  {
   "cell_type": "markdown",
   "id": "6f6346cc",
   "metadata": {},
   "source": [
    "#### This is the very best way to get a good estimate of the probability of the event.\n",
    "\n",
    "The problem is it can take a lot of time and resources.\n",
    "\n",
    "To get this estimate, we had to roll the die 36 million times."
   ]
  },
  {
   "cell_type": "code",
   "execution_count": 6,
   "id": "b15ecb3d",
   "metadata": {},
   "outputs": [
    {
     "data": {
      "text/plain": [
       "36295875"
      ]
     },
     "execution_count": 6,
     "metadata": {},
     "output_type": "execute_result"
    }
   ],
   "source": [
    "geom(p).rvs(100000).sum()"
   ]
  },
  {
   "cell_type": "code",
   "execution_count": 7,
   "id": "62f25da3",
   "metadata": {},
   "outputs": [
    {
     "data": {
      "text/plain": [
       "4591"
      ]
     },
     "execution_count": 7,
     "metadata": {},
     "output_type": "execute_result"
    }
   ],
   "source": [
    "geom(p).rvs(100000).max()"
   ]
  },
  {
   "cell_type": "markdown",
   "id": "28484c45",
   "metadata": {},
   "source": [
    "## How can we get the same quality of estimate with many fewer rolls?\n",
    "\n",
    "## What if we are constrained in how many rolls we can attempt?\n",
    "\n",
    "### Suppose we have a 40-sided die, but we are limited to only rolling each die 30 times.\n",
    "\n",
    "#### This means a lot of our trials will end without ever rolling a one. "
   ]
  },
  {
   "cell_type": "code",
   "execution_count": 8,
   "id": "04a42c8e",
   "metadata": {},
   "outputs": [
    {
     "data": {
      "text/plain": [
       "array([ 2., 21., 29., ..., nan, 24., nan])"
      ]
     },
     "execution_count": 8,
     "metadata": {},
     "output_type": "execute_result"
    }
   ],
   "source": [
    "n = 40\n",
    "k = 30\n",
    "rolls = geom(1/n).rvs(10000)\n",
    "observations = np.where(rolls<=k, rolls, np.nan)\n",
    "observations"
   ]
  },
  {
   "cell_type": "markdown",
   "id": "04575623",
   "metadata": {},
   "source": [
    "## How should we record these results?\n",
    "\n",
    "* Ignore them. If we never observed a result, we can't use that trial\n",
    "* Assume they would have produced a one on the next roll $t=k+1$\n",
    "* Assume they would produce a one at $t=\\infty$\n",
    "* Fill in missing values with the mean of observed values\n",
    "* Assume success at $t=2k$\n",
    "* Something else"
   ]
  },
  {
   "cell_type": "code",
   "execution_count": 9,
   "id": "547917ba",
   "metadata": {},
   "outputs": [
    {
     "data": {
      "image/png": "[encoded data removed]",
      "text/plain": [
       "<Figure size 432x288 with 1 Axes>"
      ]
     },
     "metadata": {
      "needs_background": "light"
     },
     "output_type": "display_data"
    }
   ],
   "source": [
    "y,x,_= plt.hist(rolls:=geom(1/40).rvs(10000), bins=100, density=True)\n",
    "plt.xlabel('Number of rolls until success')\n",
    "plt.ylabel('Trials');"
   ]
  },
  {
   "cell_type": "markdown",
   "id": "be7b5302",
   "metadata": {},
   "source": [
    "### What we want to do is replace all of the values on the right side of the line with a single value at the average of the orange region."
   ]
  },
  {
   "cell_type": "code",
   "execution_count": 10,
   "id": "8083187c",
   "metadata": {},
   "outputs": [
    {
     "data": {
      "image/png": "[encoded data removed]",
      "text/plain": [
       "<Figure size 432x288 with 1 Axes>"
      ]
     },
     "metadata": {
      "needs_background": "light"
     },
     "output_type": "display_data"
    }
   ],
   "source": [
    "x = x[:(len(y))]\n",
    "plt.bar(x[x<=k],y[x<=k], width=x[1]-x[0])\n",
    "plt.bar(x[x>k],y[x>k], width=x[1]-x[0])\n",
    "plt.axvline(k, color = 'red');"
   ]
  },
  {
   "cell_type": "code",
   "execution_count": 11,
   "id": "a3952e81",
   "metadata": {},
   "outputs": [
    {
     "data": {
      "image/png": "[encoded data removed]",
      "text/plain": [
       "<Figure size 432x288 with 1 Axes>"
      ]
     },
     "metadata": {
      "needs_background": "light"
     },
     "output_type": "display_data"
    }
   ],
   "source": [
    "plt.bar(x[x<=k],y[x<=k], width=x[1]-x[0])\n",
    "plt.axvline(k, color = 'red')\n",
    "plt.xlim((0,x.max()))\n",
    "plt.scatter(k + 1/(1-((rolls>=k).mean())**(1/k)), .005, s=200, marker = 'X', color='black');"
   ]
  },
  {
   "cell_type": "markdown",
   "id": "829c37e7",
   "metadata": {},
   "source": [
    "## Memorylessness:\n",
    "\n",
    "#### No matter how long you have been waiting, you can expect to keep waiting\n",
    "\n",
    "When you first start rolling a die, you can expect to get a one in $N$ rolls.\n",
    "\n",
    "If you have already rolled it 10 times, you can expect to get a one in $N$ *more* rolls.\n",
    "\n",
    "If you have already rolled it $k$ times, your can expect to roll a one at $t=k+N$\n",
    "\n",
    "Unfortunately, we don't know $N$. That's what we're trying to figure out.\n",
    "\n",
    "We can get an estimate of $N$ from the cumulative distribution function of the geometric distribution:\n",
    "\n",
    "$$\\text {cdf}(k) = 1-(1-p)^k$$\n",
    "\n",
    "\n",
    "Where $k$ is the threshold or timeout value.\n",
    "$cdf(k)$ is the number of trials that result in success at or before $k$ rolls.\n",
    "And, of course, $p=\\frac{1}{N}$.\n",
    "\n",
    "Rearrange:\n",
    "$$N = \\frac{1}{1-(1-\\text{cdf}(k))^{\\frac{1}{k}}}$$\n"
   ]
  },
  {
   "cell_type": "markdown",
   "id": "bae8320a",
   "metadata": {},
   "source": [
    "## Procedure:\n",
    "\n",
    "1. Roll the die until either you get a 1 or reach the timeout limit\n",
    "2. If you get a 1, record the actual number of rolls\n",
    "3. If you don't get a 1, record a temporary variable (Λ)\n",
    "4. When you are done with all the trials, calculate how many ended in success: (*cdf(k)*)\n",
    "5. Calculate $N$ from the equation above.\n",
    "6. Replace all Λ with $Λ = k + N$\n",
    "7. Take the average of all values, observed and imputed, $\\bar x$\n",
    "8. The probability is: $p = \\frac {1}{\\bar x}$"
   ]
  },
  {
   "cell_type": "code",
   "execution_count": 12,
   "id": "67424182",
   "metadata": {},
   "outputs": [
    {
     "data": {
      "text/plain": [
       "array([ 2., 21., 29., ..., nan, 24., nan])"
      ]
     },
     "execution_count": 12,
     "metadata": {},
     "output_type": "execute_result"
    }
   ],
   "source": [
    "observations"
   ]
  },
  {
   "cell_type": "code",
   "execution_count": 13,
   "id": "01185eb6",
   "metadata": {},
   "outputs": [
    {
     "data": {
      "text/plain": [
       "0.5287999999999999"
      ]
     },
     "execution_count": 13,
     "metadata": {},
     "output_type": "execute_result"
    }
   ],
   "source": [
    "cdf = 1- np.isnan(observations).mean()\n",
    "cdf"
   ]
  },
  {
   "cell_type": "code",
   "execution_count": 14,
   "id": "6f497b39",
   "metadata": {},
   "outputs": [
    {
     "data": {
      "text/plain": [
       "40.37064903549888"
      ]
     },
     "execution_count": 14,
     "metadata": {},
     "output_type": "execute_result"
    }
   ],
   "source": [
    "N = 1/(1-(1-cdf)**(1/k))\n",
    "N"
   ]
  },
  {
   "cell_type": "code",
   "execution_count": 15,
   "id": "d0bf511e",
   "metadata": {},
   "outputs": [
    {
     "data": {
      "text/plain": [
       "70.37064903549887"
      ]
     },
     "execution_count": 15,
     "metadata": {},
     "output_type": "execute_result"
    }
   ],
   "source": [
    "Λ = k + N\n",
    "Λ"
   ]
  },
  {
   "cell_type": "code",
   "execution_count": 16,
   "id": "fccf9ff7",
   "metadata": {},
   "outputs": [
    {
     "data": {
      "text/plain": [
       "array([ 2.        , 21.        , 29.        , ..., 70.37064904,\n",
       "       24.        , 70.37064904])"
      ]
     },
     "execution_count": 16,
     "metadata": {},
     "output_type": "execute_result"
    }
   ],
   "source": [
    "x = np.where(np.isnan(observations), Λ, observations)\n",
    "x"
   ]
  },
  {
   "cell_type": "code",
   "execution_count": 17,
   "id": "e0f69abb",
   "metadata": {},
   "outputs": [
    {
     "data": {
      "text/plain": [
       "(40.32174982552708, 40)"
      ]
     },
     "execution_count": 17,
     "metadata": {},
     "output_type": "execute_result"
    }
   ],
   "source": [
    "x.mean(), n"
   ]
  },
  {
   "cell_type": "markdown",
   "id": "2acdadd8",
   "metadata": {},
   "source": [
    "# Part 2\n",
    "\n",
    "What if the timeout value ($k$) is not the same for each observation?"
   ]
  },
  {
   "cell_type": "code",
   "execution_count": 18,
   "id": "20fa1c8c",
   "metadata": {},
   "outputs": [
    {
     "data": {
      "text/html": [
       "<div>\n",
       "<style scoped>\n",
       "    .dataframe tbody tr th:only-of-type {\n",
       "        vertical-align: middle;\n",
       "    }\n",
       "\n",
       "    .dataframe tbody tr th {\n",
       "        vertical-align: top;\n",
       "    }\n",
       "\n",
       "    .dataframe thead th {\n",
       "        text-align: right;\n",
       "    }\n",
       "</style>\n",
       "<table border=\"1\" class=\"dataframe\">\n",
       "  <thead>\n",
       "    <tr style=\"text-align: right;\">\n",
       "      <th></th>\n",
       "      <th>observation</th>\n",
       "      <th>timeout</th>\n",
       "      <th>success</th>\n",
       "    </tr>\n",
       "  </thead>\n",
       "  <tbody>\n",
       "    <tr>\n",
       "      <th>0</th>\n",
       "      <td>NaN</td>\n",
       "      <td>20</td>\n",
       "      <td>False</td>\n",
       "    </tr>\n",
       "    <tr>\n",
       "      <th>1</th>\n",
       "      <td>NaN</td>\n",
       "      <td>46</td>\n",
       "      <td>False</td>\n",
       "    </tr>\n",
       "    <tr>\n",
       "      <th>2</th>\n",
       "      <td>NaN</td>\n",
       "      <td>16</td>\n",
       "      <td>False</td>\n",
       "    </tr>\n",
       "    <tr>\n",
       "      <th>3</th>\n",
       "      <td>NaN</td>\n",
       "      <td>47</td>\n",
       "      <td>False</td>\n",
       "    </tr>\n",
       "    <tr>\n",
       "      <th>4</th>\n",
       "      <td>17.0</td>\n",
       "      <td>17</td>\n",
       "      <td>True</td>\n",
       "    </tr>\n",
       "    <tr>\n",
       "      <th>...</th>\n",
       "      <td>...</td>\n",
       "      <td>...</td>\n",
       "      <td>...</td>\n",
       "    </tr>\n",
       "    <tr>\n",
       "      <th>995</th>\n",
       "      <td>NaN</td>\n",
       "      <td>48</td>\n",
       "      <td>False</td>\n",
       "    </tr>\n",
       "    <tr>\n",
       "      <th>996</th>\n",
       "      <td>11.0</td>\n",
       "      <td>11</td>\n",
       "      <td>True</td>\n",
       "    </tr>\n",
       "    <tr>\n",
       "      <th>997</th>\n",
       "      <td>NaN</td>\n",
       "      <td>24</td>\n",
       "      <td>False</td>\n",
       "    </tr>\n",
       "    <tr>\n",
       "      <th>998</th>\n",
       "      <td>NaN</td>\n",
       "      <td>21</td>\n",
       "      <td>False</td>\n",
       "    </tr>\n",
       "    <tr>\n",
       "      <th>999</th>\n",
       "      <td>NaN</td>\n",
       "      <td>24</td>\n",
       "      <td>False</td>\n",
       "    </tr>\n",
       "  </tbody>\n",
       "</table>\n",
       "<p>1000 rows × 3 columns</p>\n",
       "</div>"
      ],
      "text/plain": [
       "     observation  timeout  success\n",
       "0            NaN       20    False\n",
       "1            NaN       46    False\n",
       "2            NaN       16    False\n",
       "3            NaN       47    False\n",
       "4           17.0       17     True\n",
       "..           ...      ...      ...\n",
       "995          NaN       48    False\n",
       "996         11.0       11     True\n",
       "997          NaN       24    False\n",
       "998          NaN       21    False\n",
       "999          NaN       24    False\n",
       "\n",
       "[1000 rows x 3 columns]"
      ]
     },
     "execution_count": 18,
     "metadata": {},
     "output_type": "execute_result"
    }
   ],
   "source": [
    "n_samples = 1000\n",
    "df = pd.DataFrame()\n",
    "ks = np.random.randint(15, 60, n_samples)\n",
    "ds = geom(1/n).rvs(n_samples)\n",
    "df['observation'] = np.where(ds<=ks, ds, np.nan)\n",
    "df['timeout'] = np.where(ds<ks, ds, ks)\n",
    "df['success'] = ~df['observation'].isna()\n",
    "df"
   ]
  },
  {
   "cell_type": "code",
   "execution_count": 19,
   "id": "695e9979",
   "metadata": {},
   "outputs": [
    {
     "data": {
      "image/png": "[encoded data removed]",
      "text/plain": [
       "<Figure size 432x288 with 1 Axes>"
      ]
     },
     "metadata": {
      "needs_background": "light"
     },
     "output_type": "display_data"
    }
   ],
   "source": [
    "plt.hist(df['observation']);"
   ]
  },
  {
   "cell_type": "code",
   "execution_count": 20,
   "id": "3c503c56",
   "metadata": {},
   "outputs": [
    {
     "data": {
      "image/png": "[encoded data removed]",
      "text/plain": [
       "<Figure size 432x288 with 1 Axes>"
      ]
     },
     "metadata": {
      "needs_background": "light"
     },
     "output_type": "display_data"
    }
   ],
   "source": [
    "plt.hist(df['timeout']);"
   ]
  },
  {
   "cell_type": "code",
   "execution_count": 21,
   "id": "79275f98",
   "metadata": {},
   "outputs": [],
   "source": [
    "success_profile = {k:df[df['timeout']<=k]['success'].sum()/n_samples for k in df['timeout'].unique()}"
   ]
  },
  {
   "cell_type": "code",
   "execution_count": 22,
   "id": "2abfc7af",
   "metadata": {},
   "outputs": [
    {
     "data": {
      "text/plain": [
       "<matplotlib.collections.PathCollection at 0x7f6e0ab45fd0>"
      ]
     },
     "execution_count": 22,
     "metadata": {},
     "output_type": "execute_result"
    },
    {
     "data": {
      "image/png": "[encoded data removed]",
      "text/plain": [
       "<Figure size 432x288 with 1 Axes>"
      ]
     },
     "metadata": {
      "needs_background": "light"
     },
     "output_type": "display_data"
    }
   ],
   "source": [
    "v = np.array([i for i in success_profile.values()])\n",
    "plt.scatter(success_profile.keys(), v)"
   ]
  },
  {
   "cell_type": "code",
   "execution_count": 23,
   "id": "1cfe23b7",
   "metadata": {},
   "outputs": [],
   "source": [
    "S = pd.DataFrame(index = success_profile.keys(), \n",
    "                 data = success_profile.values(), columns=['S'])\n",
    "S.index.name='timeout'\n",
    "df = df.set_index('timeout').join(S).reset_index()#.rename({'index':'timeout'})\n",
    "df['S'] = np.where(df['observation'].isna(), df['S'], np.nan)"
   ]
  },
  {
   "cell_type": "code",
   "execution_count": 24,
   "id": "5e76ff6b",
   "metadata": {},
   "outputs": [
    {
     "data": {
      "text/html": [
       "<div>\n",
       "<style scoped>\n",
       "    .dataframe tbody tr th:only-of-type {\n",
       "        vertical-align: middle;\n",
       "    }\n",
       "\n",
       "    .dataframe tbody tr th {\n",
       "        vertical-align: top;\n",
       "    }\n",
       "\n",
       "    .dataframe thead th {\n",
       "        text-align: right;\n",
       "    }\n",
       "</style>\n",
       "<table border=\"1\" class=\"dataframe\">\n",
       "  <thead>\n",
       "    <tr style=\"text-align: right;\">\n",
       "      <th></th>\n",
       "      <th>timeout</th>\n",
       "      <th>observation</th>\n",
       "      <th>success</th>\n",
       "      <th>S</th>\n",
       "      <th>Λ</th>\n",
       "    </tr>\n",
       "  </thead>\n",
       "  <tbody>\n",
       "    <tr>\n",
       "      <th>0</th>\n",
       "      <td>1</td>\n",
       "      <td>1.0</td>\n",
       "      <td>True</td>\n",
       "      <td>NaN</td>\n",
       "      <td>NaN</td>\n",
       "    </tr>\n",
       "    <tr>\n",
       "      <th>1</th>\n",
       "      <td>1</td>\n",
       "      <td>1.0</td>\n",
       "      <td>True</td>\n",
       "      <td>NaN</td>\n",
       "      <td>NaN</td>\n",
       "    </tr>\n",
       "    <tr>\n",
       "      <th>2</th>\n",
       "      <td>1</td>\n",
       "      <td>1.0</td>\n",
       "      <td>True</td>\n",
       "      <td>NaN</td>\n",
       "      <td>NaN</td>\n",
       "    </tr>\n",
       "    <tr>\n",
       "      <th>3</th>\n",
       "      <td>1</td>\n",
       "      <td>1.0</td>\n",
       "      <td>True</td>\n",
       "      <td>NaN</td>\n",
       "      <td>NaN</td>\n",
       "    </tr>\n",
       "    <tr>\n",
       "      <th>4</th>\n",
       "      <td>1</td>\n",
       "      <td>1.0</td>\n",
       "      <td>True</td>\n",
       "      <td>NaN</td>\n",
       "      <td>NaN</td>\n",
       "    </tr>\n",
       "    <tr>\n",
       "      <th>...</th>\n",
       "      <td>...</td>\n",
       "      <td>...</td>\n",
       "      <td>...</td>\n",
       "      <td>...</td>\n",
       "      <td>...</td>\n",
       "    </tr>\n",
       "    <tr>\n",
       "      <th>995</th>\n",
       "      <td>58</td>\n",
       "      <td>NaN</td>\n",
       "      <td>False</td>\n",
       "      <td>0.585</td>\n",
       "      <td>124.449567</td>\n",
       "    </tr>\n",
       "    <tr>\n",
       "      <th>996</th>\n",
       "      <td>58</td>\n",
       "      <td>NaN</td>\n",
       "      <td>False</td>\n",
       "      <td>0.585</td>\n",
       "      <td>124.449567</td>\n",
       "    </tr>\n",
       "    <tr>\n",
       "      <th>997</th>\n",
       "      <td>59</td>\n",
       "      <td>NaN</td>\n",
       "      <td>False</td>\n",
       "      <td>0.585</td>\n",
       "      <td>126.586585</td>\n",
       "    </tr>\n",
       "    <tr>\n",
       "      <th>998</th>\n",
       "      <td>59</td>\n",
       "      <td>NaN</td>\n",
       "      <td>False</td>\n",
       "      <td>0.585</td>\n",
       "      <td>126.586585</td>\n",
       "    </tr>\n",
       "    <tr>\n",
       "      <th>999</th>\n",
       "      <td>59</td>\n",
       "      <td>NaN</td>\n",
       "      <td>False</td>\n",
       "      <td>0.585</td>\n",
       "      <td>126.586585</td>\n",
       "    </tr>\n",
       "  </tbody>\n",
       "</table>\n",
       "<p>1000 rows × 5 columns</p>\n",
       "</div>"
      ],
      "text/plain": [
       "     timeout  observation  success      S           Λ\n",
       "0          1          1.0     True    NaN         NaN\n",
       "1          1          1.0     True    NaN         NaN\n",
       "2          1          1.0     True    NaN         NaN\n",
       "3          1          1.0     True    NaN         NaN\n",
       "4          1          1.0     True    NaN         NaN\n",
       "..       ...          ...      ...    ...         ...\n",
       "995       58          NaN    False  0.585  124.449567\n",
       "996       58          NaN    False  0.585  124.449567\n",
       "997       59          NaN    False  0.585  126.586585\n",
       "998       59          NaN    False  0.585  126.586585\n",
       "999       59          NaN    False  0.585  126.586585\n",
       "\n",
       "[1000 rows x 5 columns]"
      ]
     },
     "execution_count": 24,
     "metadata": {},
     "output_type": "execute_result"
    }
   ],
   "source": [
    "df['Λ'] =df['timeout'] + 1/(1-(1-df['S'])**(1/df['timeout']))\n",
    "df"
   ]
  },
  {
   "cell_type": "code",
   "execution_count": 25,
   "id": "2fa7c2ba",
   "metadata": {},
   "outputs": [
    {
     "data": {
      "text/html": [
       "<div>\n",
       "<style scoped>\n",
       "    .dataframe tbody tr th:only-of-type {\n",
       "        vertical-align: middle;\n",
       "    }\n",
       "\n",
       "    .dataframe tbody tr th {\n",
       "        vertical-align: top;\n",
       "    }\n",
       "\n",
       "    .dataframe thead th {\n",
       "        text-align: right;\n",
       "    }\n",
       "</style>\n",
       "<table border=\"1\" class=\"dataframe\">\n",
       "  <thead>\n",
       "    <tr style=\"text-align: right;\">\n",
       "      <th></th>\n",
       "      <th>timeout</th>\n",
       "      <th>observation</th>\n",
       "      <th>success</th>\n",
       "      <th>S</th>\n",
       "      <th>Λ</th>\n",
       "      <th>x</th>\n",
       "    </tr>\n",
       "  </thead>\n",
       "  <tbody>\n",
       "    <tr>\n",
       "      <th>0</th>\n",
       "      <td>1</td>\n",
       "      <td>1.0</td>\n",
       "      <td>True</td>\n",
       "      <td>NaN</td>\n",
       "      <td>NaN</td>\n",
       "      <td>1.000000</td>\n",
       "    </tr>\n",
       "    <tr>\n",
       "      <th>1</th>\n",
       "      <td>1</td>\n",
       "      <td>1.0</td>\n",
       "      <td>True</td>\n",
       "      <td>NaN</td>\n",
       "      <td>NaN</td>\n",
       "      <td>1.000000</td>\n",
       "    </tr>\n",
       "    <tr>\n",
       "      <th>2</th>\n",
       "      <td>1</td>\n",
       "      <td>1.0</td>\n",
       "      <td>True</td>\n",
       "      <td>NaN</td>\n",
       "      <td>NaN</td>\n",
       "      <td>1.000000</td>\n",
       "    </tr>\n",
       "    <tr>\n",
       "      <th>3</th>\n",
       "      <td>1</td>\n",
       "      <td>1.0</td>\n",
       "      <td>True</td>\n",
       "      <td>NaN</td>\n",
       "      <td>NaN</td>\n",
       "      <td>1.000000</td>\n",
       "    </tr>\n",
       "    <tr>\n",
       "      <th>4</th>\n",
       "      <td>1</td>\n",
       "      <td>1.0</td>\n",
       "      <td>True</td>\n",
       "      <td>NaN</td>\n",
       "      <td>NaN</td>\n",
       "      <td>1.000000</td>\n",
       "    </tr>\n",
       "    <tr>\n",
       "      <th>...</th>\n",
       "      <td>...</td>\n",
       "      <td>...</td>\n",
       "      <td>...</td>\n",
       "      <td>...</td>\n",
       "      <td>...</td>\n",
       "      <td>...</td>\n",
       "    </tr>\n",
       "    <tr>\n",
       "      <th>995</th>\n",
       "      <td>58</td>\n",
       "      <td>NaN</td>\n",
       "      <td>False</td>\n",
       "      <td>0.585</td>\n",
       "      <td>124.449567</td>\n",
       "      <td>124.449567</td>\n",
       "    </tr>\n",
       "    <tr>\n",
       "      <th>996</th>\n",
       "      <td>58</td>\n",
       "      <td>NaN</td>\n",
       "      <td>False</td>\n",
       "      <td>0.585</td>\n",
       "      <td>124.449567</td>\n",
       "      <td>124.449567</td>\n",
       "    </tr>\n",
       "    <tr>\n",
       "      <th>997</th>\n",
       "      <td>59</td>\n",
       "      <td>NaN</td>\n",
       "      <td>False</td>\n",
       "      <td>0.585</td>\n",
       "      <td>126.586585</td>\n",
       "      <td>126.586585</td>\n",
       "    </tr>\n",
       "    <tr>\n",
       "      <th>998</th>\n",
       "      <td>59</td>\n",
       "      <td>NaN</td>\n",
       "      <td>False</td>\n",
       "      <td>0.585</td>\n",
       "      <td>126.586585</td>\n",
       "      <td>126.586585</td>\n",
       "    </tr>\n",
       "    <tr>\n",
       "      <th>999</th>\n",
       "      <td>59</td>\n",
       "      <td>NaN</td>\n",
       "      <td>False</td>\n",
       "      <td>0.585</td>\n",
       "      <td>126.586585</td>\n",
       "      <td>126.586585</td>\n",
       "    </tr>\n",
       "  </tbody>\n",
       "</table>\n",
       "<p>1000 rows × 6 columns</p>\n",
       "</div>"
      ],
      "text/plain": [
       "     timeout  observation  success      S           Λ           x\n",
       "0          1          1.0     True    NaN         NaN    1.000000\n",
       "1          1          1.0     True    NaN         NaN    1.000000\n",
       "2          1          1.0     True    NaN         NaN    1.000000\n",
       "3          1          1.0     True    NaN         NaN    1.000000\n",
       "4          1          1.0     True    NaN         NaN    1.000000\n",
       "..       ...          ...      ...    ...         ...         ...\n",
       "995       58          NaN    False  0.585  124.449567  124.449567\n",
       "996       58          NaN    False  0.585  124.449567  124.449567\n",
       "997       59          NaN    False  0.585  126.586585  126.586585\n",
       "998       59          NaN    False  0.585  126.586585  126.586585\n",
       "999       59          NaN    False  0.585  126.586585  126.586585\n",
       "\n",
       "[1000 rows x 6 columns]"
      ]
     },
     "execution_count": 25,
     "metadata": {},
     "output_type": "execute_result"
    }
   ],
   "source": [
    "df['x'] = np.where(df['success'], df['observation'], df['Λ'])\n",
    "df"
   ]
  },
  {
   "cell_type": "code",
   "execution_count": 26,
   "id": "ef0949e0",
   "metadata": {},
   "outputs": [
    {
     "data": {
      "text/plain": [
       "43.90423120931423"
      ]
     },
     "execution_count": 26,
     "metadata": {},
     "output_type": "execute_result"
    }
   ],
   "source": [
    "df['x'].mean()"
   ]
  },
  {
   "cell_type": "code",
   "execution_count": 38,
   "id": "bef84229",
   "metadata": {},
   "outputs": [
    {
     "data": {
      "image/png": "[encoded data removed]",
      "text/plain": [
       "<Figure size 432x288 with 1 Axes>"
      ]
     },
     "metadata": {
      "needs_background": "light"
     },
     "output_type": "display_data"
    }
   ],
   "source": [
    "plt.scatter(df['timeout'],df['x']);"
   ]
  },
  {
   "cell_type": "code",
   "execution_count": null,
   "id": "4367d519",
   "metadata": {},
   "outputs": [],
   "source": []
  }
 ],
 "metadata": {
  "kernelspec": {
   "display_name": "Python 3 (ipykernel)",
   "language": "python",
   "name": "python3"
  },
  "language_info": {
   "codemirror_mode": {
    "name": "ipython",
    "version": 3
   },
   "file_extension": ".py",
   "mimetype": "text/x-python",
   "name": "python",
   "nbconvert_exporter": "python",
   "pygments_lexer": "ipython3",
   "version": "3.9.7"
  }
 },
 "nbformat": 4,
 "nbformat_minor": 5
}
