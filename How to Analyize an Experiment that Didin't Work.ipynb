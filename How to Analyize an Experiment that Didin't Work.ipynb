{
 "cells": [
  {
   "cell_type": "markdown",
   "id": "4cb964c1",
   "metadata": {},
   "source": [
    "# How to Analyze an Experiment that Didn't Work\n",
    "\n",
    "## Motivation:\n",
    "\n",
    "We want to be able to answer questions such as:\n",
    "\n",
    "* How many times can I use this tool before it breaks?\n",
    "* When are people most likely to cash in a gift card they got for Christmas?\n",
    "* How many of our products will have a repair in the 2-year warranty window?\n",
    "\n",
    "* Which members are likely to have surgery within 6-18 months?\n",
    "\n",
    "| Member | Time to Surgery | Label |\n",
    "| --- | --- | --- |\n",
    "| Al | 5 months, 29 Days | False |\n",
    "| Betty | 6 months, 1 Day | True |\n",
    "| Charlie | 17 months 29 Days | True |\n",
    "|Debroah | 18 months 1 Day | False |\n",
    "\n",
    "* Al and Betty have very similar outcomes but are markeed as completely opposite.\n",
    "* Betty and Charlie differ by almost a year, but are considered to have identical outcomes\n",
    "* Charle and Deborah have very similar outcomes, but are marked as complete opposites\n",
    "* Al and Deborah are the most different of all, yet have the same label"
   ]
  },
  {
   "cell_type": "markdown",
   "id": "bd1170b4",
   "metadata": {},
   "source": [
    "## Approach:\n",
    "\n",
    "We are trying to predict when an event is going to happen. We start by assuming that it is a simple random event with a fixed probability of happening in any time interval or attempt.\n",
    "\n",
    "We can model this as a die with an unknown number of sides. \n",
    "![image of dice with many sides](dice.png)\n",
    "Our event happens when we roll a 1. If we roll anything else, the event does not happen.\n",
    "\n",
    "We want to know how many times we should expect to roll it before we get a one.\n",
    "\n",
    "This is a *Bernoulli* process with an unknown but constant probability *p* of success on each roll.\n",
    "\n",
    "The probability of success on each roll is $$p = \\frac{1}{\\text{number of sides}}$$"
   ]
  },
  {
   "cell_type": "markdown",
   "id": "f4f9fc54",
   "metadata": {},
   "source": [
    "So if we have a 40-sided die, the probability of rolling a one each time we roll it is \n",
    "$$p = \\frac{1}{40} = 0.025$$\n",
    "\n",
    "The probability of *not* getting a one is $$q = 1-p$$\n",
    "\n",
    "Generally, we're going to need to roll it a bunch of times until we get a one.\n",
    "The probability of rolling it *n* times in a row without getting a one is:\n",
    "\n",
    "$$P(\\text{not getting a one in n attempts}) = q^n$$\n",
    "\n",
    "And the probability of getting a one on our $n^{th}$ attempt is:\n",
    "\n",
    "$$q^{n-1}\\cdot p$$\n",
    "or\n",
    "$$(1-p)^{n-1}\\cdot p$$\n",
    "\n",
    "This is the geometric distribution.\n",
    "\n",
    "The Expecetation value of the geometric distribution is $1/p$ or, the average number of attempts needed to roll a 1."
   ]
  },
  {
   "cell_type": "markdown",
   "id": "026ea6c0",
   "metadata": {},
   "source": [
    "So, if we want to know how many sides our die has (or how probable our event is) all we have to do is roll the die until we get a one. The number of rolls indicates the number of sides.\n",
    "\n",
    "Unfortunately, there's a pretty wide variation in how many rolls it is likely to take to roll a one."
   ]
  },
  {
   "cell_type": "code",
   "execution_count": 1,
   "id": "bea16570",
   "metadata": {},
   "outputs": [],
   "source": [
    "import pandas as pd\n",
    "import numpy as np\n",
    "import matplotlib.pyplot as plt\n",
    "from scipy.stats import bernoulli, geom"
   ]
  },
  {
   "cell_type": "markdown",
   "id": "1a3a768e",
   "metadata": {},
   "source": [
    "Here we have an event that happens on average once per year, or equivalently, a die with 365 sides.\n",
    "\n",
    "The 90th percentile confidence interval, (the range of \"normal\" outcomes) can vary widely:"
   ]
  },
  {
   "cell_type": "code",
   "execution_count": 2,
   "id": "91c0bf95",
   "metadata": {},
   "outputs": [
    {
     "data": {
      "text/plain": [
       "array([  20., 1076.])"
      ]
     },
     "execution_count": 2,
     "metadata": {},
     "output_type": "execute_result"
    }
   ],
   "source": [
    "np.percentile(geom(p:=1/365).rvs(10000), (5,95))"
   ]
  },
  {
   "cell_type": "markdown",
   "id": "d503e685",
   "metadata": {},
   "source": [
    "Rolling this die once isn't going to work.\n",
    "So, to improve our estimate of the number of sides, we repeat this experiment many times and take the average:"
   ]
  },
  {
   "cell_type": "code",
   "execution_count": 15,
   "id": "f666e279",
   "metadata": {},
   "outputs": [
    {
     "data": {
      "text/plain": [
       "[(10.0, 202.3),\n",
       " (100.0, 313.96),\n",
       " (1000.0, 386.722),\n",
       " (10000.0, 369.05),\n",
       " (100000.0, 364.43207)]"
      ]
     },
     "execution_count": 15,
     "metadata": {},
     "output_type": "execute_result"
    }
   ],
   "source": [
    "[(i,geom(p).rvs(int(i)).mean()) for i in np.logspace(1,5,5)]"
   ]
  },
  {
   "cell_type": "code",
   "execution_count": 22,
   "id": "358aecb3",
   "metadata": {},
   "outputs": [
    {
     "data": {
      "text/plain": [
       "array([358.77836, 369.34395])"
      ]
     },
     "execution_count": 22,
     "metadata": {},
     "output_type": "execute_result"
    }
   ],
   "source": [
    "np.percentile([geom(p).rvs(10000).mean() for _ in range(500)], (5, 90))"
   ]
  },
  {
   "cell_type": "code",
   "execution_count": 23,
   "id": "d021afdc",
   "metadata": {},
   "outputs": [
    {
     "data": {
      "text/plain": [
       "array([363.1493745, 366.579881 ])"
      ]
     },
     "execution_count": 23,
     "metadata": {},
     "output_type": "execute_result"
    }
   ],
   "source": [
    "np.percentile([geom(p).rvs(100000).mean() for _ in range(500)], (5, 90))"
   ]
  },
  {
   "cell_type": "markdown",
   "id": "bb832516",
   "metadata": {},
   "source": [
    "#### This is the very best way to get a good estimate of the probability of the event.\n",
    "\n",
    "The problem is it can take a lot of time and resources.\n",
    "\n",
    "To get this estimate, we had to roll the die 36 million times."
   ]
  },
  {
   "cell_type": "code",
   "execution_count": 25,
   "id": "7f78e7ab",
   "metadata": {},
   "outputs": [
    {
     "data": {
      "text/plain": [
       "3658544"
      ]
     },
     "execution_count": 25,
     "metadata": {},
     "output_type": "execute_result"
    }
   ],
   "source": [
    "geom(p).rvs(100000).sum()"
   ]
  },
  {
   "cell_type": "code",
   "execution_count": 26,
   "id": "d8c85c0b",
   "metadata": {},
   "outputs": [
    {
     "data": {
      "text/plain": [
       "4393"
      ]
     },
     "execution_count": 26,
     "metadata": {},
     "output_type": "execute_result"
    }
   ],
   "source": [
    "geom(p).rvs(100000).max()"
   ]
  },
  {
   "cell_type": "markdown",
   "id": "e043ff49",
   "metadata": {},
   "source": [
    "## How can we get the same quality of estimate with many fewer rolls?\n",
    "\n",
    "## What if we are constrained in how many rolls we can attempt?\n",
    "\n",
    "### Suppose we have a 40-sided die, but we are limited to only rolling each die 30 times.\n",
    "\n",
    "#### This means a lot of our trials will end without ever rolling a one. How should we record these results?\n",
    "\n",
    "* Ignore them. If we never observed a result, we can't use that trial\n",
    "* Assume they would have produced a one on the next roll\n",
    "* Assume they would produce a r"
   ]
  },
  {
   "cell_type": "code",
   "execution_count": 34,
   "id": "c5b5b84b",
   "metadata": {},
   "outputs": [
    {
     "data": {
      "text/plain": [
       "array([nan, nan, nan, nan, 23., nan, 11., 21.,  8., nan, nan,  1.,  4.,\n",
       "       nan, 24., 29., 11., nan, 27., 17., 10., nan, nan, nan, 27., nan,\n",
       "       nan, nan, nan,  4.,  4., nan,  5., nan,  3.,  3., 16., nan, 27.,\n",
       "       13.,  8.,  2., nan, nan, 24., 10., nan,  2., nan, 16., nan, nan,\n",
       "       23., 18., 24., nan, nan,  2.,  3., 10.,  8.,  7., nan,  2., 28.,\n",
       "        5., nan, 19., nan, nan, nan, 17.,  8., 29., nan,  6., nan, 12.,\n",
       "       25., nan,  6.,  3., nan, nan, 26.,  1., 17., 19., nan, 22.,  8.,\n",
       "       nan, 26., 16.,  1., nan, nan,  7., 24.,  1.])"
      ]
     },
     "execution_count": 34,
     "metadata": {},
     "output_type": "execute_result"
    }
   ],
   "source": [
    "rolls = geom(1/40).rvs(100)\n",
    "observations = np.where(rolls<=30, rolls, np.nan)\n",
    "observations"
   ]
  },
  {
   "cell_type": "code",
   "execution_count": 37,
   "id": "a5d625e3",
   "metadata": {},
   "outputs": [
    {
     "data": {
      "text/plain": [
       "64.14992310468108"
      ]
     },
     "execution_count": 37,
     "metadata": {},
     "output_type": "execute_result"
    }
   ],
   "source": [
    "Q = np.isnan(observations).mean()\n",
    "30 + 1/(1-(Q)**(1/30))\n"
   ]
  },
  {
   "cell_type": "code",
   "execution_count": 31,
   "id": "49ac006f",
   "metadata": {},
   "outputs": [
    {
     "data": {
      "image/png": "[encoded data removed]",
      "text/plain": [
       "<Figure size 432x288 with 1 Axes>"
      ]
     },
     "metadata": {
      "needs_background": "light"
     },
     "output_type": "display_data"
    }
   ],
   "source": [
    "plt.hist(geom(p).rvs(10000), bins=100, density=True)\n",
    "plt.xlabel('Number of rolls until success')\n",
    "plt.ylabel('Trials');"
   ]
  },
  {
   "cell_type": "code",
   "execution_count": null,
   "id": "0f0f881f",
   "metadata": {},
   "outputs": [],
   "source": []
  }
 ],
 "metadata": {
  "kernelspec": {
   "display_name": "Python 3 (ipykernel)",
   "language": "python",
   "name": "python3"
  },
  "language_info": {
   "codemirror_mode": {
    "name": "ipython",
    "version": 3
   },
   "file_extension": ".py",
   "mimetype": "text/x-python",
   "name": "python",
   "nbconvert_exporter": "python",
   "pygments_lexer": "ipython3",
   "version": "3.9.7"
  }
 },
 "nbformat": 4,
 "nbformat_minor": 5
}
