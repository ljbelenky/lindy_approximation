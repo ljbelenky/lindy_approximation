{
 "cells": [
  {
   "cell_type": "markdown",
   "id": "4cb964c1",
   "metadata": {},
   "source": [
    "# How to Analyze an Experiment that Didn't Work\n",
    "\n",
    "## Motivation:\n",
    "\n",
    "We want to be able to answer questions such as:\n",
    "\n",
    "* How many times can I use this tool before it breaks?\n",
    "* When are people most likely to cash in a gift card they got for Christmas?\n",
    "* How many of our products will have a repair in the 2-year warranty window?\n",
    "\n",
    "* Which members are likely to have surgery within 6-18 months?\n",
    "\n",
    "| Member | Time to Surgery | Label |\n",
    "| --- | --- | --- |\n",
    "| Al | 5 months, 29 Days | False |\n",
    "| Betty | 6 months, 1 Day | True |\n",
    "| Charlie | 17 months 29 Days | True |\n",
    "|Debroah | 18 months 1 Day | False |\n",
    "\n",
    "* Al and Betty have very similar outcomes but are markeed as completely opposite.\n",
    "* Betty and Charlie differ by almost a year, but are considered to have identical outcomes\n",
    "* Charle and Deborah have very similar outcomes, but are marked as complete opposites\n",
    "* Al and Deborah are the most different of all, yet have the same label"
   ]
  },
  {
   "cell_type": "markdown",
   "id": "bd1170b4",
   "metadata": {},
   "source": [
    "## Approach:\n",
    "\n",
    "We are trying to predict when an event is going to happen. We start by assuming that it is a simple random event with a fixed probability of happening in any time interval or attempt.\n",
    "\n",
    "We can model this as a die with an unknown number of sides. \n",
    "![image of dice with many sides](dice.png)\n",
    "Our event happens when we roll a 1. If we roll anything else, the event does not happen.\n",
    "\n",
    "We want to know how many times we should expect to roll it before we get a one.\n",
    "\n",
    "This is a *Bernoulli* process with an unknown but constant probability *p* of success on each roll.\n",
    "\n",
    "The probability of success on each roll is $$p = \\frac{1}{\\text{number of sides}}$$"
   ]
  },
  {
   "cell_type": "markdown",
   "id": "d3555e1a",
   "metadata": {},
   "source": [
    "So if we have a 40-sided die, the probability of rolling a one each time we roll it is \n",
    "$$p = \\frac{1}{40} = 0.025$$\n",
    "\n",
    "The probability of *not* getting a one is $$q = 1-p$$\n",
    "\n",
    "Generally, we're going to need to roll it a bunch of times until we get a one.\n",
    "The probability of rolling it *n* times in a row without getting a one is:\n",
    "\n",
    "$$P(\\text{not getting a one in n attempts}) = q^n$$\n",
    "\n",
    "And the probability of getting a one on our $n^{th}$ attempt is:\n",
    "\n",
    "$$q^{n-1}\\cdot p$$\n",
    "or\n",
    "$$(1-p)^{n-1}\\cdot p$$\n",
    "\n",
    "This is the geometric distribution.\n",
    "\n",
    "The Expecetation value of the geometric distribution is $1/p$ or, the average number of attempts needed to roll a 1."
   ]
  },
  {
   "cell_type": "markdown",
   "id": "54a45886",
   "metadata": {},
   "source": [
    "So, if we want to know how many sides our die has (or how probable our event is) all we have to do is roll the die until we get a one. The number of rolls indicates the number of sides.\n",
    "\n",
    "Unfortunately, there's a pretty wide variation in how many rolls it is likely to take to roll a one."
   ]
  },
  {
   "cell_type": "code",
   "execution_count": 1,
   "id": "bea16570",
   "metadata": {},
   "outputs": [],
   "source": [
    "import pandas as pd\n",
    "import numpy as np\n",
    "import matplotlib.pyplot as plt\n",
    "from scipy.stats import bernoulli, geom"
   ]
  },
  {
   "cell_type": "markdown",
   "id": "5cd9dcfb",
   "metadata": {},
   "source": [
    "Here we have an event that happens on average once per year, or equivalently, a die with 365 sides.\n",
    "\n",
    "The 90th percentile confidence interval, (the range of \"normal\" outcomes) can vary widely:"
   ]
  },
  {
   "cell_type": "code",
   "execution_count": 2,
   "id": "91c0bf95",
   "metadata": {},
   "outputs": [
    {
     "data": {
      "text/plain": [
       "array([  19. , 1087.1])"
      ]
     },
     "execution_count": 2,
     "metadata": {},
     "output_type": "execute_result"
    }
   ],
   "source": [
    "np.percentile(geom(p:=1/365).rvs(10000), (5,95))"
   ]
  },
  {
   "cell_type": "markdown",
   "id": "ccd9487a",
   "metadata": {},
   "source": [
    "Rolling this die once isn't going to work.\n",
    "So, to improve our estimate of the number of sides, we repeat this experiment many times and take the average:"
   ]
  },
  {
   "cell_type": "code",
   "execution_count": 3,
   "id": "e4141958",
   "metadata": {},
   "outputs": [
    {
     "data": {
      "text/plain": [
       "[(10.0, 550.2),\n",
       " (100.0, 368.2),\n",
       " (1000.0, 371.868),\n",
       " (10000.0, 369.4735),\n",
       " (100000.0, 365.87118)]"
      ]
     },
     "execution_count": 3,
     "metadata": {},
     "output_type": "execute_result"
    }
   ],
   "source": [
    "[(i,geom(p).rvs(int(i)).mean()) for i in np.logspace(1,5,5)]"
   ]
  },
  {
   "cell_type": "code",
   "execution_count": 4,
   "id": "3b5cff4e",
   "metadata": {},
   "outputs": [
    {
     "data": {
      "text/plain": [
       "array([359.173665, 369.25092 ])"
      ]
     },
     "execution_count": 4,
     "metadata": {},
     "output_type": "execute_result"
    }
   ],
   "source": [
    "np.percentile([geom(p).rvs(10000).mean() for _ in range(500)], (5, 90))"
   ]
  },
  {
   "cell_type": "code",
   "execution_count": 5,
   "id": "4bd50161",
   "metadata": {},
   "outputs": [
    {
     "data": {
      "text/plain": [
       "array([362.8339325, 366.500324 ])"
      ]
     },
     "execution_count": 5,
     "metadata": {},
     "output_type": "execute_result"
    }
   ],
   "source": [
    "np.percentile([geom(p).rvs(100000).mean() for _ in range(500)], (5, 90))"
   ]
  },
  {
   "cell_type": "markdown",
   "id": "6f6346cc",
   "metadata": {},
   "source": [
    "#### This is the very best way to get a good estimate of the probability of the event.\n",
    "\n",
    "The problem is it can take a lot of time and resources.\n",
    "\n",
    "To get this estimate, we had to roll the die 36 million times."
   ]
  },
  {
   "cell_type": "code",
   "execution_count": 6,
   "id": "b15ecb3d",
   "metadata": {},
   "outputs": [
    {
     "data": {
      "text/plain": [
       "36502164"
      ]
     },
     "execution_count": 6,
     "metadata": {},
     "output_type": "execute_result"
    }
   ],
   "source": [
    "geom(p).rvs(100000).sum()"
   ]
  },
  {
   "cell_type": "code",
   "execution_count": 7,
   "id": "62f25da3",
   "metadata": {},
   "outputs": [
    {
     "data": {
      "text/plain": [
       "4699"
      ]
     },
     "execution_count": 7,
     "metadata": {},
     "output_type": "execute_result"
    }
   ],
   "source": [
    "geom(p).rvs(100000).max()"
   ]
  },
  {
   "cell_type": "markdown",
   "id": "28484c45",
   "metadata": {},
   "source": [
    "## How can we get the same quality of estimate with many fewer rolls?\n",
    "\n",
    "## What if we are constrained in how many rolls we can attempt?\n",
    "\n",
    "### Suppose we have a 40-sided die, but we are limited to only rolling each die 30 times.\n",
    "\n",
    "#### This means a lot of our trials will end without ever rolling a one. "
   ]
  },
  {
   "cell_type": "code",
   "execution_count": 8,
   "id": "04a42c8e",
   "metadata": {},
   "outputs": [
    {
     "data": {
      "text/plain": [
       "array([10., nan, 29.,  4., nan, nan, nan, 25., 27., 25.,  6.,  2., nan,\n",
       "        9., 18., nan, nan, 10., nan, nan,  6.,  7.,  5., nan, nan,  5.,\n",
       "       nan, 24., nan,  3., nan,  2., 14., nan, nan, 24., nan,  9., nan,\n",
       "        6., nan, nan, 17., nan,  5.,  7., 28., 11., 12., 10., 13.,  7.,\n",
       "       nan, nan, nan, 11., nan, 12., nan, 24., 10.,  5., 15., nan, 13.,\n",
       "       nan,  1.,  4., nan, 17., nan, nan, nan, 25., 11., nan, 15., 24.,\n",
       "        4., nan, nan, nan, nan, nan, nan, 24., nan, nan,  2., nan, nan,\n",
       "       11., 13., nan,  4.,  2., nan,  1., nan, 14., nan, nan,  8., 22.,\n",
       "       30., 17., nan, nan, nan, 12.,  6., 23., 20., 10., nan, nan, 18.,\n",
       "       18., nan, 11.,  5., 25.,  7.,  4., 13.,  1.,  2., 21., 16., 14.,\n",
       "        7., nan,  8., nan, nan, nan, nan, 13., 26., nan, 26., 21., nan,\n",
       "       nan, nan, nan, nan, nan, nan, nan, nan, nan, nan,  9., nan, nan,\n",
       "       nan, nan, 10., 12., nan, nan, 20.,  8.,  2., 28., nan, nan, nan,\n",
       "       nan, nan, nan, 21., nan,  2., 15., 22., nan, nan, 27., nan, nan,\n",
       "       27., 11., nan, nan, 13., nan, 10., nan, nan, 16., 27.,  2.,  3.,\n",
       "        4.,  2., 30., 19., nan, 19., nan,  2., nan,  4., nan, 15., 16.,\n",
       "       nan, nan,  2.,  3., nan, 10., 29., 23., nan,  9., nan, 25., 14.,\n",
       "       nan, nan, nan, 13., nan, nan,  3.,  6., 19., nan, 17., 21., nan,\n",
       "       nan, nan, nan, nan,  1., nan, nan, 12., nan, 13., nan, 25., 21.,\n",
       "       15., 16.,  4., nan,  3., nan, nan,  7., nan, nan, nan, 26., nan,\n",
       "       16.,  7., nan, 19., nan, nan, 12., 10., nan, nan, nan, nan,  3.,\n",
       "       nan,  7.,  1., nan, 14., nan, nan, nan,  4., 27., 11., 11., nan,\n",
       "       nan,  7., 27., nan,  5., 16., 12., 22., 22., nan, 25., 19., nan,\n",
       "       17., nan,  5., nan,  5., 19., 21., nan, nan, nan, nan, 19., nan,\n",
       "       19., 21., nan,  4., nan, 23.,  8., 16., 14., 23., nan, nan, nan,\n",
       "        6., nan,  1., 28., 19., nan, 18., nan, 16., 27., 25., 23.,  6.,\n",
       "       nan, nan, 22., 25., nan,  3., 12., nan, 13.,  6., 13.,  3., nan,\n",
       "       nan, nan,  1.,  6., nan, nan, 23.,  8., nan, 12., 11., nan, nan,\n",
       "       30., nan, nan, 12., 24., 24.,  3., 21.,  5., nan, 28., nan,  7.,\n",
       "       nan, nan, nan, 14., nan, nan, nan, nan,  2.,  6., nan, 22., nan,\n",
       "       15., 13., 13., 15.,  4., nan, 15.,  5., nan, 17., nan, 23., 10.,\n",
       "        8., nan, nan,  2.,  6., nan, nan, nan,  6., nan, 28., 12., nan,\n",
       "       nan, nan, nan, 12., nan, 12., nan,  6.,  5., nan, 17.,  8., 25.,\n",
       "       22., nan,  4., nan, nan,  1., 10., 14., 14., nan, nan, 16., 13.,\n",
       "       nan, nan, 14.,  9., nan, nan, nan, 10., nan,  1., nan, nan, nan,\n",
       "       nan, nan, nan, nan, nan,  1., nan, nan, nan, 18., nan, 27., nan,\n",
       "        9., nan, nan,  1., nan, nan, nan,  2., nan,  1., 30., nan,  8.,\n",
       "       23., nan, 24., nan, 20.,  1., nan, 16., nan, nan,  8.,  5., 22.,\n",
       "       nan,  1., nan, nan, 18., 26.,  3., 18.,  8., nan, nan,  9., nan,\n",
       "       nan, 26., nan, 18., 11., nan, nan, nan, 23., 21., 10.,  1., 30.,\n",
       "       nan,  8., nan, 16., nan, nan,  1.,  5., nan,  7., nan, 12., nan,\n",
       "       15., 16., nan, 19., nan, nan,  6., nan, nan, 12., 26., 20., nan,\n",
       "        2., nan,  3., nan, 20., 23., 23., nan,  8., nan, 27., nan, nan,\n",
       "       nan, nan, 11., 25., 20., nan,  4., 12., 17., nan, 17., nan, 20.,\n",
       "        5., nan,  8.,  6., 17., nan, 16., 30., 20., 17., 16., nan, nan,\n",
       "        9., nan, nan, nan,  4., nan, nan,  1., nan, 21.,  4., nan, nan,\n",
       "       17., 17.,  3.,  5., 12., nan, 20., nan, nan, nan, nan, 11.,  3.,\n",
       "       nan, nan, 15.,  4., 30.,  1., nan,  9., nan, 28., nan, 26.,  4.,\n",
       "       17., nan, 12., nan,  2., nan, nan, nan, 15., nan, 20., nan,  4.,\n",
       "        3., nan,  5., nan, 18., 11., nan, nan,  1.,  6., nan, 14., 13.,\n",
       "        4., 18., 26., nan, 29., nan, 10., nan,  8., nan, nan, 14., nan,\n",
       "       nan, nan, 12., nan, nan, nan, nan, 30., nan, nan, 19., 20., nan,\n",
       "       nan, 20., 17., nan, nan, nan, nan, nan,  9., nan, 13., nan, nan,\n",
       "       nan, 10., 19., 13., 14., 19.,  1., nan, nan, 17., nan, 15.,  6.,\n",
       "       nan, 30., 17., nan,  8., nan, nan, 13., nan, nan, nan, nan,  3.,\n",
       "       nan, nan,  1., nan, nan,  2.,  9.,  7.,  2., 14.,  1., nan, 16.,\n",
       "       nan, nan, nan, nan, 17., nan, 20., nan, nan, nan, nan, 20., nan,\n",
       "        6., nan, nan, 23., nan,  7., 10., nan, nan,  2., nan, nan, 20.,\n",
       "       nan, nan, nan, 15., nan, nan, 18., 13., nan, 13., 14., 10., 18.,\n",
       "        2.,  8., nan, 13., nan, nan, nan, nan,  4., 24., 29., 14., 21.,\n",
       "       15., nan, 20., 15., 21., nan, 20., 13.,  1., nan,  7.,  6., 12.,\n",
       "       19., nan, 11., nan, 27.,  6., nan,  8., nan, nan, nan, 12.,  2.,\n",
       "       21., nan,  6., 17.,  4., nan, nan, 15.,  6.,  6., nan,  8., nan,\n",
       "       22., nan, 20.,  9.,  4., 13.,  9., nan, nan, 20., 20., 21., 26.,\n",
       "       19., nan, nan,  7., 11., nan, nan, nan, nan,  6., nan, nan, nan,\n",
       "       nan,  6., 24., nan, 18., nan, nan, nan, nan,  5., nan, 19.,  5.,\n",
       "       nan,  6., 29., 15.,  3., nan, nan, nan, nan, nan, 18.,  2., 18.,\n",
       "       nan,  4., 17.,  6., 18., 11., nan, nan,  8., nan, 30., nan, nan,\n",
       "        8., nan, nan, nan, nan, 18., nan, nan, nan, 19., nan, nan,  7.,\n",
       "        7., nan, 25., nan,  5.,  4.,  1., 30., 14., 15., 29., 24., 12.,\n",
       "       19., nan, 25.,  2., nan, nan,  8., nan, 21., 15., nan, 15., nan,\n",
       "       nan, 15., 12.,  2., nan, 10., 26., nan, 23.,  2., nan, nan, 23.,\n",
       "       nan, nan, nan, nan, nan,  6., nan, 28., 29., nan, 12.,  3., nan,\n",
       "       nan, 22., 26., 22., nan, nan, nan, 21., nan,  4., nan, 15.,  8.,\n",
       "       nan, 11., nan, 12., 17.,  5., nan, nan, nan, nan, 25.,  5., nan,\n",
       "       29.,  6.,  4., 28.,  8., nan, 17.,  4., 14., 22.,  7., 27., 18.,\n",
       "       16., nan, 13., 29., 30., 19., 28.,  9., nan, 17., nan, nan])"
      ]
     },
     "execution_count": 8,
     "metadata": {},
     "output_type": "execute_result"
    }
   ],
   "source": [
    "n = 40\n",
    "k = 30\n",
    "rolls = geom(1/n).rvs(1000)\n",
    "observations = np.where(rolls<=k, rolls, np.nan)\n",
    "observations"
   ]
  },
  {
   "cell_type": "code",
   "execution_count": 9,
   "id": "01901bbe",
   "metadata": {},
   "outputs": [
    {
     "data": {
      "text/plain": [
       "21140.0"
      ]
     },
     "execution_count": 9,
     "metadata": {},
     "output_type": "execute_result"
    }
   ],
   "source": [
    "np.nansum(observations) + k*np.isnan(observations).sum()"
   ]
  },
  {
   "cell_type": "markdown",
   "id": "04575623",
   "metadata": {},
   "source": [
    "## How should we record these results?\n",
    "\n",
    "* Ignore them. If we never observed a result, we can't use that trial\n",
    "* Assume they would have produced a one on the next roll $t=k+1$\n",
    "* Assume they would produce a one at $t=\\infty$\n",
    "* Fill in missing values with the mean of observed values\n",
    "* Assume success at $t=2k$\n",
    "* Something else"
   ]
  },
  {
   "cell_type": "code",
   "execution_count": 10,
   "id": "547917ba",
   "metadata": {},
   "outputs": [
    {
     "data": {
      "image/png": "[encoded data removed]",
      "text/plain": [
       "<Figure size 432x288 with 1 Axes>"
      ]
     },
     "metadata": {
      "needs_background": "light"
     },
     "output_type": "display_data"
    }
   ],
   "source": [
    "y,x,_= plt.hist(rolls:=geom(1/40).rvs(10000), bins=100, density=True)\n",
    "plt.xlabel('Number of rolls until success')\n",
    "plt.ylabel('Trials');"
   ]
  },
  {
   "cell_type": "markdown",
   "id": "be7b5302",
   "metadata": {},
   "source": [
    "### What we want to do is replace all of the values on the right side of the line with a single value at the average of the orange region."
   ]
  },
  {
   "cell_type": "code",
   "execution_count": 11,
   "id": "8083187c",
   "metadata": {},
   "outputs": [
    {
     "data": {
      "image/png": "[encoded data removed]",
      "text/plain": [
       "<Figure size 432x288 with 1 Axes>"
      ]
     },
     "metadata": {
      "needs_background": "light"
     },
     "output_type": "display_data"
    }
   ],
   "source": [
    "x = x[:(len(y))]\n",
    "plt.bar(x[x<=k],y[x<=k], width=x[1]-x[0])\n",
    "plt.bar(x[x>k],y[x>k], width=x[1]-x[0])\n",
    "plt.axvline(k, color = 'red');"
   ]
  },
  {
   "cell_type": "code",
   "execution_count": 12,
   "id": "a3952e81",
   "metadata": {},
   "outputs": [
    {
     "data": {
      "image/png": "[encoded data removed]",
      "text/plain": [
       "<Figure size 432x288 with 1 Axes>"
      ]
     },
     "metadata": {
      "needs_background": "light"
     },
     "output_type": "display_data"
    }
   ],
   "source": [
    "plt.bar(x[x<=k],y[x<=k], width=x[1]-x[0])\n",
    "plt.axvline(k, color = 'red')\n",
    "plt.xlim((0,x.max()))\n",
    "plt.scatter(k + 1/(1-((rolls>=k).mean())**(1/k)), .005, s=200, marker = 'X', color='black');"
   ]
  },
  {
   "cell_type": "markdown",
   "id": "829c37e7",
   "metadata": {},
   "source": [
    "## Memorylessness:\n",
    "\n",
    "#### No matter how long you have been waiting, you can expect to keep waiting\n",
    "\n",
    "When you first start rolling a die, you can expect to get a one in $N$ rolls.\n",
    "\n",
    "If you have already rolled it 10 times, you can expect to get a one in $N$ *more* rolls.\n",
    "\n",
    "If you have already rolled it $k$ times, your can expect to roll a one at $t=k+N$\n",
    "\n",
    "Unfortunately, we don't know $N$. That's what we're trying to figure out.\n",
    "\n",
    "We can get an estimate of $N$ from the cumulative distribution function of the geometric distribution:\n",
    "\n",
    "$$\\text {cdf}(k) = 1-(1-p)^k$$\n",
    "\n",
    "\n",
    "Where $k$ is the threshold or timeout value.\n",
    "$cdf(k)$ is the number of trials that result in success at or before $k$ rolls.\n",
    "And, of course, $p=\\frac{1}{N}$.\n",
    "\n",
    "Rearrange:\n",
    "$$N = \\frac{1}{1-(1-\\text{cdf}(k))^{\\frac{1}{k}}}$$\n"
   ]
  },
  {
   "cell_type": "markdown",
   "id": "bae8320a",
   "metadata": {},
   "source": [
    "## Procedure:\n",
    "\n",
    "1. Roll the die until either you get a 1 or reach the timeout limit\n",
    "2. If you get a 1, record the actual number of rolls\n",
    "3. If you don't get a 1, record a temporary variable (Λ)\n",
    "4. When you are done with all the trials, calculate how many ended in success: (*cdf(k)*)\n",
    "5. Calculate $N$ from the equation above.\n",
    "6. Replace all Λ with $Λ = k + N$\n",
    "7. Take the average of all values, observed and imputed, $\\bar x$\n",
    "8. The probability is: $p = \\frac {1}{\\bar x}$"
   ]
  },
  {
   "cell_type": "code",
   "execution_count": 13,
   "id": "67424182",
   "metadata": {},
   "outputs": [
    {
     "data": {
      "text/plain": [
       "array([10., nan, 29.,  4., nan, nan, nan, 25., 27., 25.,  6.,  2., nan,\n",
       "        9., 18., nan, nan, 10., nan, nan,  6.,  7.,  5., nan, nan,  5.,\n",
       "       nan, 24., nan,  3., nan,  2., 14., nan, nan, 24., nan,  9., nan,\n",
       "        6., nan, nan, 17., nan,  5.,  7., 28., 11., 12., 10., 13.,  7.,\n",
       "       nan, nan, nan, 11., nan, 12., nan, 24., 10.,  5., 15., nan, 13.,\n",
       "       nan,  1.,  4., nan, 17., nan, nan, nan, 25., 11., nan, 15., 24.,\n",
       "        4., nan, nan, nan, nan, nan, nan, 24., nan, nan,  2., nan, nan,\n",
       "       11., 13., nan,  4.,  2., nan,  1., nan, 14., nan, nan,  8., 22.,\n",
       "       30., 17., nan, nan, nan, 12.,  6., 23., 20., 10., nan, nan, 18.,\n",
       "       18., nan, 11.,  5., 25.,  7.,  4., 13.,  1.,  2., 21., 16., 14.,\n",
       "        7., nan,  8., nan, nan, nan, nan, 13., 26., nan, 26., 21., nan,\n",
       "       nan, nan, nan, nan, nan, nan, nan, nan, nan, nan,  9., nan, nan,\n",
       "       nan, nan, 10., 12., nan, nan, 20.,  8.,  2., 28., nan, nan, nan,\n",
       "       nan, nan, nan, 21., nan,  2., 15., 22., nan, nan, 27., nan, nan,\n",
       "       27., 11., nan, nan, 13., nan, 10., nan, nan, 16., 27.,  2.,  3.,\n",
       "        4.,  2., 30., 19., nan, 19., nan,  2., nan,  4., nan, 15., 16.,\n",
       "       nan, nan,  2.,  3., nan, 10., 29., 23., nan,  9., nan, 25., 14.,\n",
       "       nan, nan, nan, 13., nan, nan,  3.,  6., 19., nan, 17., 21., nan,\n",
       "       nan, nan, nan, nan,  1., nan, nan, 12., nan, 13., nan, 25., 21.,\n",
       "       15., 16.,  4., nan,  3., nan, nan,  7., nan, nan, nan, 26., nan,\n",
       "       16.,  7., nan, 19., nan, nan, 12., 10., nan, nan, nan, nan,  3.,\n",
       "       nan,  7.,  1., nan, 14., nan, nan, nan,  4., 27., 11., 11., nan,\n",
       "       nan,  7., 27., nan,  5., 16., 12., 22., 22., nan, 25., 19., nan,\n",
       "       17., nan,  5., nan,  5., 19., 21., nan, nan, nan, nan, 19., nan,\n",
       "       19., 21., nan,  4., nan, 23.,  8., 16., 14., 23., nan, nan, nan,\n",
       "        6., nan,  1., 28., 19., nan, 18., nan, 16., 27., 25., 23.,  6.,\n",
       "       nan, nan, 22., 25., nan,  3., 12., nan, 13.,  6., 13.,  3., nan,\n",
       "       nan, nan,  1.,  6., nan, nan, 23.,  8., nan, 12., 11., nan, nan,\n",
       "       30., nan, nan, 12., 24., 24.,  3., 21.,  5., nan, 28., nan,  7.,\n",
       "       nan, nan, nan, 14., nan, nan, nan, nan,  2.,  6., nan, 22., nan,\n",
       "       15., 13., 13., 15.,  4., nan, 15.,  5., nan, 17., nan, 23., 10.,\n",
       "        8., nan, nan,  2.,  6., nan, nan, nan,  6., nan, 28., 12., nan,\n",
       "       nan, nan, nan, 12., nan, 12., nan,  6.,  5., nan, 17.,  8., 25.,\n",
       "       22., nan,  4., nan, nan,  1., 10., 14., 14., nan, nan, 16., 13.,\n",
       "       nan, nan, 14.,  9., nan, nan, nan, 10., nan,  1., nan, nan, nan,\n",
       "       nan, nan, nan, nan, nan,  1., nan, nan, nan, 18., nan, 27., nan,\n",
       "        9., nan, nan,  1., nan, nan, nan,  2., nan,  1., 30., nan,  8.,\n",
       "       23., nan, 24., nan, 20.,  1., nan, 16., nan, nan,  8.,  5., 22.,\n",
       "       nan,  1., nan, nan, 18., 26.,  3., 18.,  8., nan, nan,  9., nan,\n",
       "       nan, 26., nan, 18., 11., nan, nan, nan, 23., 21., 10.,  1., 30.,\n",
       "       nan,  8., nan, 16., nan, nan,  1.,  5., nan,  7., nan, 12., nan,\n",
       "       15., 16., nan, 19., nan, nan,  6., nan, nan, 12., 26., 20., nan,\n",
       "        2., nan,  3., nan, 20., 23., 23., nan,  8., nan, 27., nan, nan,\n",
       "       nan, nan, 11., 25., 20., nan,  4., 12., 17., nan, 17., nan, 20.,\n",
       "        5., nan,  8.,  6., 17., nan, 16., 30., 20., 17., 16., nan, nan,\n",
       "        9., nan, nan, nan,  4., nan, nan,  1., nan, 21.,  4., nan, nan,\n",
       "       17., 17.,  3.,  5., 12., nan, 20., nan, nan, nan, nan, 11.,  3.,\n",
       "       nan, nan, 15.,  4., 30.,  1., nan,  9., nan, 28., nan, 26.,  4.,\n",
       "       17., nan, 12., nan,  2., nan, nan, nan, 15., nan, 20., nan,  4.,\n",
       "        3., nan,  5., nan, 18., 11., nan, nan,  1.,  6., nan, 14., 13.,\n",
       "        4., 18., 26., nan, 29., nan, 10., nan,  8., nan, nan, 14., nan,\n",
       "       nan, nan, 12., nan, nan, nan, nan, 30., nan, nan, 19., 20., nan,\n",
       "       nan, 20., 17., nan, nan, nan, nan, nan,  9., nan, 13., nan, nan,\n",
       "       nan, 10., 19., 13., 14., 19.,  1., nan, nan, 17., nan, 15.,  6.,\n",
       "       nan, 30., 17., nan,  8., nan, nan, 13., nan, nan, nan, nan,  3.,\n",
       "       nan, nan,  1., nan, nan,  2.,  9.,  7.,  2., 14.,  1., nan, 16.,\n",
       "       nan, nan, nan, nan, 17., nan, 20., nan, nan, nan, nan, 20., nan,\n",
       "        6., nan, nan, 23., nan,  7., 10., nan, nan,  2., nan, nan, 20.,\n",
       "       nan, nan, nan, 15., nan, nan, 18., 13., nan, 13., 14., 10., 18.,\n",
       "        2.,  8., nan, 13., nan, nan, nan, nan,  4., 24., 29., 14., 21.,\n",
       "       15., nan, 20., 15., 21., nan, 20., 13.,  1., nan,  7.,  6., 12.,\n",
       "       19., nan, 11., nan, 27.,  6., nan,  8., nan, nan, nan, 12.,  2.,\n",
       "       21., nan,  6., 17.,  4., nan, nan, 15.,  6.,  6., nan,  8., nan,\n",
       "       22., nan, 20.,  9.,  4., 13.,  9., nan, nan, 20., 20., 21., 26.,\n",
       "       19., nan, nan,  7., 11., nan, nan, nan, nan,  6., nan, nan, nan,\n",
       "       nan,  6., 24., nan, 18., nan, nan, nan, nan,  5., nan, 19.,  5.,\n",
       "       nan,  6., 29., 15.,  3., nan, nan, nan, nan, nan, 18.,  2., 18.,\n",
       "       nan,  4., 17.,  6., 18., 11., nan, nan,  8., nan, 30., nan, nan,\n",
       "        8., nan, nan, nan, nan, 18., nan, nan, nan, 19., nan, nan,  7.,\n",
       "        7., nan, 25., nan,  5.,  4.,  1., 30., 14., 15., 29., 24., 12.,\n",
       "       19., nan, 25.,  2., nan, nan,  8., nan, 21., 15., nan, 15., nan,\n",
       "       nan, 15., 12.,  2., nan, 10., 26., nan, 23.,  2., nan, nan, 23.,\n",
       "       nan, nan, nan, nan, nan,  6., nan, 28., 29., nan, 12.,  3., nan,\n",
       "       nan, 22., 26., 22., nan, nan, nan, 21., nan,  4., nan, 15.,  8.,\n",
       "       nan, 11., nan, 12., 17.,  5., nan, nan, nan, nan, 25.,  5., nan,\n",
       "       29.,  6.,  4., 28.,  8., nan, 17.,  4., 14., 22.,  7., 27., 18.,\n",
       "       16., nan, 13., 29., 30., 19., 28.,  9., nan, 17., nan, nan])"
      ]
     },
     "execution_count": 13,
     "metadata": {},
     "output_type": "execute_result"
    }
   ],
   "source": [
    "observations"
   ]
  },
  {
   "cell_type": "code",
   "execution_count": 14,
   "id": "01185eb6",
   "metadata": {},
   "outputs": [
    {
     "data": {
      "text/plain": [
       "0.536"
      ]
     },
     "execution_count": 14,
     "metadata": {},
     "output_type": "execute_result"
    }
   ],
   "source": [
    "cdf = 1- np.isnan(observations).mean()\n",
    "cdf"
   ]
  },
  {
   "cell_type": "code",
   "execution_count": 15,
   "id": "6f497b39",
   "metadata": {},
   "outputs": [
    {
     "data": {
      "text/plain": [
       "39.571209235112825"
      ]
     },
     "execution_count": 15,
     "metadata": {},
     "output_type": "execute_result"
    }
   ],
   "source": [
    "N = 1/(1-(1-cdf)**(1/k))\n",
    "N"
   ]
  },
  {
   "cell_type": "code",
   "execution_count": 16,
   "id": "d0bf511e",
   "metadata": {},
   "outputs": [
    {
     "data": {
      "text/plain": [
       "69.57120923511283"
      ]
     },
     "execution_count": 16,
     "metadata": {},
     "output_type": "execute_result"
    }
   ],
   "source": [
    "Λ = k + N\n",
    "Λ"
   ]
  },
  {
   "cell_type": "code",
   "execution_count": 17,
   "id": "fccf9ff7",
   "metadata": {},
   "outputs": [
    {
     "data": {
      "text/plain": [
       "array([10.        , 69.57120924, 29.        ,  4.        , 69.57120924,\n",
       "       69.57120924, 69.57120924, 25.        , 27.        , 25.        ,\n",
       "        6.        ,  2.        , 69.57120924,  9.        , 18.        ,\n",
       "       69.57120924, 69.57120924, 10.        , 69.57120924, 69.57120924,\n",
       "        6.        ,  7.        ,  5.        , 69.57120924, 69.57120924,\n",
       "        5.        , 69.57120924, 24.        , 69.57120924,  3.        ,\n",
       "       69.57120924,  2.        , 14.        , 69.57120924, 69.57120924,\n",
       "       24.        , 69.57120924,  9.        , 69.57120924,  6.        ,\n",
       "       69.57120924, 69.57120924, 17.        , 69.57120924,  5.        ,\n",
       "        7.        , 28.        , 11.        , 12.        , 10.        ,\n",
       "       13.        ,  7.        , 69.57120924, 69.57120924, 69.57120924,\n",
       "       11.        , 69.57120924, 12.        , 69.57120924, 24.        ,\n",
       "       10.        ,  5.        , 15.        , 69.57120924, 13.        ,\n",
       "       69.57120924,  1.        ,  4.        , 69.57120924, 17.        ,\n",
       "       69.57120924, 69.57120924, 69.57120924, 25.        , 11.        ,\n",
       "       69.57120924, 15.        , 24.        ,  4.        , 69.57120924,\n",
       "       69.57120924, 69.57120924, 69.57120924, 69.57120924, 69.57120924,\n",
       "       24.        , 69.57120924, 69.57120924,  2.        , 69.57120924,\n",
       "       69.57120924, 11.        , 13.        , 69.57120924,  4.        ,\n",
       "        2.        , 69.57120924,  1.        , 69.57120924, 14.        ,\n",
       "       69.57120924, 69.57120924,  8.        , 22.        , 30.        ,\n",
       "       17.        , 69.57120924, 69.57120924, 69.57120924, 12.        ,\n",
       "        6.        , 23.        , 20.        , 10.        , 69.57120924,\n",
       "       69.57120924, 18.        , 18.        , 69.57120924, 11.        ,\n",
       "        5.        , 25.        ,  7.        ,  4.        , 13.        ,\n",
       "        1.        ,  2.        , 21.        , 16.        , 14.        ,\n",
       "        7.        , 69.57120924,  8.        , 69.57120924, 69.57120924,\n",
       "       69.57120924, 69.57120924, 13.        , 26.        , 69.57120924,\n",
       "       26.        , 21.        , 69.57120924, 69.57120924, 69.57120924,\n",
       "       69.57120924, 69.57120924, 69.57120924, 69.57120924, 69.57120924,\n",
       "       69.57120924, 69.57120924, 69.57120924,  9.        , 69.57120924,\n",
       "       69.57120924, 69.57120924, 69.57120924, 10.        , 12.        ,\n",
       "       69.57120924, 69.57120924, 20.        ,  8.        ,  2.        ,\n",
       "       28.        , 69.57120924, 69.57120924, 69.57120924, 69.57120924,\n",
       "       69.57120924, 69.57120924, 21.        , 69.57120924,  2.        ,\n",
       "       15.        , 22.        , 69.57120924, 69.57120924, 27.        ,\n",
       "       69.57120924, 69.57120924, 27.        , 11.        , 69.57120924,\n",
       "       69.57120924, 13.        , 69.57120924, 10.        , 69.57120924,\n",
       "       69.57120924, 16.        , 27.        ,  2.        ,  3.        ,\n",
       "        4.        ,  2.        , 30.        , 19.        , 69.57120924,\n",
       "       19.        , 69.57120924,  2.        , 69.57120924,  4.        ,\n",
       "       69.57120924, 15.        , 16.        , 69.57120924, 69.57120924,\n",
       "        2.        ,  3.        , 69.57120924, 10.        , 29.        ,\n",
       "       23.        , 69.57120924,  9.        , 69.57120924, 25.        ,\n",
       "       14.        , 69.57120924, 69.57120924, 69.57120924, 13.        ,\n",
       "       69.57120924, 69.57120924,  3.        ,  6.        , 19.        ,\n",
       "       69.57120924, 17.        , 21.        , 69.57120924, 69.57120924,\n",
       "       69.57120924, 69.57120924, 69.57120924,  1.        , 69.57120924,\n",
       "       69.57120924, 12.        , 69.57120924, 13.        , 69.57120924,\n",
       "       25.        , 21.        , 15.        , 16.        ,  4.        ,\n",
       "       69.57120924,  3.        , 69.57120924, 69.57120924,  7.        ,\n",
       "       69.57120924, 69.57120924, 69.57120924, 26.        , 69.57120924,\n",
       "       16.        ,  7.        , 69.57120924, 19.        , 69.57120924,\n",
       "       69.57120924, 12.        , 10.        , 69.57120924, 69.57120924,\n",
       "       69.57120924, 69.57120924,  3.        , 69.57120924,  7.        ,\n",
       "        1.        , 69.57120924, 14.        , 69.57120924, 69.57120924,\n",
       "       69.57120924,  4.        , 27.        , 11.        , 11.        ,\n",
       "       69.57120924, 69.57120924,  7.        , 27.        , 69.57120924,\n",
       "        5.        , 16.        , 12.        , 22.        , 22.        ,\n",
       "       69.57120924, 25.        , 19.        , 69.57120924, 17.        ,\n",
       "       69.57120924,  5.        , 69.57120924,  5.        , 19.        ,\n",
       "       21.        , 69.57120924, 69.57120924, 69.57120924, 69.57120924,\n",
       "       19.        , 69.57120924, 19.        , 21.        , 69.57120924,\n",
       "        4.        , 69.57120924, 23.        ,  8.        , 16.        ,\n",
       "       14.        , 23.        , 69.57120924, 69.57120924, 69.57120924,\n",
       "        6.        , 69.57120924,  1.        , 28.        , 19.        ,\n",
       "       69.57120924, 18.        , 69.57120924, 16.        , 27.        ,\n",
       "       25.        , 23.        ,  6.        , 69.57120924, 69.57120924,\n",
       "       22.        , 25.        , 69.57120924,  3.        , 12.        ,\n",
       "       69.57120924, 13.        ,  6.        , 13.        ,  3.        ,\n",
       "       69.57120924, 69.57120924, 69.57120924,  1.        ,  6.        ,\n",
       "       69.57120924, 69.57120924, 23.        ,  8.        , 69.57120924,\n",
       "       12.        , 11.        , 69.57120924, 69.57120924, 30.        ,\n",
       "       69.57120924, 69.57120924, 12.        , 24.        , 24.        ,\n",
       "        3.        , 21.        ,  5.        , 69.57120924, 28.        ,\n",
       "       69.57120924,  7.        , 69.57120924, 69.57120924, 69.57120924,\n",
       "       14.        , 69.57120924, 69.57120924, 69.57120924, 69.57120924,\n",
       "        2.        ,  6.        , 69.57120924, 22.        , 69.57120924,\n",
       "       15.        , 13.        , 13.        , 15.        ,  4.        ,\n",
       "       69.57120924, 15.        ,  5.        , 69.57120924, 17.        ,\n",
       "       69.57120924, 23.        , 10.        ,  8.        , 69.57120924,\n",
       "       69.57120924,  2.        ,  6.        , 69.57120924, 69.57120924,\n",
       "       69.57120924,  6.        , 69.57120924, 28.        , 12.        ,\n",
       "       69.57120924, 69.57120924, 69.57120924, 69.57120924, 12.        ,\n",
       "       69.57120924, 12.        , 69.57120924,  6.        ,  5.        ,\n",
       "       69.57120924, 17.        ,  8.        , 25.        , 22.        ,\n",
       "       69.57120924,  4.        , 69.57120924, 69.57120924,  1.        ,\n",
       "       10.        , 14.        , 14.        , 69.57120924, 69.57120924,\n",
       "       16.        , 13.        , 69.57120924, 69.57120924, 14.        ,\n",
       "        9.        , 69.57120924, 69.57120924, 69.57120924, 10.        ,\n",
       "       69.57120924,  1.        , 69.57120924, 69.57120924, 69.57120924,\n",
       "       69.57120924, 69.57120924, 69.57120924, 69.57120924, 69.57120924,\n",
       "        1.        , 69.57120924, 69.57120924, 69.57120924, 18.        ,\n",
       "       69.57120924, 27.        , 69.57120924,  9.        , 69.57120924,\n",
       "       69.57120924,  1.        , 69.57120924, 69.57120924, 69.57120924,\n",
       "        2.        , 69.57120924,  1.        , 30.        , 69.57120924,\n",
       "        8.        , 23.        , 69.57120924, 24.        , 69.57120924,\n",
       "       20.        ,  1.        , 69.57120924, 16.        , 69.57120924,\n",
       "       69.57120924,  8.        ,  5.        , 22.        , 69.57120924,\n",
       "        1.        , 69.57120924, 69.57120924, 18.        , 26.        ,\n",
       "        3.        , 18.        ,  8.        , 69.57120924, 69.57120924,\n",
       "        9.        , 69.57120924, 69.57120924, 26.        , 69.57120924,\n",
       "       18.        , 11.        , 69.57120924, 69.57120924, 69.57120924,\n",
       "       23.        , 21.        , 10.        ,  1.        , 30.        ,\n",
       "       69.57120924,  8.        , 69.57120924, 16.        , 69.57120924,\n",
       "       69.57120924,  1.        ,  5.        , 69.57120924,  7.        ,\n",
       "       69.57120924, 12.        , 69.57120924, 15.        , 16.        ,\n",
       "       69.57120924, 19.        , 69.57120924, 69.57120924,  6.        ,\n",
       "       69.57120924, 69.57120924, 12.        , 26.        , 20.        ,\n",
       "       69.57120924,  2.        , 69.57120924,  3.        , 69.57120924,\n",
       "       20.        , 23.        , 23.        , 69.57120924,  8.        ,\n",
       "       69.57120924, 27.        , 69.57120924, 69.57120924, 69.57120924,\n",
       "       69.57120924, 11.        , 25.        , 20.        , 69.57120924,\n",
       "        4.        , 12.        , 17.        , 69.57120924, 17.        ,\n",
       "       69.57120924, 20.        ,  5.        , 69.57120924,  8.        ,\n",
       "        6.        , 17.        , 69.57120924, 16.        , 30.        ,\n",
       "       20.        , 17.        , 16.        , 69.57120924, 69.57120924,\n",
       "        9.        , 69.57120924, 69.57120924, 69.57120924,  4.        ,\n",
       "       69.57120924, 69.57120924,  1.        , 69.57120924, 21.        ,\n",
       "        4.        , 69.57120924, 69.57120924, 17.        , 17.        ,\n",
       "        3.        ,  5.        , 12.        , 69.57120924, 20.        ,\n",
       "       69.57120924, 69.57120924, 69.57120924, 69.57120924, 11.        ,\n",
       "        3.        , 69.57120924, 69.57120924, 15.        ,  4.        ,\n",
       "       30.        ,  1.        , 69.57120924,  9.        , 69.57120924,\n",
       "       28.        , 69.57120924, 26.        ,  4.        , 17.        ,\n",
       "       69.57120924, 12.        , 69.57120924,  2.        , 69.57120924,\n",
       "       69.57120924, 69.57120924, 15.        , 69.57120924, 20.        ,\n",
       "       69.57120924,  4.        ,  3.        , 69.57120924,  5.        ,\n",
       "       69.57120924, 18.        , 11.        , 69.57120924, 69.57120924,\n",
       "        1.        ,  6.        , 69.57120924, 14.        , 13.        ,\n",
       "        4.        , 18.        , 26.        , 69.57120924, 29.        ,\n",
       "       69.57120924, 10.        , 69.57120924,  8.        , 69.57120924,\n",
       "       69.57120924, 14.        , 69.57120924, 69.57120924, 69.57120924,\n",
       "       12.        , 69.57120924, 69.57120924, 69.57120924, 69.57120924,\n",
       "       30.        , 69.57120924, 69.57120924, 19.        , 20.        ,\n",
       "       69.57120924, 69.57120924, 20.        , 17.        , 69.57120924,\n",
       "       69.57120924, 69.57120924, 69.57120924, 69.57120924,  9.        ,\n",
       "       69.57120924, 13.        , 69.57120924, 69.57120924, 69.57120924,\n",
       "       10.        , 19.        , 13.        , 14.        , 19.        ,\n",
       "        1.        , 69.57120924, 69.57120924, 17.        , 69.57120924,\n",
       "       15.        ,  6.        , 69.57120924, 30.        , 17.        ,\n",
       "       69.57120924,  8.        , 69.57120924, 69.57120924, 13.        ,\n",
       "       69.57120924, 69.57120924, 69.57120924, 69.57120924,  3.        ,\n",
       "       69.57120924, 69.57120924,  1.        , 69.57120924, 69.57120924,\n",
       "        2.        ,  9.        ,  7.        ,  2.        , 14.        ,\n",
       "        1.        , 69.57120924, 16.        , 69.57120924, 69.57120924,\n",
       "       69.57120924, 69.57120924, 17.        , 69.57120924, 20.        ,\n",
       "       69.57120924, 69.57120924, 69.57120924, 69.57120924, 20.        ,\n",
       "       69.57120924,  6.        , 69.57120924, 69.57120924, 23.        ,\n",
       "       69.57120924,  7.        , 10.        , 69.57120924, 69.57120924,\n",
       "        2.        , 69.57120924, 69.57120924, 20.        , 69.57120924,\n",
       "       69.57120924, 69.57120924, 15.        , 69.57120924, 69.57120924,\n",
       "       18.        , 13.        , 69.57120924, 13.        , 14.        ,\n",
       "       10.        , 18.        ,  2.        ,  8.        , 69.57120924,\n",
       "       13.        , 69.57120924, 69.57120924, 69.57120924, 69.57120924,\n",
       "        4.        , 24.        , 29.        , 14.        , 21.        ,\n",
       "       15.        , 69.57120924, 20.        , 15.        , 21.        ,\n",
       "       69.57120924, 20.        , 13.        ,  1.        , 69.57120924,\n",
       "        7.        ,  6.        , 12.        , 19.        , 69.57120924,\n",
       "       11.        , 69.57120924, 27.        ,  6.        , 69.57120924,\n",
       "        8.        , 69.57120924, 69.57120924, 69.57120924, 12.        ,\n",
       "        2.        , 21.        , 69.57120924,  6.        , 17.        ,\n",
       "        4.        , 69.57120924, 69.57120924, 15.        ,  6.        ,\n",
       "        6.        , 69.57120924,  8.        , 69.57120924, 22.        ,\n",
       "       69.57120924, 20.        ,  9.        ,  4.        , 13.        ,\n",
       "        9.        , 69.57120924, 69.57120924, 20.        , 20.        ,\n",
       "       21.        , 26.        , 19.        , 69.57120924, 69.57120924,\n",
       "        7.        , 11.        , 69.57120924, 69.57120924, 69.57120924,\n",
       "       69.57120924,  6.        , 69.57120924, 69.57120924, 69.57120924,\n",
       "       69.57120924,  6.        , 24.        , 69.57120924, 18.        ,\n",
       "       69.57120924, 69.57120924, 69.57120924, 69.57120924,  5.        ,\n",
       "       69.57120924, 19.        ,  5.        , 69.57120924,  6.        ,\n",
       "       29.        , 15.        ,  3.        , 69.57120924, 69.57120924,\n",
       "       69.57120924, 69.57120924, 69.57120924, 18.        ,  2.        ,\n",
       "       18.        , 69.57120924,  4.        , 17.        ,  6.        ,\n",
       "       18.        , 11.        , 69.57120924, 69.57120924,  8.        ,\n",
       "       69.57120924, 30.        , 69.57120924, 69.57120924,  8.        ,\n",
       "       69.57120924, 69.57120924, 69.57120924, 69.57120924, 18.        ,\n",
       "       69.57120924, 69.57120924, 69.57120924, 19.        , 69.57120924,\n",
       "       69.57120924,  7.        ,  7.        , 69.57120924, 25.        ,\n",
       "       69.57120924,  5.        ,  4.        ,  1.        , 30.        ,\n",
       "       14.        , 15.        , 29.        , 24.        , 12.        ,\n",
       "       19.        , 69.57120924, 25.        ,  2.        , 69.57120924,\n",
       "       69.57120924,  8.        , 69.57120924, 21.        , 15.        ,\n",
       "       69.57120924, 15.        , 69.57120924, 69.57120924, 15.        ,\n",
       "       12.        ,  2.        , 69.57120924, 10.        , 26.        ,\n",
       "       69.57120924, 23.        ,  2.        , 69.57120924, 69.57120924,\n",
       "       23.        , 69.57120924, 69.57120924, 69.57120924, 69.57120924,\n",
       "       69.57120924,  6.        , 69.57120924, 28.        , 29.        ,\n",
       "       69.57120924, 12.        ,  3.        , 69.57120924, 69.57120924,\n",
       "       22.        , 26.        , 22.        , 69.57120924, 69.57120924,\n",
       "       69.57120924, 21.        , 69.57120924,  4.        , 69.57120924,\n",
       "       15.        ,  8.        , 69.57120924, 11.        , 69.57120924,\n",
       "       12.        , 17.        ,  5.        , 69.57120924, 69.57120924,\n",
       "       69.57120924, 69.57120924, 25.        ,  5.        , 69.57120924,\n",
       "       29.        ,  6.        ,  4.        , 28.        ,  8.        ,\n",
       "       69.57120924, 17.        ,  4.        , 14.        , 22.        ,\n",
       "        7.        , 27.        , 18.        , 16.        , 69.57120924,\n",
       "       13.        , 29.        , 30.        , 19.        , 28.        ,\n",
       "        9.        , 69.57120924, 17.        , 69.57120924, 69.57120924])"
      ]
     },
     "execution_count": 17,
     "metadata": {},
     "output_type": "execute_result"
    }
   ],
   "source": [
    "x = np.where(np.isnan(observations), Λ, observations)\n",
    "x"
   ]
  },
  {
   "cell_type": "code",
   "execution_count": 18,
   "id": "e0f69abb",
   "metadata": {},
   "outputs": [
    {
     "data": {
      "text/plain": [
       "(39.50104108509237, 40)"
      ]
     },
     "execution_count": 18,
     "metadata": {},
     "output_type": "execute_result"
    }
   ],
   "source": [
    "x.mean(), n"
   ]
  },
  {
   "cell_type": "markdown",
   "id": "2acdadd8",
   "metadata": {},
   "source": [
    "# Part 2\n",
    "\n",
    "What if the timeout value ($k$) is not the same for each observation?"
   ]
  },
  {
   "cell_type": "code",
   "execution_count": 19,
   "id": "20fa1c8c",
   "metadata": {},
   "outputs": [
    {
     "data": {
      "text/html": [
       "<div>\n",
       "<style scoped>\n",
       "    .dataframe tbody tr th:only-of-type {\n",
       "        vertical-align: middle;\n",
       "    }\n",
       "\n",
       "    .dataframe tbody tr th {\n",
       "        vertical-align: top;\n",
       "    }\n",
       "\n",
       "    .dataframe thead th {\n",
       "        text-align: right;\n",
       "    }\n",
       "</style>\n",
       "<table border=\"1\" class=\"dataframe\">\n",
       "  <thead>\n",
       "    <tr style=\"text-align: right;\">\n",
       "      <th></th>\n",
       "      <th>observation</th>\n",
       "      <th>timeout</th>\n",
       "      <th>success</th>\n",
       "    </tr>\n",
       "  </thead>\n",
       "  <tbody>\n",
       "    <tr>\n",
       "      <th>0</th>\n",
       "      <td>7.0</td>\n",
       "      <td>7</td>\n",
       "      <td>True</td>\n",
       "    </tr>\n",
       "    <tr>\n",
       "      <th>1</th>\n",
       "      <td>2.0</td>\n",
       "      <td>2</td>\n",
       "      <td>True</td>\n",
       "    </tr>\n",
       "    <tr>\n",
       "      <th>2</th>\n",
       "      <td>22.0</td>\n",
       "      <td>22</td>\n",
       "      <td>True</td>\n",
       "    </tr>\n",
       "    <tr>\n",
       "      <th>3</th>\n",
       "      <td>NaN</td>\n",
       "      <td>58</td>\n",
       "      <td>False</td>\n",
       "    </tr>\n",
       "    <tr>\n",
       "      <th>4</th>\n",
       "      <td>16.0</td>\n",
       "      <td>16</td>\n",
       "      <td>True</td>\n",
       "    </tr>\n",
       "    <tr>\n",
       "      <th>...</th>\n",
       "      <td>...</td>\n",
       "      <td>...</td>\n",
       "      <td>...</td>\n",
       "    </tr>\n",
       "    <tr>\n",
       "      <th>995</th>\n",
       "      <td>40.0</td>\n",
       "      <td>40</td>\n",
       "      <td>True</td>\n",
       "    </tr>\n",
       "    <tr>\n",
       "      <th>996</th>\n",
       "      <td>15.0</td>\n",
       "      <td>15</td>\n",
       "      <td>True</td>\n",
       "    </tr>\n",
       "    <tr>\n",
       "      <th>997</th>\n",
       "      <td>NaN</td>\n",
       "      <td>29</td>\n",
       "      <td>False</td>\n",
       "    </tr>\n",
       "    <tr>\n",
       "      <th>998</th>\n",
       "      <td>NaN</td>\n",
       "      <td>20</td>\n",
       "      <td>False</td>\n",
       "    </tr>\n",
       "    <tr>\n",
       "      <th>999</th>\n",
       "      <td>13.0</td>\n",
       "      <td>13</td>\n",
       "      <td>True</td>\n",
       "    </tr>\n",
       "  </tbody>\n",
       "</table>\n",
       "<p>1000 rows × 3 columns</p>\n",
       "</div>"
      ],
      "text/plain": [
       "     observation  timeout  success\n",
       "0            7.0        7     True\n",
       "1            2.0        2     True\n",
       "2           22.0       22     True\n",
       "3            NaN       58    False\n",
       "4           16.0       16     True\n",
       "..           ...      ...      ...\n",
       "995         40.0       40     True\n",
       "996         15.0       15     True\n",
       "997          NaN       29    False\n",
       "998          NaN       20    False\n",
       "999         13.0       13     True\n",
       "\n",
       "[1000 rows x 3 columns]"
      ]
     },
     "execution_count": 19,
     "metadata": {},
     "output_type": "execute_result"
    }
   ],
   "source": [
    "n_samples = 1000\n",
    "df = pd.DataFrame()\n",
    "ks = np.random.randint(15, 60, n_samples)\n",
    "ds = geom(1/n).rvs(n_samples)\n",
    "df['observation'] = np.where(ds<=ks, ds, np.nan)\n",
    "df['timeout'] = np.where(ds<ks, ds, ks)\n",
    "df['success'] = ~df['observation'].isna()\n",
    "df"
   ]
  },
  {
   "cell_type": "code",
   "execution_count": 35,
   "id": "695e9979",
   "metadata": {},
   "outputs": [
    {
     "data": {
      "image/png": "[encoded data removed]",
      "text/plain": [
       "<Figure size 432x288 with 1 Axes>"
      ]
     },
     "metadata": {
      "needs_background": "light"
     },
     "output_type": "display_data"
    }
   ],
   "source": [
    "plt.hist(df['observation']);"
   ]
  },
  {
   "cell_type": "code",
   "execution_count": 21,
   "id": "3c503c56",
   "metadata": {},
   "outputs": [
    {
     "data": {
      "image/png": "[encoded data removed]",
      "text/plain": [
       "<Figure size 432x288 with 1 Axes>"
      ]
     },
     "metadata": {
      "needs_background": "light"
     },
     "output_type": "display_data"
    }
   ],
   "source": [
    "plt.hist(df['timeout']);"
   ]
  },
  {
   "cell_type": "code",
   "execution_count": 22,
   "id": "a7ac2844",
   "metadata": {},
   "outputs": [
    {
     "data": {
      "text/html": [
       "<div>\n",
       "<style scoped>\n",
       "    .dataframe tbody tr th:only-of-type {\n",
       "        vertical-align: middle;\n",
       "    }\n",
       "\n",
       "    .dataframe tbody tr th {\n",
       "        vertical-align: top;\n",
       "    }\n",
       "\n",
       "    .dataframe thead th {\n",
       "        text-align: right;\n",
       "    }\n",
       "</style>\n",
       "<table border=\"1\" class=\"dataframe\">\n",
       "  <thead>\n",
       "    <tr style=\"text-align: right;\">\n",
       "      <th></th>\n",
       "      <th>observation</th>\n",
       "      <th>timeout</th>\n",
       "      <th>success</th>\n",
       "    </tr>\n",
       "  </thead>\n",
       "  <tbody>\n",
       "    <tr>\n",
       "      <th>0</th>\n",
       "      <td>7.0</td>\n",
       "      <td>7</td>\n",
       "      <td>True</td>\n",
       "    </tr>\n",
       "    <tr>\n",
       "      <th>1</th>\n",
       "      <td>2.0</td>\n",
       "      <td>2</td>\n",
       "      <td>True</td>\n",
       "    </tr>\n",
       "    <tr>\n",
       "      <th>2</th>\n",
       "      <td>22.0</td>\n",
       "      <td>22</td>\n",
       "      <td>True</td>\n",
       "    </tr>\n",
       "    <tr>\n",
       "      <th>3</th>\n",
       "      <td>NaN</td>\n",
       "      <td>58</td>\n",
       "      <td>False</td>\n",
       "    </tr>\n",
       "    <tr>\n",
       "      <th>4</th>\n",
       "      <td>16.0</td>\n",
       "      <td>16</td>\n",
       "      <td>True</td>\n",
       "    </tr>\n",
       "    <tr>\n",
       "      <th>...</th>\n",
       "      <td>...</td>\n",
       "      <td>...</td>\n",
       "      <td>...</td>\n",
       "    </tr>\n",
       "    <tr>\n",
       "      <th>995</th>\n",
       "      <td>40.0</td>\n",
       "      <td>40</td>\n",
       "      <td>True</td>\n",
       "    </tr>\n",
       "    <tr>\n",
       "      <th>996</th>\n",
       "      <td>15.0</td>\n",
       "      <td>15</td>\n",
       "      <td>True</td>\n",
       "    </tr>\n",
       "    <tr>\n",
       "      <th>997</th>\n",
       "      <td>NaN</td>\n",
       "      <td>29</td>\n",
       "      <td>False</td>\n",
       "    </tr>\n",
       "    <tr>\n",
       "      <th>998</th>\n",
       "      <td>NaN</td>\n",
       "      <td>20</td>\n",
       "      <td>False</td>\n",
       "    </tr>\n",
       "    <tr>\n",
       "      <th>999</th>\n",
       "      <td>13.0</td>\n",
       "      <td>13</td>\n",
       "      <td>True</td>\n",
       "    </tr>\n",
       "  </tbody>\n",
       "</table>\n",
       "<p>1000 rows × 3 columns</p>\n",
       "</div>"
      ],
      "text/plain": [
       "     observation  timeout  success\n",
       "0            7.0        7     True\n",
       "1            2.0        2     True\n",
       "2           22.0       22     True\n",
       "3            NaN       58    False\n",
       "4           16.0       16     True\n",
       "..           ...      ...      ...\n",
       "995         40.0       40     True\n",
       "996         15.0       15     True\n",
       "997          NaN       29    False\n",
       "998          NaN       20    False\n",
       "999         13.0       13     True\n",
       "\n",
       "[1000 rows x 3 columns]"
      ]
     },
     "execution_count": 22,
     "metadata": {},
     "output_type": "execute_result"
    }
   ],
   "source": [
    "df"
   ]
  },
  {
   "cell_type": "code",
   "execution_count": 23,
   "id": "79275f98",
   "metadata": {},
   "outputs": [],
   "source": [
    "success_profile = {k:df[df['timeout']<=k]['success'].sum()/n_samples for k in df['timeout'].unique()}"
   ]
  },
  {
   "cell_type": "code",
   "execution_count": 24,
   "id": "2abfc7af",
   "metadata": {},
   "outputs": [
    {
     "data": {
      "image/png": "[encoded data removed]",
      "text/plain": [
       "<Figure size 432x288 with 1 Axes>"
      ]
     },
     "metadata": {
      "needs_background": "light"
     },
     "output_type": "display_data"
    }
   ],
   "source": [
    "plt.scatter(success_profile.keys(), success_profile.values());"
   ]
  },
  {
   "cell_type": "code",
   "execution_count": 25,
   "id": "1cfe23b7",
   "metadata": {},
   "outputs": [],
   "source": [
    "S = pd.DataFrame(index = success_profile.keys(), \n",
    "                 data = success_profile.values(), columns=['S'])\n",
    "S.index.name='timeout'\n",
    "df = df.set_index('timeout').join(S).reset_index()#.rename({'index':'timeout'})\n",
    "df['S'] = np.where(df['observation'].isna(), df['S'], np.nan)"
   ]
  },
  {
   "cell_type": "code",
   "execution_count": 26,
   "id": "5e76ff6b",
   "metadata": {},
   "outputs": [
    {
     "data": {
      "text/html": [
       "<div>\n",
       "<style scoped>\n",
       "    .dataframe tbody tr th:only-of-type {\n",
       "        vertical-align: middle;\n",
       "    }\n",
       "\n",
       "    .dataframe tbody tr th {\n",
       "        vertical-align: top;\n",
       "    }\n",
       "\n",
       "    .dataframe thead th {\n",
       "        text-align: right;\n",
       "    }\n",
       "</style>\n",
       "<table border=\"1\" class=\"dataframe\">\n",
       "  <thead>\n",
       "    <tr style=\"text-align: right;\">\n",
       "      <th></th>\n",
       "      <th>timeout</th>\n",
       "      <th>observation</th>\n",
       "      <th>success</th>\n",
       "      <th>S</th>\n",
       "      <th>Λ</th>\n",
       "    </tr>\n",
       "  </thead>\n",
       "  <tbody>\n",
       "    <tr>\n",
       "      <th>0</th>\n",
       "      <td>1</td>\n",
       "      <td>1.0</td>\n",
       "      <td>True</td>\n",
       "      <td>NaN</td>\n",
       "      <td>NaN</td>\n",
       "    </tr>\n",
       "    <tr>\n",
       "      <th>1</th>\n",
       "      <td>1</td>\n",
       "      <td>1.0</td>\n",
       "      <td>True</td>\n",
       "      <td>NaN</td>\n",
       "      <td>NaN</td>\n",
       "    </tr>\n",
       "    <tr>\n",
       "      <th>2</th>\n",
       "      <td>1</td>\n",
       "      <td>1.0</td>\n",
       "      <td>True</td>\n",
       "      <td>NaN</td>\n",
       "      <td>NaN</td>\n",
       "    </tr>\n",
       "    <tr>\n",
       "      <th>3</th>\n",
       "      <td>1</td>\n",
       "      <td>1.0</td>\n",
       "      <td>True</td>\n",
       "      <td>NaN</td>\n",
       "      <td>NaN</td>\n",
       "    </tr>\n",
       "    <tr>\n",
       "      <th>4</th>\n",
       "      <td>1</td>\n",
       "      <td>1.0</td>\n",
       "      <td>True</td>\n",
       "      <td>NaN</td>\n",
       "      <td>NaN</td>\n",
       "    </tr>\n",
       "    <tr>\n",
       "      <th>...</th>\n",
       "      <td>...</td>\n",
       "      <td>...</td>\n",
       "      <td>...</td>\n",
       "      <td>...</td>\n",
       "      <td>...</td>\n",
       "    </tr>\n",
       "    <tr>\n",
       "      <th>995</th>\n",
       "      <td>59</td>\n",
       "      <td>NaN</td>\n",
       "      <td>False</td>\n",
       "      <td>0.594</td>\n",
       "      <td>124.954858</td>\n",
       "    </tr>\n",
       "    <tr>\n",
       "      <th>996</th>\n",
       "      <td>59</td>\n",
       "      <td>NaN</td>\n",
       "      <td>False</td>\n",
       "      <td>0.594</td>\n",
       "      <td>124.954858</td>\n",
       "    </tr>\n",
       "    <tr>\n",
       "      <th>997</th>\n",
       "      <td>59</td>\n",
       "      <td>NaN</td>\n",
       "      <td>False</td>\n",
       "      <td>0.594</td>\n",
       "      <td>124.954858</td>\n",
       "    </tr>\n",
       "    <tr>\n",
       "      <th>998</th>\n",
       "      <td>59</td>\n",
       "      <td>NaN</td>\n",
       "      <td>False</td>\n",
       "      <td>0.594</td>\n",
       "      <td>124.954858</td>\n",
       "    </tr>\n",
       "    <tr>\n",
       "      <th>999</th>\n",
       "      <td>59</td>\n",
       "      <td>NaN</td>\n",
       "      <td>False</td>\n",
       "      <td>0.594</td>\n",
       "      <td>124.954858</td>\n",
       "    </tr>\n",
       "  </tbody>\n",
       "</table>\n",
       "<p>1000 rows × 5 columns</p>\n",
       "</div>"
      ],
      "text/plain": [
       "     timeout  observation  success      S           Λ\n",
       "0          1          1.0     True    NaN         NaN\n",
       "1          1          1.0     True    NaN         NaN\n",
       "2          1          1.0     True    NaN         NaN\n",
       "3          1          1.0     True    NaN         NaN\n",
       "4          1          1.0     True    NaN         NaN\n",
       "..       ...          ...      ...    ...         ...\n",
       "995       59          NaN    False  0.594  124.954858\n",
       "996       59          NaN    False  0.594  124.954858\n",
       "997       59          NaN    False  0.594  124.954858\n",
       "998       59          NaN    False  0.594  124.954858\n",
       "999       59          NaN    False  0.594  124.954858\n",
       "\n",
       "[1000 rows x 5 columns]"
      ]
     },
     "execution_count": 26,
     "metadata": {},
     "output_type": "execute_result"
    }
   ],
   "source": [
    "df['Λ'] =df['timeout'] + 1/(1-(1-df['S'])**(1/df['timeout']))\n",
    "df"
   ]
  },
  {
   "cell_type": "code",
   "execution_count": 27,
   "id": "2fa7c2ba",
   "metadata": {},
   "outputs": [
    {
     "data": {
      "text/html": [
       "<div>\n",
       "<style scoped>\n",
       "    .dataframe tbody tr th:only-of-type {\n",
       "        vertical-align: middle;\n",
       "    }\n",
       "\n",
       "    .dataframe tbody tr th {\n",
       "        vertical-align: top;\n",
       "    }\n",
       "\n",
       "    .dataframe thead th {\n",
       "        text-align: right;\n",
       "    }\n",
       "</style>\n",
       "<table border=\"1\" class=\"dataframe\">\n",
       "  <thead>\n",
       "    <tr style=\"text-align: right;\">\n",
       "      <th></th>\n",
       "      <th>timeout</th>\n",
       "      <th>observation</th>\n",
       "      <th>success</th>\n",
       "      <th>S</th>\n",
       "      <th>Λ</th>\n",
       "      <th>x</th>\n",
       "    </tr>\n",
       "  </thead>\n",
       "  <tbody>\n",
       "    <tr>\n",
       "      <th>0</th>\n",
       "      <td>1</td>\n",
       "      <td>1.0</td>\n",
       "      <td>True</td>\n",
       "      <td>NaN</td>\n",
       "      <td>NaN</td>\n",
       "      <td>1.000000</td>\n",
       "    </tr>\n",
       "    <tr>\n",
       "      <th>1</th>\n",
       "      <td>1</td>\n",
       "      <td>1.0</td>\n",
       "      <td>True</td>\n",
       "      <td>NaN</td>\n",
       "      <td>NaN</td>\n",
       "      <td>1.000000</td>\n",
       "    </tr>\n",
       "    <tr>\n",
       "      <th>2</th>\n",
       "      <td>1</td>\n",
       "      <td>1.0</td>\n",
       "      <td>True</td>\n",
       "      <td>NaN</td>\n",
       "      <td>NaN</td>\n",
       "      <td>1.000000</td>\n",
       "    </tr>\n",
       "    <tr>\n",
       "      <th>3</th>\n",
       "      <td>1</td>\n",
       "      <td>1.0</td>\n",
       "      <td>True</td>\n",
       "      <td>NaN</td>\n",
       "      <td>NaN</td>\n",
       "      <td>1.000000</td>\n",
       "    </tr>\n",
       "    <tr>\n",
       "      <th>4</th>\n",
       "      <td>1</td>\n",
       "      <td>1.0</td>\n",
       "      <td>True</td>\n",
       "      <td>NaN</td>\n",
       "      <td>NaN</td>\n",
       "      <td>1.000000</td>\n",
       "    </tr>\n",
       "    <tr>\n",
       "      <th>...</th>\n",
       "      <td>...</td>\n",
       "      <td>...</td>\n",
       "      <td>...</td>\n",
       "      <td>...</td>\n",
       "      <td>...</td>\n",
       "      <td>...</td>\n",
       "    </tr>\n",
       "    <tr>\n",
       "      <th>995</th>\n",
       "      <td>59</td>\n",
       "      <td>NaN</td>\n",
       "      <td>False</td>\n",
       "      <td>0.594</td>\n",
       "      <td>124.954858</td>\n",
       "      <td>124.954858</td>\n",
       "    </tr>\n",
       "    <tr>\n",
       "      <th>996</th>\n",
       "      <td>59</td>\n",
       "      <td>NaN</td>\n",
       "      <td>False</td>\n",
       "      <td>0.594</td>\n",
       "      <td>124.954858</td>\n",
       "      <td>124.954858</td>\n",
       "    </tr>\n",
       "    <tr>\n",
       "      <th>997</th>\n",
       "      <td>59</td>\n",
       "      <td>NaN</td>\n",
       "      <td>False</td>\n",
       "      <td>0.594</td>\n",
       "      <td>124.954858</td>\n",
       "      <td>124.954858</td>\n",
       "    </tr>\n",
       "    <tr>\n",
       "      <th>998</th>\n",
       "      <td>59</td>\n",
       "      <td>NaN</td>\n",
       "      <td>False</td>\n",
       "      <td>0.594</td>\n",
       "      <td>124.954858</td>\n",
       "      <td>124.954858</td>\n",
       "    </tr>\n",
       "    <tr>\n",
       "      <th>999</th>\n",
       "      <td>59</td>\n",
       "      <td>NaN</td>\n",
       "      <td>False</td>\n",
       "      <td>0.594</td>\n",
       "      <td>124.954858</td>\n",
       "      <td>124.954858</td>\n",
       "    </tr>\n",
       "  </tbody>\n",
       "</table>\n",
       "<p>1000 rows × 6 columns</p>\n",
       "</div>"
      ],
      "text/plain": [
       "     timeout  observation  success      S           Λ           x\n",
       "0          1          1.0     True    NaN         NaN    1.000000\n",
       "1          1          1.0     True    NaN         NaN    1.000000\n",
       "2          1          1.0     True    NaN         NaN    1.000000\n",
       "3          1          1.0     True    NaN         NaN    1.000000\n",
       "4          1          1.0     True    NaN         NaN    1.000000\n",
       "..       ...          ...      ...    ...         ...         ...\n",
       "995       59          NaN    False  0.594  124.954858  124.954858\n",
       "996       59          NaN    False  0.594  124.954858  124.954858\n",
       "997       59          NaN    False  0.594  124.954858  124.954858\n",
       "998       59          NaN    False  0.594  124.954858  124.954858\n",
       "999       59          NaN    False  0.594  124.954858  124.954858\n",
       "\n",
       "[1000 rows x 6 columns]"
      ]
     },
     "execution_count": 27,
     "metadata": {},
     "output_type": "execute_result"
    }
   ],
   "source": [
    "df['x'] = np.where(df['success'], df['observation'], df['Λ'])\n",
    "df"
   ]
  },
  {
   "cell_type": "code",
   "execution_count": 28,
   "id": "ef0949e0",
   "metadata": {},
   "outputs": [
    {
     "data": {
      "text/plain": [
       "42.44098782336493"
      ]
     },
     "execution_count": 28,
     "metadata": {},
     "output_type": "execute_result"
    }
   ],
   "source": [
    "df['x'].mean()"
   ]
  },
  {
   "cell_type": "code",
   "execution_count": 29,
   "id": "bef84229",
   "metadata": {},
   "outputs": [
    {
     "data": {
      "image/png": "[encoded data removed]",
      "text/plain": [
       "<Figure size 432x288 with 1 Axes>"
      ]
     },
     "metadata": {
      "needs_background": "light"
     },
     "output_type": "display_data"
    }
   ],
   "source": [
    "plt.scatter(df['timeout'],df['x']);"
   ]
  },
  {
   "cell_type": "code",
   "execution_count": null,
   "id": "4367d519",
   "metadata": {},
   "outputs": [],
   "source": []
  }
 ],
 "metadata": {
  "kernelspec": {
   "display_name": "Python 3 (ipykernel)",
   "language": "python",
   "name": "python3"
  },
  "language_info": {
   "codemirror_mode": {
    "name": "ipython",
    "version": 3
   },
   "file_extension": ".py",
   "mimetype": "text/x-python",
   "name": "python",
   "nbconvert_exporter": "python",
   "pygments_lexer": "ipython3",
   "version": "3.9.7"
  }
 },
 "nbformat": 4,
 "nbformat_minor": 5
}
