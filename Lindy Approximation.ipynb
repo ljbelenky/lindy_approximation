{
 "cells": [
  {
   "cell_type": "markdown",
   "id": "5a1db31e",
   "metadata": {},
   "source": [
    "Let $N$ be the number of sides on a die.\n",
    "The probability ($p$) of rolling an N on any rolls is given by:\n",
    "$$p=\\frac{1}{N}$$\n",
    "\n",
    "\n",
    "The probability of rolling an $N$ in $x$ rolls is given by the geometric distribution:\n",
    "$$P(x) = (1-p)^{(1-x)}p$$\n",
    "\n",
    "$$ P(x) = (1-\\frac{1}{N})^{(1-x)}(\\frac{1}{N})$$"
   ]
  },
  {
   "cell_type": "code",
   "execution_count": 1,
   "id": "9061f659",
   "metadata": {},
   "outputs": [],
   "source": [
    "import numpy as np\n",
    "import pandas as pd\n",
    "import matplotlib.pyplot as plt\n",
    "from sklearn.linear_model import LinearRegression as LR"
   ]
  },
  {
   "cell_type": "code",
   "execution_count": 2,
   "id": "e2dfaaa5",
   "metadata": {},
   "outputs": [],
   "source": [
    "   \n",
    "def rollit(N, max_trials):\n",
    "    p = 1/N\n",
    "    for t in range(1,max_trials+1):\n",
    "        if np.random.random() <p:\n",
    "            break\n",
    "        if t == max_trials: t*=2\n",
    "    \n",
    "    return {'p':p,'max_trials':max_trials,'success':t<max_trials,'t':t}\n"
   ]
  },
  {
   "cell_type": "code",
   "execution_count": 3,
   "id": "0702a0f5",
   "metadata": {},
   "outputs": [],
   "source": [
    "df = []\n",
    "for _ in range(10):\n",
    "    \n",
    "    X = pd.DataFrame([rollit(N, 20) for _ in range(5000) for N in range(10,360,10)])\n",
    "    X['inv_t'] =1/X['t']\n",
    "    XX = X.groupby('p').mean().reset_index()\n",
    "#     XX['failure'] = 1-XX['success']\n",
    "#     XX['s'] = (X.groupby('p').std())['t']\n",
    "    \n",
    "    df.append(XX)"
   ]
  },
  {
   "cell_type": "code",
   "execution_count": 4,
   "id": "c13f8695",
   "metadata": {},
   "outputs": [
    {
     "data": {
      "text/html": [
       "<div>\n",
       "<style scoped>\n",
       "    .dataframe tbody tr th:only-of-type {\n",
       "        vertical-align: middle;\n",
       "    }\n",
       "\n",
       "    .dataframe tbody tr th {\n",
       "        vertical-align: top;\n",
       "    }\n",
       "\n",
       "    .dataframe thead th {\n",
       "        text-align: right;\n",
       "    }\n",
       "</style>\n",
       "<table border=\"1\" class=\"dataframe\">\n",
       "  <thead>\n",
       "    <tr style=\"text-align: right;\">\n",
       "      <th></th>\n",
       "      <th>p</th>\n",
       "      <th>max_trials</th>\n",
       "      <th>success</th>\n",
       "      <th>t</th>\n",
       "      <th>inv_t</th>\n",
       "    </tr>\n",
       "  </thead>\n",
       "  <tbody>\n",
       "    <tr>\n",
       "      <th>0</th>\n",
       "      <td>0.002857</td>\n",
       "      <td>20.0</td>\n",
       "      <td>0.0516</td>\n",
       "      <td>38.4180</td>\n",
       "      <td>0.032628</td>\n",
       "    </tr>\n",
       "    <tr>\n",
       "      <th>1</th>\n",
       "      <td>0.002941</td>\n",
       "      <td>20.0</td>\n",
       "      <td>0.0534</td>\n",
       "      <td>38.3554</td>\n",
       "      <td>0.033213</td>\n",
       "    </tr>\n",
       "    <tr>\n",
       "      <th>2</th>\n",
       "      <td>0.003030</td>\n",
       "      <td>20.0</td>\n",
       "      <td>0.0598</td>\n",
       "      <td>38.1498</td>\n",
       "      <td>0.034618</td>\n",
       "    </tr>\n",
       "    <tr>\n",
       "      <th>3</th>\n",
       "      <td>0.003125</td>\n",
       "      <td>20.0</td>\n",
       "      <td>0.0550</td>\n",
       "      <td>38.3126</td>\n",
       "      <td>0.033491</td>\n",
       "    </tr>\n",
       "    <tr>\n",
       "      <th>4</th>\n",
       "      <td>0.003226</td>\n",
       "      <td>20.0</td>\n",
       "      <td>0.0618</td>\n",
       "      <td>38.0634</td>\n",
       "      <td>0.035664</td>\n",
       "    </tr>\n",
       "    <tr>\n",
       "      <th>...</th>\n",
       "      <td>...</td>\n",
       "      <td>...</td>\n",
       "      <td>...</td>\n",
       "      <td>...</td>\n",
       "      <td>...</td>\n",
       "    </tr>\n",
       "    <tr>\n",
       "      <th>30</th>\n",
       "      <td>0.020000</td>\n",
       "      <td>20.0</td>\n",
       "      <td>0.3124</td>\n",
       "      <td>30.1116</td>\n",
       "      <td>0.084429</td>\n",
       "    </tr>\n",
       "    <tr>\n",
       "      <th>31</th>\n",
       "      <td>0.025000</td>\n",
       "      <td>20.0</td>\n",
       "      <td>0.3810</td>\n",
       "      <td>27.9094</td>\n",
       "      <td>0.095598</td>\n",
       "    </tr>\n",
       "    <tr>\n",
       "      <th>32</th>\n",
       "      <td>0.033333</td>\n",
       "      <td>20.0</td>\n",
       "      <td>0.4756</td>\n",
       "      <td>24.9128</td>\n",
       "      <td>0.116371</td>\n",
       "    </tr>\n",
       "    <tr>\n",
       "      <th>33</th>\n",
       "      <td>0.050000</td>\n",
       "      <td>20.0</td>\n",
       "      <td>0.6306</td>\n",
       "      <td>19.7526</td>\n",
       "      <td>0.159396</td>\n",
       "    </tr>\n",
       "    <tr>\n",
       "      <th>34</th>\n",
       "      <td>0.100000</td>\n",
       "      <td>20.0</td>\n",
       "      <td>0.8644</td>\n",
       "      <td>11.2332</td>\n",
       "      <td>0.254551</td>\n",
       "    </tr>\n",
       "  </tbody>\n",
       "</table>\n",
       "<p>350 rows × 5 columns</p>\n",
       "</div>"
      ],
      "text/plain": [
       "           p  max_trials  success        t     inv_t\n",
       "0   0.002857        20.0   0.0516  38.4180  0.032628\n",
       "1   0.002941        20.0   0.0534  38.3554  0.033213\n",
       "2   0.003030        20.0   0.0598  38.1498  0.034618\n",
       "3   0.003125        20.0   0.0550  38.3126  0.033491\n",
       "4   0.003226        20.0   0.0618  38.0634  0.035664\n",
       "..       ...         ...      ...      ...       ...\n",
       "30  0.020000        20.0   0.3124  30.1116  0.084429\n",
       "31  0.025000        20.0   0.3810  27.9094  0.095598\n",
       "32  0.033333        20.0   0.4756  24.9128  0.116371\n",
       "33  0.050000        20.0   0.6306  19.7526  0.159396\n",
       "34  0.100000        20.0   0.8644  11.2332  0.254551\n",
       "\n",
       "[350 rows x 5 columns]"
      ]
     },
     "execution_count": 4,
     "metadata": {},
     "output_type": "execute_result"
    }
   ],
   "source": [
    "df = pd.concat(df)\n",
    "df"
   ]
  },
  {
   "cell_type": "code",
   "execution_count": 5,
   "id": "928a0815",
   "metadata": {},
   "outputs": [
    {
     "name": "stderr",
     "output_type": "stream",
     "text": [
      "/home/land/anaconda3/lib/python3.9/site-packages/pandas/plotting/_matplotlib/misc.py:100: UserWarning: Attempting to set identical left == right == 20.0 results in singular transformations; automatically expanding.\n",
      "  ax.set_xlim(boundaries_list[j])\n",
      "/home/land/anaconda3/lib/python3.9/site-packages/pandas/plotting/_matplotlib/misc.py:101: UserWarning: Attempting to set identical bottom == top == 20.0 results in singular transformations; automatically expanding.\n",
      "  ax.set_ylim(boundaries_list[i])\n",
      "/home/land/anaconda3/lib/python3.9/site-packages/pandas/plotting/_matplotlib/misc.py:91: UserWarning: Attempting to set identical left == right == 20.0 results in singular transformations; automatically expanding.\n",
      "  ax.set_xlim(boundaries_list[i])\n"
     ]
    },
    {
     "data": {
      "image/png": "[encoded data removed]",
      "text/plain": [
       "<Figure size 432x288 with 25 Axes>"
      ]
     },
     "metadata": {
      "needs_background": "light"
     },
     "output_type": "display_data"
    }
   ],
   "source": [
    "pd.plotting.scatter_matrix(df);"
   ]
  },
  {
   "cell_type": "code",
   "execution_count": 6,
   "id": "5ae7b1b2",
   "metadata": {},
   "outputs": [],
   "source": [
    "XX = df\n",
    "y = XX.pop('p')\n",
    "y = y\n",
    "m = LR().fit(XX, y)"
   ]
  },
  {
   "cell_type": "code",
   "execution_count": 7,
   "id": "2f62ecbd",
   "metadata": {},
   "outputs": [
    {
     "data": {
      "text/plain": [
       "0.9978211089023509"
      ]
     },
     "execution_count": 7,
     "metadata": {},
     "output_type": "execute_result"
    }
   ],
   "source": [
    "m.score(XX,y)"
   ]
  },
  {
   "cell_type": "code",
   "execution_count": 8,
   "id": "eadd2de7",
   "metadata": {},
   "outputs": [
    {
     "data": {
      "text/plain": [
       "[<matplotlib.lines.Line2D at 0x7fe701e97340>]"
      ]
     },
     "execution_count": 8,
     "metadata": {},
     "output_type": "execute_result"
    },
    {
     "data": {
      "image/png": "[encoded data removed]",
      "text/plain": [
       "<Figure size 432x288 with 1 Axes>"
      ]
     },
     "metadata": {
      "needs_background": "light"
     },
     "output_type": "display_data"
    }
   ],
   "source": [
    "plt.scatter(m.predict(XX),y)\n",
    "plt.plot([0,.1],[0,.1])"
   ]
  },
  {
   "cell_type": "code",
   "execution_count": 9,
   "id": "dfe31a27",
   "metadata": {},
   "outputs": [
    {
     "data": {
      "text/plain": [
       "0.19899080776300038"
      ]
     },
     "execution_count": 9,
     "metadata": {},
     "output_type": "execute_result"
    }
   ],
   "source": [
    "m.intercept_"
   ]
  },
  {
   "cell_type": "code",
   "execution_count": 10,
   "id": "5171a324",
   "metadata": {},
   "outputs": [
    {
     "data": {
      "text/plain": [
       "array([ 0.        , -0.19155838, -0.00527993,  0.48926443])"
      ]
     },
     "execution_count": 10,
     "metadata": {},
     "output_type": "execute_result"
    }
   ],
   "source": [
    "m.coef_"
   ]
  },
  {
   "cell_type": "code",
   "execution_count": 11,
   "id": "1c082f82",
   "metadata": {},
   "outputs": [
    {
     "data": {
      "text/plain": [
       "Index(['max_trials', 'success', 't', 'inv_t'], dtype='object')"
      ]
     },
     "execution_count": 11,
     "metadata": {},
     "output_type": "execute_result"
    }
   ],
   "source": [
    "XX.columns"
   ]
  },
  {
   "cell_type": "code",
   "execution_count": 12,
   "id": "28c357e6",
   "metadata": {},
   "outputs": [
    {
     "data": {
      "text/html": [
       "<div>\n",
       "<style scoped>\n",
       "    .dataframe tbody tr th:only-of-type {\n",
       "        vertical-align: middle;\n",
       "    }\n",
       "\n",
       "    .dataframe tbody tr th {\n",
       "        vertical-align: top;\n",
       "    }\n",
       "\n",
       "    .dataframe thead th {\n",
       "        text-align: right;\n",
       "    }\n",
       "</style>\n",
       "<table border=\"1\" class=\"dataframe\">\n",
       "  <thead>\n",
       "    <tr style=\"text-align: right;\">\n",
       "      <th></th>\n",
       "      <th>max_trials</th>\n",
       "      <th>success</th>\n",
       "      <th>t</th>\n",
       "      <th>inv_t</th>\n",
       "    </tr>\n",
       "  </thead>\n",
       "  <tbody>\n",
       "    <tr>\n",
       "      <th>0</th>\n",
       "      <td>20.0</td>\n",
       "      <td>0.0516</td>\n",
       "      <td>38.4180</td>\n",
       "      <td>0.032628</td>\n",
       "    </tr>\n",
       "    <tr>\n",
       "      <th>1</th>\n",
       "      <td>20.0</td>\n",
       "      <td>0.0534</td>\n",
       "      <td>38.3554</td>\n",
       "      <td>0.033213</td>\n",
       "    </tr>\n",
       "    <tr>\n",
       "      <th>2</th>\n",
       "      <td>20.0</td>\n",
       "      <td>0.0598</td>\n",
       "      <td>38.1498</td>\n",
       "      <td>0.034618</td>\n",
       "    </tr>\n",
       "    <tr>\n",
       "      <th>3</th>\n",
       "      <td>20.0</td>\n",
       "      <td>0.0550</td>\n",
       "      <td>38.3126</td>\n",
       "      <td>0.033491</td>\n",
       "    </tr>\n",
       "    <tr>\n",
       "      <th>4</th>\n",
       "      <td>20.0</td>\n",
       "      <td>0.0618</td>\n",
       "      <td>38.0634</td>\n",
       "      <td>0.035664</td>\n",
       "    </tr>\n",
       "    <tr>\n",
       "      <th>...</th>\n",
       "      <td>...</td>\n",
       "      <td>...</td>\n",
       "      <td>...</td>\n",
       "      <td>...</td>\n",
       "    </tr>\n",
       "    <tr>\n",
       "      <th>30</th>\n",
       "      <td>20.0</td>\n",
       "      <td>0.3124</td>\n",
       "      <td>30.1116</td>\n",
       "      <td>0.084429</td>\n",
       "    </tr>\n",
       "    <tr>\n",
       "      <th>31</th>\n",
       "      <td>20.0</td>\n",
       "      <td>0.3810</td>\n",
       "      <td>27.9094</td>\n",
       "      <td>0.095598</td>\n",
       "    </tr>\n",
       "    <tr>\n",
       "      <th>32</th>\n",
       "      <td>20.0</td>\n",
       "      <td>0.4756</td>\n",
       "      <td>24.9128</td>\n",
       "      <td>0.116371</td>\n",
       "    </tr>\n",
       "    <tr>\n",
       "      <th>33</th>\n",
       "      <td>20.0</td>\n",
       "      <td>0.6306</td>\n",
       "      <td>19.7526</td>\n",
       "      <td>0.159396</td>\n",
       "    </tr>\n",
       "    <tr>\n",
       "      <th>34</th>\n",
       "      <td>20.0</td>\n",
       "      <td>0.8644</td>\n",
       "      <td>11.2332</td>\n",
       "      <td>0.254551</td>\n",
       "    </tr>\n",
       "  </tbody>\n",
       "</table>\n",
       "<p>350 rows × 4 columns</p>\n",
       "</div>"
      ],
      "text/plain": [
       "    max_trials  success        t     inv_t\n",
       "0         20.0   0.0516  38.4180  0.032628\n",
       "1         20.0   0.0534  38.3554  0.033213\n",
       "2         20.0   0.0598  38.1498  0.034618\n",
       "3         20.0   0.0550  38.3126  0.033491\n",
       "4         20.0   0.0618  38.0634  0.035664\n",
       "..         ...      ...      ...       ...\n",
       "30        20.0   0.3124  30.1116  0.084429\n",
       "31        20.0   0.3810  27.9094  0.095598\n",
       "32        20.0   0.4756  24.9128  0.116371\n",
       "33        20.0   0.6306  19.7526  0.159396\n",
       "34        20.0   0.8644  11.2332  0.254551\n",
       "\n",
       "[350 rows x 4 columns]"
      ]
     },
     "execution_count": 12,
     "metadata": {},
     "output_type": "execute_result"
    }
   ],
   "source": [
    "XX"
   ]
  },
  {
   "cell_type": "code",
   "execution_count": 13,
   "id": "83714a49",
   "metadata": {},
   "outputs": [],
   "source": [
    "z = LR().fit(XX[['inv_t']],y)"
   ]
  },
  {
   "cell_type": "code",
   "execution_count": 14,
   "id": "be257821",
   "metadata": {},
   "outputs": [
    {
     "data": {
      "image/png": "[encoded data removed]",
      "text/plain": [
       "<Figure size 432x288 with 1 Axes>"
      ]
     },
     "metadata": {
      "needs_background": "light"
     },
     "output_type": "display_data"
    }
   ],
   "source": [
    "plt.scatter(z.predict(XX[['inv_t']]),y)\n",
    "plt.plot([0,.1],[0,.1]);"
   ]
  },
  {
   "cell_type": "code",
   "execution_count": 15,
   "id": "43ebe425",
   "metadata": {},
   "outputs": [
    {
     "data": {
      "text/plain": [
       "array([0.41839677])"
      ]
     },
     "execution_count": 15,
     "metadata": {},
     "output_type": "execute_result"
    }
   ],
   "source": [
    "z.coef_"
   ]
  },
  {
   "cell_type": "code",
   "execution_count": null,
   "id": "349970b1",
   "metadata": {},
   "outputs": [],
   "source": []
  },
  {
   "cell_type": "code",
   "execution_count": null,
   "id": "b7207581",
   "metadata": {},
   "outputs": [],
   "source": []
  }
 ],
 "metadata": {
  "kernelspec": {
   "display_name": "Python 3 (ipykernel)",
   "language": "python",
   "name": "python3"
  },
  "language_info": {
   "codemirror_mode": {
    "name": "ipython",
    "version": 3
   },
   "file_extension": ".py",
   "mimetype": "text/x-python",
   "name": "python",
   "nbconvert_exporter": "python",
   "pygments_lexer": "ipython3",
   "version": "3.9.7"
  }
 },
 "nbformat": 4,
 "nbformat_minor": 5
}
