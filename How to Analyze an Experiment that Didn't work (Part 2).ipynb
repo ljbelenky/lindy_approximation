{
 "cells": [
  {
   "cell_type": "code",
   "execution_count": 1,
   "id": "b36dddea",
   "metadata": {},
   "outputs": [],
   "source": [
    "import numpy as np\n",
    "import pandas as pd\n",
    "import matplotlib.pyplot as plt\n",
    "from scipy.stats import geom"
   ]
  },
  {
   "cell_type": "markdown",
   "id": "413ba19e",
   "metadata": {},
   "source": [
    "# Problem Statement\n",
    "\n",
    "Suppose we have a process that has a fixed, but unknown probability of occurring on any given attempt. We want to determine this probability, $p$ from experimental evidence.\n",
    "\n",
    "An example of this would be a die with $N=40$ sides. On each roll, the probability of rolling a one is $p = \\frac {1}{N} = 0.025$\n",
    "\n",
    "Our experiment consists of a large number of repeated trials. In each trial, we roll the die until a one is observed and then record the number of rolls it took to get a one.\n",
    "\n",
    "Sometimes we will get a 1 on the first roll. Occasionally it will take over 100 rolls until we get a 1. On average, it will take $N$ rolls. That is to say the expectation value, $$E = p = \\frac {1}{N} = \\frac {\\text {number of trials}}{\\sum{\\text {experimental results}}}$$\n",
    "\n",
    "However, because of time or resource constraints, we are not able to continue each trial until a one is observed. The number of rolls we are permitted in each trial varies between one and some upper limit, $\\kappa$. We assume that this limit is a uniform distribution over the range $(0,\\kappa)$. For this example, let's say $\\kappa = 50$, meaning sometimes we will be permitted only 1 roll, other times we get as many as $50$ attempts. There is a $\\frac {49}{50}$ chance that we are permitted fewer than 50 rolls.\n",
    "\n",
    "# Procedure\n",
    "\n",
    "Our experimental procedure is as follows:\n",
    "1. Roll the die until we get either a 1 or we hit the timeout limit\n",
    "1. If we get a 1 at any point, we mark this as `success = True` and record the number of the roll on which a 1 was observed. Generally this is going to be less than the timeout limit, which is generally less than the maximum limit $\\kappa$\n",
    "1. If we don't get a one, we record this as `success = False` and record the number of attempts.\n",
    "\n",
    "Some example data is shown below:"
   ]
  },
  {
   "cell_type": "code",
   "execution_count": 2,
   "id": "aa994322",
   "metadata": {},
   "outputs": [
    {
     "data": {
      "text/html": [
       "<div>\n",
       "<style scoped>\n",
       "    .dataframe tbody tr th:only-of-type {\n",
       "        vertical-align: middle;\n",
       "    }\n",
       "\n",
       "    .dataframe tbody tr th {\n",
       "        vertical-align: top;\n",
       "    }\n",
       "\n",
       "    .dataframe thead th {\n",
       "        text-align: right;\n",
       "    }\n",
       "</style>\n",
       "<table border=\"1\" class=\"dataframe\">\n",
       "  <thead>\n",
       "    <tr style=\"text-align: right;\">\n",
       "      <th></th>\n",
       "      <th>success</th>\n",
       "      <th>n</th>\n",
       "    </tr>\n",
       "    <tr>\n",
       "      <th>trial</th>\n",
       "      <th></th>\n",
       "      <th></th>\n",
       "    </tr>\n",
       "  </thead>\n",
       "  <tbody>\n",
       "    <tr>\n",
       "      <th>0</th>\n",
       "      <td>False</td>\n",
       "      <td>21</td>\n",
       "    </tr>\n",
       "    <tr>\n",
       "      <th>1</th>\n",
       "      <td>False</td>\n",
       "      <td>16</td>\n",
       "    </tr>\n",
       "    <tr>\n",
       "      <th>2</th>\n",
       "      <td>True</td>\n",
       "      <td>9</td>\n",
       "    </tr>\n",
       "    <tr>\n",
       "      <th>3</th>\n",
       "      <td>True</td>\n",
       "      <td>12</td>\n",
       "    </tr>\n",
       "    <tr>\n",
       "      <th>4</th>\n",
       "      <td>False</td>\n",
       "      <td>11</td>\n",
       "    </tr>\n",
       "    <tr>\n",
       "      <th>...</th>\n",
       "      <td>...</td>\n",
       "      <td>...</td>\n",
       "    </tr>\n",
       "    <tr>\n",
       "      <th>99995</th>\n",
       "      <td>False</td>\n",
       "      <td>2</td>\n",
       "    </tr>\n",
       "    <tr>\n",
       "      <th>99996</th>\n",
       "      <td>False</td>\n",
       "      <td>8</td>\n",
       "    </tr>\n",
       "    <tr>\n",
       "      <th>99997</th>\n",
       "      <td>True</td>\n",
       "      <td>17</td>\n",
       "    </tr>\n",
       "    <tr>\n",
       "      <th>99998</th>\n",
       "      <td>False</td>\n",
       "      <td>21</td>\n",
       "    </tr>\n",
       "    <tr>\n",
       "      <th>99999</th>\n",
       "      <td>False</td>\n",
       "      <td>2</td>\n",
       "    </tr>\n",
       "  </tbody>\n",
       "</table>\n",
       "<p>100000 rows × 2 columns</p>\n",
       "</div>"
      ],
      "text/plain": [
       "       success   n\n",
       "trial             \n",
       "0        False  21\n",
       "1        False  16\n",
       "2         True   9\n",
       "3         True  12\n",
       "4        False  11\n",
       "...        ...  ..\n",
       "99995    False   2\n",
       "99996    False   8\n",
       "99997     True  17\n",
       "99998    False  21\n",
       "99999    False   2\n",
       "\n",
       "[100000 rows x 2 columns]"
      ]
     },
     "execution_count": 2,
     "metadata": {},
     "output_type": "execute_result"
    }
   ],
   "source": [
    "p = 1/40  # The probability of getting a 1 on each roll\n",
    "𝜅 = 35    # The maximum number of attempts we are permitted on each trial\n",
    "N = 100000 # The number of trials in our experiment\n",
    "\n",
    "df = pd.DataFrame()\n",
    "df.index.name = 'trial'\n",
    "rolls = geom(p).rvs(N)\n",
    "timeouts = np.random.randint(1, 𝜅+1, size = N)\n",
    "df['success'] = rolls<=timeouts\n",
    "df['n'] = np.where(df['success'], rolls, timeouts)\n",
    "df\n"
   ]
  },
  {
   "cell_type": "markdown",
   "id": "eb83f400",
   "metadata": {},
   "source": [
    "### Note that many of our trials (~55%) end without success"
   ]
  },
  {
   "cell_type": "code",
   "execution_count": 3,
   "id": "8266394f",
   "metadata": {},
   "outputs": [
    {
     "data": {
      "text/plain": [
       "0.34203"
      ]
     },
     "execution_count": 3,
     "metadata": {},
     "output_type": "execute_result"
    }
   ],
   "source": [
    "df['success'].mean()"
   ]
  },
  {
   "cell_type": "markdown",
   "id": "ef6c59bc",
   "metadata": {},
   "source": [
    "Here we plot the distribution of successful and unsuccessful trials.\n",
    "Note that even though the timeout values are uniformly distributed, the distribution of timed-out trials is not uniform. This is because some number (the majority) end in success before timeout."
   ]
  },
  {
   "cell_type": "code",
   "execution_count": 4,
   "id": "fe4ff02b",
   "metadata": {},
   "outputs": [
    {
     "data": {
      "image/png": "[encoded data removed]",
      "text/plain": [
       "<Figure size 432x288 with 1 Axes>"
      ]
     },
     "metadata": {
      "needs_background": "light"
     },
     "output_type": "display_data"
    }
   ],
   "source": [
    "plt.hist(df[df['success']]['n'], histtype='step', label = 'Successful trials');\n",
    "plt.hist(df[~df['success']]['n'], histtype='step', label = 'Timed-out trials')\n",
    "plt.xlabel('$x$ = Number of Rolls')\n",
    "plt.ylabel('Number of Trials ending at $x$ rolls')\n",
    "plt.legend();"
   ]
  },
  {
   "cell_type": "markdown",
   "id": "a1a67c5b",
   "metadata": {},
   "source": [
    "Note also that is we just take the average of the resulting values (as we would if there were no time-outs), we get an estimate of $N$ that is very far away from its true value."
   ]
  },
  {
   "cell_type": "code",
   "execution_count": 5,
   "id": "4fa79f7e",
   "metadata": {},
   "outputs": [
    {
     "data": {
      "text/plain": [
       "13.78539"
      ]
     },
     "execution_count": 5,
     "metadata": {},
     "output_type": "execute_result"
    }
   ],
   "source": [
    "df['n'].mean()"
   ]
  },
  {
   "cell_type": "markdown",
   "id": "5317c0d6",
   "metadata": {},
   "source": [
    "# Analysis\n",
    "\n",
    "To analyze this data and get a valid estimate of $N$, we use the following procedure.\n",
    "\n",
    "## Timeouts:\n",
    "In order for a trial to end in timeout on the $n^{th}$ role, the following conditions must be  met:\n",
    "* None of the previous $n-1$ rolls were successful.\n",
    "$$\\text {condition A} = (1-p)^{n-1}$$\n",
    "* None of the previous rolls were the timeout value. Because the timeout values are distributed uniformly, the probability that the timeout is less than $n$ is $\\frac {n-1}{𝜅}$ and the chance that the timeout value is *not* less than $n$ is:\n",
    "$$\\text {conditon B} = 1-\\frac {n-1}{𝜅}$$\n",
    "* The current roll $n$ is the timeout value. As $n \\to 𝜅$, the probability that $n$ is the timeout value increase as the remaining values decrease. E.g, on the first roll, there is a $\\frac {1}{50}$ chance that it will be the last permitted attempt. On the second roll, there is a $\\frac {1}{49}$ chance, on the $50^{th} or 𝜅^{th}$ roll, we know for certainty that it will be the last permitted roll. Therefore:\n",
    "$$\\text {condition C} = \\frac {1}{𝜅-n+1}$$\n",
    "This takes the value $\\frac {1}{𝜅}$ when $n=1$ and $1$ when $n = 𝜅$. And, of course, $n$ cannot exceed $𝜅$\n",
    "* The final roll, $n$ is not successful:\n",
    "$$\\text {condition D} = (1-p)$$\n",
    "\n",
    "The probability that all of these conditions are met for any value of $n$ in the range $1..𝜅$ is\n",
    "$$\\text {Timeouts} = A\\cap B\\cap C\\cap D = (1-p)^{n}\\cdot \\frac {1}{𝜅-n+1}\\cdot \\left (1-\\frac {n-1}{𝜅}\\right )$$"
   ]
  },
  {
   "cell_type": "code",
   "execution_count": 6,
   "id": "1b83bb45",
   "metadata": {},
   "outputs": [
    {
     "data": {
      "image/png": "[encoded data removed]",
      "text/plain": [
       "<Figure size 432x288 with 1 Axes>"
      ]
     },
     "metadata": {
      "needs_background": "light"
     },
     "output_type": "display_data"
    }
   ],
   "source": [
    "n = np.linspace(1,𝜅,𝜅)\n",
    "Timeout = (1-p)**(n)*(1/(𝜅-n+1))*(1-(n-1)/𝜅)\n",
    "plt.plot(n, Timeout);"
   ]
  },
  {
   "cell_type": "markdown",
   "id": "ad356b18",
   "metadata": {},
   "source": [
    "We can observe this in our experimental data as the normalized number of trials ending without success at each value of $n$ on the interval $(1..𝜅)$"
   ]
  },
  {
   "cell_type": "code",
   "execution_count": 7,
   "id": "0939aabc",
   "metadata": {},
   "outputs": [
    {
     "data": {
      "image/png": "[encoded data removed]",
      "text/plain": [
       "<Figure size 432x288 with 1 Axes>"
      ]
     },
     "metadata": {
      "needs_background": "light"
     },
     "output_type": "display_data"
    }
   ],
   "source": [
    "empirical_timeouts = df[~df['success']].groupby('n').count()/len(df)\n",
    "\n",
    "plt.plot(empirical_timeouts)\n",
    "plt.plot(Timeout)\n",
    "plt.xlabel('$n$ = number of rolls')\n",
    "plt.ylabel('Number of trials ending in timeout');"
   ]
  },
  {
   "cell_type": "markdown",
   "id": "89bbb66c",
   "metadata": {},
   "source": [
    "## Successful Runs\n",
    "\n",
    "By similar logic, we can identify the conditions necessary for a successful trial, that is one that ends when a 1 is rolled on or before the timeout.\n",
    "\n",
    "* None of the previous $n-1$ rolls yielded a 1:\n",
    "$$\\text {condition X} = (1-p)^{n-1}$$\n",
    "\n",
    "* None of the previous runs resulted in timeout:\n",
    "$$\\text {conditon Y} = 1 - \\frac {n-1}{𝜅}$$\n",
    "\n",
    "* The current run, $n$ does result in a 1:\n",
    "$$\\text {condition Z} = p$$\n",
    "\n",
    "The probability that all of these conditions is met for any value of $n$ is:\n",
    "\n",
    "$$\\text {Successes} = X\\cap Y\\cap Z = p\\cdot (1-p)^{n-1}\\cdot \\left (1 - \\frac {n-1}{𝜅}\\right )$$\n",
    "\n",
    "We can compare this value to the empirical evidence of successful runs:"
   ]
  },
  {
   "cell_type": "code",
   "execution_count": 8,
   "id": "264a2f76",
   "metadata": {},
   "outputs": [
    {
     "data": {
      "image/png": "[encoded data removed]",
      "text/plain": [
       "<Figure size 432x288 with 1 Axes>"
      ]
     },
     "metadata": {
      "needs_background": "light"
     },
     "output_type": "display_data"
    }
   ],
   "source": [
    "Successes = p*(1-p)**(n-1)*(1-(n-1)/𝜅)\n",
    "empirical_successes = df[df['success']].groupby('n').count()/len(df)\n",
    "\n",
    "plt.plot(n, Successes)\n",
    "plt.plot(empirical_successes)\n",
    "plt.xlabel('$n$ = number of rolls')\n",
    "plt.ylabel('Number of trials ending success');"
   ]
  },
  {
   "cell_type": "markdown",
   "id": "67bf9c95",
   "metadata": {},
   "source": [
    "## Success Ratio\n",
    "\n",
    "Next we combine these equations for Successes and Timeouts to get the probability that a trial will be successful at any value of $n$.\n",
    "\n",
    "$$P_{success} = \\frac {Successes}{Successes + Timeouts}$$\n",
    "\n",
    "$$= \\frac {1}{1+\\frac {Timeouts}{Successes}}$$\n",
    "\n",
    "$$ = \\frac {1}{1+ \\frac {(1-p)^{n}\\cdot \\frac {1}{𝜅-n+1}\\cdot \\left (1-\\frac {n-1}{𝜅}\\right )}{p\\cdot (1-p)^{n-1}\\cdot \\left (1 - \\frac {n-1}{𝜅}\\right )}}$$\n",
    "\n",
    "This success ratio can also be determined empirically:"
   ]
  },
  {
   "cell_type": "code",
   "execution_count": 9,
   "id": "8aa05194",
   "metadata": {},
   "outputs": [
    {
     "data": {
      "image/png": "[encoded data removed]",
      "text/plain": [
       "<Figure size 432x288 with 1 Axes>"
      ]
     },
     "metadata": {
      "needs_background": "light"
     },
     "output_type": "display_data"
    }
   ],
   "source": [
    "success_ratio = df.groupby('n')['success'].mean()\n",
    "success_ratio.plot()\n",
    "plt.plot(n, Successes/(Timeout+Successes))\n",
    "plt.xlabel('$n$')\n",
    "plt.ylabel('Portion of trials ending in success');"
   ]
  },
  {
   "cell_type": "markdown",
   "id": "57279325",
   "metadata": {},
   "source": [
    "## Estimated probability\n",
    "\n",
    "All of the values in the equation for $P_{success}$ except for $p$ can be determined from the empirical data.\n",
    "\n",
    "We can rearrange and solve for $p$:\n",
    "\n",
    "$$p = \\frac {P_{success}}{n\\cdot (P_{success}-1) - 𝜅\\cdot P_{success} + 𝜅+1}$$\n",
    "\n",
    "This gives us a value of $p$ estimated for each value of $n$"
   ]
  },
  {
   "cell_type": "code",
   "execution_count": 10,
   "id": "5958b973",
   "metadata": {},
   "outputs": [
    {
     "data": {
      "image/png": "[encoded data removed]",
      "text/plain": [
       "<Figure size 432x288 with 1 Axes>"
      ]
     },
     "metadata": {
      "needs_background": "light"
     },
     "output_type": "display_data"
    }
   ],
   "source": [
    "estimates_of_p = success_ratio/(n*(success_ratio-1)-𝜅*success_ratio+𝜅+1)\n",
    "plt.plot(n, estimates_of_p)\n",
    "plt.xlabel('n')\n",
    "plt.ylabel('estimates of $p$');"
   ]
  },
  {
   "cell_type": "markdown",
   "id": "dec1dbd0",
   "metadata": {},
   "source": [
    "## Final Estimate of $p$\n",
    "\n",
    "To determine the final estimate of $p$, we take the sum of these estimates of $p(n)$, weighted by the normalized number of observations at each value of $n$"
   ]
  },
  {
   "cell_type": "code",
   "execution_count": 11,
   "id": "91dde8ca",
   "metadata": {},
   "outputs": [],
   "source": [
    "weights = df.groupby('n').count().values.flatten()/len(df)\n",
    "\n",
    "final_estimate_of_p = (weights*estimates_of_p).sum()"
   ]
  },
  {
   "cell_type": "markdown",
   "id": "332df5a1",
   "metadata": {},
   "source": [
    "We see that this value compares favorably to our specified value of $p$"
   ]
  },
  {
   "cell_type": "code",
   "execution_count": 12,
   "id": "f06f63b9",
   "metadata": {},
   "outputs": [
    {
     "data": {
      "text/plain": [
       "(0.02458687500343445, 0.025)"
      ]
     },
     "execution_count": 12,
     "metadata": {},
     "output_type": "execute_result"
    }
   ],
   "source": [
    "final_estimate_of_p, p"
   ]
  },
  {
   "cell_type": "markdown",
   "id": "1ee8f529",
   "metadata": {},
   "source": [
    "# Conclusion\n",
    "\n",
    "A good estimate of $p$ (and $N=\\frac {1}{p}$) can be obtained entirely from the empirical data using the following code:"
   ]
  },
  {
   "cell_type": "code",
   "execution_count": 13,
   "id": "0d54ecf3",
   "metadata": {},
   "outputs": [
    {
     "data": {
      "text/plain": [
       "(0.02458687500343445, 40.67210655523785)"
      ]
     },
     "execution_count": 13,
     "metadata": {},
     "output_type": "execute_result"
    }
   ],
   "source": [
    "P = df.groupby('n')['success'].mean()\n",
    "n_observations = df.groupby('n').count().values.flatten()/len(df)\n",
    "kappa = df['n'].max()\n",
    "\n",
    "empirical_p = (P/(n*(P-1)-kappa*P+kappa+1)*n_observations).sum()\n",
    "\n",
    "empirical_p, 1/empirical_p"
   ]
  },
  {
   "cell_type": "markdown",
   "id": "cfe81b4e",
   "metadata": {},
   "source": [
    "### Footnote:\n",
    "\n",
    "By replacing $p = 1/40$ with $p = 1/400$ at the top of this notebook, you can see that this method works remarkably well, even for small ratios of $\\frac {𝜅}{N}$ when over 90% of the trials end in timeout."
   ]
  },
  {
   "cell_type": "code",
   "execution_count": 14,
   "id": "a0bb6519",
   "metadata": {},
   "outputs": [
    {
     "data": {
      "text/plain": [
       "0.024811049959413554"
      ]
     },
     "execution_count": 14,
     "metadata": {},
     "output_type": "execute_result"
    }
   ],
   "source": [
    "np.sum([((df['n']==i)&(df['success'])).sum() for i in n])/df['n'].sum()"
   ]
  },
  {
   "cell_type": "code",
   "execution_count": 15,
   "id": "5b26924f",
   "metadata": {},
   "outputs": [
    {
     "data": {
      "text/plain": [
       "0.02538"
      ]
     },
     "execution_count": 15,
     "metadata": {},
     "output_type": "execute_result"
    }
   ],
   "source": [
    "(df['n']==1&df['success']).mean()"
   ]
  },
  {
   "cell_type": "code",
   "execution_count": 21,
   "id": "4ab1f2f2",
   "metadata": {},
   "outputs": [
    {
     "data": {
      "text/plain": [
       "0.024596074120697014"
      ]
     },
     "execution_count": 21,
     "metadata": {},
     "output_type": "execute_result"
    }
   ],
   "source": [
    "np.mean([((df['n']==i)&(df['success'])).sum()/(df['n']>=i).sum() for i in n])"
   ]
  },
  {
   "cell_type": "code",
   "execution_count": 22,
   "id": "e606cc94",
   "metadata": {},
   "outputs": [
    {
     "data": {
      "text/plain": [
       "0.024596074120697014"
      ]
     },
     "execution_count": 22,
     "metadata": {},
     "output_type": "execute_result"
    }
   ],
   "source": [
    "np.mean([((df['n']==i)&(df['success'])).sum()/(df['n']>=i).sum() for i in n])"
   ]
  },
  {
   "cell_type": "code",
   "execution_count": null,
   "id": "b03819ec",
   "metadata": {},
   "outputs": [],
   "source": []
  }
 ],
 "metadata": {
  "kernelspec": {
   "display_name": "Python 3 (ipykernel)",
   "language": "python",
   "name": "python3"
  },
  "language_info": {
   "codemirror_mode": {
    "name": "ipython",
    "version": 3
   },
   "file_extension": ".py",
   "mimetype": "text/x-python",
   "name": "python",
   "nbconvert_exporter": "python",
   "pygments_lexer": "ipython3",
   "version": "3.9.7"
  }
 },
 "nbformat": 4,
 "nbformat_minor": 5
}
