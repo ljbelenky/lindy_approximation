{
 "cells": [
  {
   "cell_type": "code",
   "execution_count": null,
   "id": "da15469c",
   "metadata": {},
   "outputs": [],
   "source": [
    "import pandas as pd\n",
    "import numpy as np\n",
    "import matplotlib.pyplot as plt\n",
    "from scipy.stats import geom\n",
    "from sklearn.linear_model import LinearRegression as LR\n",
    "from sklearn.linear_model import LogisticRegression as LogR\n",
    "from sklearn.tree import DecisionTreeRegressor as DT\n",
    "np.random.seed(12)"
   ]
  },
  {
   "cell_type": "markdown",
   "id": "612b04fe",
   "metadata": {},
   "source": [
    "# Problem Statement\n",
    "\n",
    "### We have a population of 20,000 people. We want to predict when they might have surgery.\n",
    "\n",
    "## Challenges\n",
    "\n",
    "Everyone is different. There are ten distinct risk factors (e.g, age, weight, blood pressure, cholesterol, etc.) No two people have the same combination of risk factors.\n",
    "\n",
    "We don't know how much each factor increases (or decreases) probability of surgery.\n",
    "\n",
    "No one has surgery exactly when expected.\n",
    "\n",
    "We have very limited data about people.\n"
   ]
  },
  {
   "cell_type": "code",
   "execution_count": null,
   "id": "d5411bb9",
   "metadata": {},
   "outputs": [],
   "source": [
    "features = 10\n",
    "df = pd.DataFrame(data = np.random.random(size = (20000, features)))\n",
    "w = np.random.random(features)-.5"
   ]
  },
  {
   "cell_type": "code",
   "execution_count": null,
   "id": "fb2a2627",
   "metadata": {},
   "outputs": [],
   "source": [
    "intercept = -6"
   ]
  },
  {
   "cell_type": "markdown",
   "id": "46ef36df",
   "metadata": {},
   "source": [
    "The probability of getting surgery (per day) is determined by the risk factors according to:\n",
    "\n",
    "$$\\Large p = \\frac {1}{1+e^{-\\left (x_{0}+\\vec x \\cdot \\vec w\\right )}}$$\n",
    "\n",
    "Where $\\vec x$ is the set of risk factors for each person and $\\vec w$ is the relative hazard associated with each risk factor.\n",
    "\n",
    "We don't know what $\\vec w$ is. We want to be able to discover this from the data."
   ]
  },
  {
   "cell_type": "code",
   "execution_count": null,
   "id": "8f482ce6",
   "metadata": {},
   "outputs": [],
   "source": [
    "p = 1/(1+np.exp(-intercept-df.apply(lambda x:x.dot(w),axis=1)))"
   ]
  },
  {
   "cell_type": "markdown",
   "id": "b771122e",
   "metadata": {},
   "source": [
    "## Here are the risk factors for each person:"
   ]
  },
  {
   "cell_type": "code",
   "execution_count": null,
   "id": "7522eece",
   "metadata": {},
   "outputs": [],
   "source": [
    "df"
   ]
  },
  {
   "cell_type": "markdown",
   "id": "a1c7dc3a",
   "metadata": {},
   "source": [
    "$N$ is the actual number of days until surgery for each person.\n",
    "We don't get to know this becuase we would have to observe everyone for a very long time."
   ]
  },
  {
   "cell_type": "code",
   "execution_count": null,
   "id": "185f8fd1",
   "metadata": {},
   "outputs": [],
   "source": [
    "N = geom(p).rvs()"
   ]
  },
  {
   "cell_type": "markdown",
   "id": "9de7954c",
   "metadata": {},
   "source": [
    "## We only have 180 days of data for each person"
   ]
  },
  {
   "cell_type": "code",
   "execution_count": null,
   "id": "5e085978",
   "metadata": {},
   "outputs": [],
   "source": [
    "timeout = 180"
   ]
  },
  {
   "cell_type": "code",
   "execution_count": null,
   "id": "26f23981",
   "metadata": {},
   "outputs": [],
   "source": [
    "plt.scatter(df[0], N, alpha=.1)\n",
    "plt.axhline(timeout, color='red')\n",
    "plt.xlabel('Risk Factor 0')\n",
    "plt.ylabel('Days to Surgery (Observed and Unobserved)');"
   ]
  },
  {
   "cell_type": "markdown",
   "id": "5cd0baa7",
   "metadata": {},
   "source": [
    "## Any surgery that happens after 180 days is not observed, so we mark it as NaN"
   ]
  },
  {
   "cell_type": "code",
   "execution_count": null,
   "id": "51119b54",
   "metadata": {},
   "outputs": [],
   "source": [
    "df['observation'] = np.where(N<=timeout, N, np.nan)"
   ]
  },
  {
   "cell_type": "markdown",
   "id": "82e4109c",
   "metadata": {},
   "source": [
    "## About 77% of our members do not have surgery within the observation window"
   ]
  },
  {
   "cell_type": "code",
   "execution_count": null,
   "id": "7d442e71",
   "metadata": {},
   "outputs": [],
   "source": [
    "df['observation'].isna().mean()"
   ]
  },
  {
   "cell_type": "markdown",
   "id": "b64ffbbf",
   "metadata": {},
   "source": [
    "## Plots of the Number of days to surgery vs. the risk factors shows no discernable pattern"
   ]
  },
  {
   "cell_type": "code",
   "execution_count": null,
   "id": "3ffdd867",
   "metadata": {},
   "outputs": [],
   "source": [
    "fig, axs = plt.subplots(features, figsize=(10,20))\n",
    "\n",
    "for i, ax in enumerate(axs):\n",
    "    ax.scatter(df[i],df['observation'], s=1)"
   ]
  },
  {
   "cell_type": "markdown",
   "id": "3e98da91",
   "metadata": {},
   "source": [
    "## First, we identify the probability that a person has surgery within the observation window, based on their risk factors."
   ]
  },
  {
   "cell_type": "code",
   "execution_count": null,
   "id": "ecfd9658",
   "metadata": {},
   "outputs": [],
   "source": [
    "S = np.where(df['observation'].isna(),\n",
    "                   LogR().fit(df.iloc[:,:features],df['observation'].isna())\\\n",
    ".predict_proba(df.iloc[:,:features])[:,0],\n",
    "                   np.nan)"
   ]
  },
  {
   "cell_type": "markdown",
   "id": "a7821658",
   "metadata": {},
   "source": [
    "## Next, we create a place-holder value, an estimate of the number of days in the future when we think they might have surgery:\n",
    "\n",
    "$$Λ = k + \\frac {1}{1-\\left (1-S \\right )^{\\frac {1}{k}}}  $$\n",
    "\n",
    "Where $k$ is our timeout (180 days) and $S$ is the estimated probability that a surgery was observed for each member."
   ]
  },
  {
   "cell_type": "code",
   "execution_count": null,
   "id": "95daf27e",
   "metadata": {},
   "outputs": [],
   "source": [
    "Λ = timeout + 1/(1-((1-S)**(1/timeout)))"
   ]
  },
  {
   "cell_type": "code",
   "execution_count": null,
   "id": "f210cd4f",
   "metadata": {},
   "outputs": [],
   "source": [
    "df['x'] = np.where(df['observation'].isna(), Λ, df['observation'])\n",
    "df"
   ]
  },
  {
   "cell_type": "markdown",
   "id": "f06c5505",
   "metadata": {},
   "source": [
    "## We can now use linear regression to use these *anticipated* observations to estimate the averge time to surgery ($\\hat x$) for any combination of risk factors."
   ]
  },
  {
   "cell_type": "code",
   "execution_count": null,
   "id": "e8f24ed2",
   "metadata": {},
   "outputs": [],
   "source": [
    "df['x_pred'] = LR().fit(df.iloc[:,:features],\n",
    "                        df['x']).predict(df.iloc[:,:features])"
   ]
  },
  {
   "cell_type": "code",
   "execution_count": null,
   "id": "7b26e23a",
   "metadata": {},
   "outputs": [],
   "source": [
    "df['log_odds'] = LR().fit(df.iloc[:,:features],\n",
    "np.log((1/df['x_pred'])/(1-(1/df['x_pred'])))).predict(df.iloc[:,:features])\n",
    "df"
   ]
  },
  {
   "cell_type": "markdown",
   "id": "ff899f72",
   "metadata": {},
   "source": [
    "## Let's see how our predicted probability, (derived from some really crummy data) corresponds to the ideal probability."
   ]
  },
  {
   "cell_type": "code",
   "execution_count": null,
   "id": "08e58672",
   "metadata": {},
   "outputs": [],
   "source": [
    "plt.scatter(p, 1/(1+1/np.exp(df['log_odds'])), alpha=.25,s=10)\n",
    "plt.xticks(rotation=45)\n",
    "\n",
    "plt.plot([p.min(), p.max()],[p.min(), p.max()],  color = 'red')\n",
    "\n",
    "plt.xlabel('Ideal Probability')\n",
    "plt.ylabel('Estimated Probability');"
   ]
  },
  {
   "cell_type": "markdown",
   "id": "a54e1c53",
   "metadata": {},
   "source": [
    "## Evaluation of Risk Factors\n",
    "\n",
    "We can evaluate how much each feature contributes to a person's risk from the observed data by fitting an equation between the features and the log odds."
   ]
  },
  {
   "cell_type": "code",
   "execution_count": null,
   "id": "36a58eab",
   "metadata": {},
   "outputs": [],
   "source": [
    "lr = LR().fit(df.iloc[:,:features], df['log_odds'])"
   ]
  },
  {
   "cell_type": "markdown",
   "id": "9a58af7c",
   "metadata": {},
   "source": [
    "We can compare these empirical values to the values used to create the dataset:"
   ]
  },
  {
   "cell_type": "code",
   "execution_count": null,
   "id": "5c529fb3",
   "metadata": {},
   "outputs": [],
   "source": [
    "lr.intercept_, intercept"
   ]
  },
  {
   "cell_type": "code",
   "execution_count": null,
   "id": "18376c6e",
   "metadata": {},
   "outputs": [],
   "source": [
    "lr.coef_"
   ]
  },
  {
   "cell_type": "code",
   "execution_count": null,
   "id": "cd583aa5",
   "metadata": {},
   "outputs": [],
   "source": [
    "w"
   ]
  },
  {
   "cell_type": "code",
   "execution_count": null,
   "id": "efe2c1c4",
   "metadata": {},
   "outputs": [],
   "source": [
    "plt.scatter(w, lr.coef_)\n",
    "plt.plot([w.min(), w.max()], [w.min(),w.max()], color = 'red')\n",
    "plt.xlabel('Actual Hazard Coeficients')\n",
    "plt.ylabel('Measured Hazard Coeficients');"
   ]
  },
  {
   "cell_type": "markdown",
   "id": "81cab7fc",
   "metadata": {},
   "source": [
    "## Question:\n",
    "\n",
    "### How many people in our data set *would* have surgery in 6-18 months?"
   ]
  },
  {
   "cell_type": "code",
   "execution_count": null,
   "id": "c1ce5baf",
   "metadata": {},
   "outputs": [],
   "source": [
    "((N>180)&(N<540)).sum()"
   ]
  },
  {
   "cell_type": "markdown",
   "id": "8b09ec9b",
   "metadata": {},
   "source": [
    "### How many people were *observed* to have surgery in 6-18 months?"
   ]
  },
  {
   "cell_type": "code",
   "execution_count": null,
   "id": "b8dc03a4",
   "metadata": {},
   "outputs": [],
   "source": [
    "((df['observation']>180)&(df['observation']<540)).sum()"
   ]
  },
  {
   "cell_type": "markdown",
   "id": "212ff465",
   "metadata": {},
   "source": [
    "### How many people are *predicted* to have surgery in 6-18 months?"
   ]
  },
  {
   "cell_type": "code",
   "execution_count": null,
   "id": "c3020c45",
   "metadata": {},
   "outputs": [],
   "source": [
    "p_predicted = 1/(1+1/np.exp(df['log_odds']))\n",
    "(geom(p_predicted).cdf(540)-geom(p_predicted).cdf(180)).sum()"
   ]
  }
 ],
 "metadata": {
  "kernelspec": {
   "display_name": "Python 3 (ipykernel)",
   "language": "python",
   "name": "python3"
  },
  "language_info": {
   "codemirror_mode": {
    "name": "ipython",
    "version": 3
   },
   "file_extension": ".py",
   "mimetype": "text/x-python",
   "name": "python",
   "nbconvert_exporter": "python",
   "pygments_lexer": "ipython3",
   "version": "3.9.7"
  }
 },
 "nbformat": 4,
 "nbformat_minor": 5
}
